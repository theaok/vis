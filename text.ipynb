{
  "nbformat": 4,
  "nbformat_minor": 0,
  "metadata": {
    "colab": {
      "provenance": [],
      "authorship_tag": "ABX9TyP9rvP9BR8eqSySHIMnk+BP",
      "include_colab_link": true
    },
    "kernelspec": {
      "name": "python3",
      "display_name": "Python 3"
    },
    "language_info": {
      "name": "python"
    }
  },
  "cells": [
    {
      "cell_type": "markdown",
      "metadata": {
        "id": "view-in-github",
        "colab_type": "text"
      },
      "source": [
        "<a href=\"https://colab.research.google.com/github/theaok/vis/blob/main/text.ipynb\" target=\"_parent\"><img src=\"https://colab.research.google.com/assets/colab-badge.svg\" alt=\"Open In Colab\"/></a>"
      ]
    },
    {
      "cell_type": "markdown",
      "source": [
        "start with word clouds"
      ],
      "metadata": {
        "id": "hHqQJUzW89w_"
      }
    },
    {
      "cell_type": "markdown",
      "source": [
        "TODO!\n",
        "\n",
        "https://towardsdatascience.com/how-to-convert-any-text-into-a-graph-of-concepts-110844f22a1a"
      ],
      "metadata": {
        "id": "vwFqn-uc87WY"
      }
    }
  ]
}