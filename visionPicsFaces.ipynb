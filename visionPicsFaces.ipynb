{
  "nbformat": 4,
  "nbformat_minor": 0,
  "metadata": {
    "colab": {
      "provenance": [],
      "authorship_tag": "ABX9TyMOJEs6+dtJwO2aC0ey7PrK",
      "include_colab_link": true
    },
    "kernelspec": {
      "name": "python3",
      "display_name": "Python 3"
    },
    "language_info": {
      "name": "python"
    }
  },
  "cells": [
    {
      "cell_type": "markdown",
      "metadata": {
        "id": "view-in-github",
        "colab_type": "text"
      },
      "source": [
        "<a href=\"https://colab.research.google.com/github/theaok/vis/blob/main/visionPicsFaces.ipynb\" target=\"_parent\"><img src=\"https://colab.research.google.com/assets/colab-badge.svg\" alt=\"Open In Colab\"/></a>"
      ]
    },
    {
      "cell_type": "markdown",
      "source": [
        "definitely look at this kind of stuff, also like these googles/glases to see what a person looks at in the picture; and basics are like in that automatebpringstuff book"
      ],
      "metadata": {
        "id": "hHqQJUzW89w_"
      }
    },
    {
      "cell_type": "markdown",
      "source": [
        "TODO! nice!!!\n",
        "\n",
        "https://github.com/Idilismiguzel/Computer-Vision\n",
        "\n",
        "https://github.com/Idilismiguzel/Facial-Keypoints-Detection"
      ],
      "metadata": {
        "id": "vwFqn-uc87WY"
      }
    }
  ]
}