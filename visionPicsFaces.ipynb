{
  "nbformat": 4,
  "nbformat_minor": 0,
  "metadata": {
    "colab": {
      "provenance": [],
      "authorship_tag": "ABX9TyOoDNT4zJX377/GXjtdMPf+",
      "include_colab_link": true
    },
    "kernelspec": {
      "name": "python3",
      "display_name": "Python 3"
    },
    "language_info": {
      "name": "python"
    }
  },
  "cells": [
    {
      "cell_type": "markdown",
      "metadata": {
        "id": "view-in-github",
        "colab_type": "text"
      },
      "source": [
        "<a href=\"https://colab.research.google.com/github/theaok/vis/blob/main/visionPicsFaces.ipynb\" target=\"_parent\"><img src=\"https://colab.research.google.com/assets/colab-badge.svg\" alt=\"Open In Colab\"/></a>"
      ]
    },
    {
      "cell_type": "markdown",
      "source": [
        "TODO! nice!!!\n",
        "\n",
        "https://github.com/Idilismiguzel/Computer-Vision\n",
        "\n",
        "https://github.com/Idilismiguzel/Facial-Keypoints-Detection"
      ],
      "metadata": {
        "id": "BSE_eXQ_8YB2"
      }
    },
    {
      "cell_type": "code",
      "execution_count": null,
      "metadata": {
        "id": "cXEJWab97gaB"
      },
      "outputs": [],
      "source": []
    }
  ]
}