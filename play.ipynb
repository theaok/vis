{
  "nbformat": 4,
  "nbformat_minor": 0,
  "metadata": {
    "colab": {
      "provenance": [],
      "toc_visible": true,
      "authorship_tag": "ABX9TyMtmLDZ+srf5g8uKlkWeQ2I",
      "include_colab_link": true
    },
    "kernelspec": {
      "name": "python3",
      "display_name": "Python 3"
    },
    "language_info": {
      "name": "python"
    }
  },
  "cells": [
    {
      "cell_type": "markdown",
      "metadata": {
        "id": "view-in-github",
        "colab_type": "text"
      },
      "source": [
        "<a href=\"https://colab.research.google.com/github/theaok/vis/blob/main/play.ipynb\" target=\"_parent\"><img src=\"https://colab.research.google.com/assets/colab-badge.svg\" alt=\"Open In Colab\"/></a>"
      ]
    },
    {
      "cell_type": "markdown",
      "source": [
        "this is place to play with graphs and experiment\n",
        "\n",
        "and also a placeholder to keep stuff than may incorprorate later"
      ],
      "metadata": {
        "id": "anOZ6YrIsGNH"
      }
    },
    {
      "cell_type": "code",
      "execution_count": 26,
      "metadata": {
        "id": "QWhAT7KuTVz8"
      },
      "outputs": [],
      "source": [
        "import time, os, sys, re #basics\n",
        "import zipfile, json, datetime, string   #string for annotating points in scatter \n",
        "import numpy as np\n",
        "from statistics import *\n",
        "\n",
        "import matplotlib.pyplot as plt #import pylab as plt #apparently discouraged now: \n",
        " #https://stackoverflow.com/questions/11469336/what-is-the-difference-between-pylab-and-pyplot\n",
        " #https://www.tutorialspoint.com/matplotlib/matplotlib_pylab_module.htm\n",
        "\n",
        "import pandas as pd\n",
        "import pandas_datareader as pdr\n",
        "from pandas_datareader import wb\n",
        "from pandas.io.formats.style import Styler\n",
        "#s4 = Styler(df4, uuid_len=0, cell_ids=False)\n",
        "\n",
        "import urllib  #weird, guess need to have os and pandas imported for this to work                                                  \n",
        "\n",
        "from google.colab import files\n",
        "\n",
        "import webbrowser                                                                      \n",
        "import folium as f                                                                     \n",
        "from folium.plugins import MarkerCluster, HeatMap                                      \n",
        "\n",
        "#! pip install geocoder #]later maybe\n",
        "#! pip install geopandas #this is how you install packages on colab\n",
        "#import geopandas as gpd                                                                                       \n",
        "#from geopy.geocoders import Nominatim #later maybe\n",
        "\n",
        "import seaborn as sns\n",
        "\n",
        "from google.colab import data_table\n",
        "data_table.enable_dataframe_formatter() #this enables spreadsheet view upon calling dataframe (without() )\n",
        "\n",
        "#!pip install mpld3 #LATER to zoom graphs and pop up info on hover\n",
        "#import mpld3\n",
        "\n",
        "#many tricks how to extend notebook functionality\n",
        "#https://coderzcolumn.com/tutorials/python/list-of-useful-magic-commands-in-jupyter-notebook-lab\n",
        "#will display all output not just last command\n",
        "from IPython.core.interactiveshell import InteractiveShell\n",
        "InteractiveShell.ast_node_interactivity = \"all\""
      ]
    },
    {
      "cell_type": "code",
      "source": [
        "!wget -q -O auto.dta https://docs.google.com/uc?id=1YpkQ-RgAQfB_4olxtbfRWnVmKwkXml5N&export=download\n",
        "auto=pd.read_stata('auto.dta'); auto.head(2)"
      ],
      "metadata": {
        "id": "UoCQ8x3NTyO2",
        "outputId": "0dd442f1-46ed-4f83-fa9a-d0290f9961c4",
        "colab": {
          "base_uri": "https://localhost:8080/",
          "height": 132
        }
      },
      "execution_count": 27,
      "outputs": [
        {
          "output_type": "execute_result",
          "data": {
            "text/plain": [
              "          make  price  mpg  rep78  headroom  trunk  weight  length  turn  \\\n",
              "0  AMC Concord   4099   22    3.0       2.5     11    2930     186    40   \n",
              "1    AMC Pacer   4749   17    3.0       3.0     11    3350     173    40   \n",
              "\n",
              "   displacement  gear_ratio   foreign  \n",
              "0           121        3.58  Domestic  \n",
              "1           258        2.53  Domestic  "
            ],
            "text/html": [
              "\n",
              "  <div id=\"df-4267d9cb-3c82-4edc-b365-5641021f4168\">\n",
              "    <div class=\"colab-df-container\">\n",
              "      <div>\n",
              "<style scoped>\n",
              "    .dataframe tbody tr th:only-of-type {\n",
              "        vertical-align: middle;\n",
              "    }\n",
              "\n",
              "    .dataframe tbody tr th {\n",
              "        vertical-align: top;\n",
              "    }\n",
              "\n",
              "    .dataframe thead th {\n",
              "        text-align: right;\n",
              "    }\n",
              "</style>\n",
              "<table border=\"1\" class=\"dataframe\">\n",
              "  <thead>\n",
              "    <tr style=\"text-align: right;\">\n",
              "      <th></th>\n",
              "      <th>make</th>\n",
              "      <th>price</th>\n",
              "      <th>mpg</th>\n",
              "      <th>rep78</th>\n",
              "      <th>headroom</th>\n",
              "      <th>trunk</th>\n",
              "      <th>weight</th>\n",
              "      <th>length</th>\n",
              "      <th>turn</th>\n",
              "      <th>displacement</th>\n",
              "      <th>gear_ratio</th>\n",
              "      <th>foreign</th>\n",
              "    </tr>\n",
              "  </thead>\n",
              "  <tbody>\n",
              "    <tr>\n",
              "      <th>0</th>\n",
              "      <td>AMC Concord</td>\n",
              "      <td>4099</td>\n",
              "      <td>22</td>\n",
              "      <td>3.0</td>\n",
              "      <td>2.5</td>\n",
              "      <td>11</td>\n",
              "      <td>2930</td>\n",
              "      <td>186</td>\n",
              "      <td>40</td>\n",
              "      <td>121</td>\n",
              "      <td>3.58</td>\n",
              "      <td>Domestic</td>\n",
              "    </tr>\n",
              "    <tr>\n",
              "      <th>1</th>\n",
              "      <td>AMC Pacer</td>\n",
              "      <td>4749</td>\n",
              "      <td>17</td>\n",
              "      <td>3.0</td>\n",
              "      <td>3.0</td>\n",
              "      <td>11</td>\n",
              "      <td>3350</td>\n",
              "      <td>173</td>\n",
              "      <td>40</td>\n",
              "      <td>258</td>\n",
              "      <td>2.53</td>\n",
              "      <td>Domestic</td>\n",
              "    </tr>\n",
              "  </tbody>\n",
              "</table>\n",
              "</div>\n",
              "      <button class=\"colab-df-convert\" onclick=\"convertToInteractive('df-4267d9cb-3c82-4edc-b365-5641021f4168')\"\n",
              "              title=\"Convert this dataframe to an interactive table.\"\n",
              "              style=\"display:none;\">\n",
              "        \n",
              "  <svg xmlns=\"http://www.w3.org/2000/svg\" height=\"24px\"viewBox=\"0 0 24 24\"\n",
              "       width=\"24px\">\n",
              "    <path d=\"M0 0h24v24H0V0z\" fill=\"none\"/>\n",
              "    <path d=\"M18.56 5.44l.94 2.06.94-2.06 2.06-.94-2.06-.94-.94-2.06-.94 2.06-2.06.94zm-11 1L8.5 8.5l.94-2.06 2.06-.94-2.06-.94L8.5 2.5l-.94 2.06-2.06.94zm10 10l.94 2.06.94-2.06 2.06-.94-2.06-.94-.94-2.06-.94 2.06-2.06.94z\"/><path d=\"M17.41 7.96l-1.37-1.37c-.4-.4-.92-.59-1.43-.59-.52 0-1.04.2-1.43.59L10.3 9.45l-7.72 7.72c-.78.78-.78 2.05 0 2.83L4 21.41c.39.39.9.59 1.41.59.51 0 1.02-.2 1.41-.59l7.78-7.78 2.81-2.81c.8-.78.8-2.07 0-2.86zM5.41 20L4 18.59l7.72-7.72 1.47 1.35L5.41 20z\"/>\n",
              "  </svg>\n",
              "      </button>\n",
              "      \n",
              "  <style>\n",
              "    .colab-df-container {\n",
              "      display:flex;\n",
              "      flex-wrap:wrap;\n",
              "      gap: 12px;\n",
              "    }\n",
              "\n",
              "    .colab-df-convert {\n",
              "      background-color: #E8F0FE;\n",
              "      border: none;\n",
              "      border-radius: 50%;\n",
              "      cursor: pointer;\n",
              "      display: none;\n",
              "      fill: #1967D2;\n",
              "      height: 32px;\n",
              "      padding: 0 0 0 0;\n",
              "      width: 32px;\n",
              "    }\n",
              "\n",
              "    .colab-df-convert:hover {\n",
              "      background-color: #E2EBFA;\n",
              "      box-shadow: 0px 1px 2px rgba(60, 64, 67, 0.3), 0px 1px 3px 1px rgba(60, 64, 67, 0.15);\n",
              "      fill: #174EA6;\n",
              "    }\n",
              "\n",
              "    [theme=dark] .colab-df-convert {\n",
              "      background-color: #3B4455;\n",
              "      fill: #D2E3FC;\n",
              "    }\n",
              "\n",
              "    [theme=dark] .colab-df-convert:hover {\n",
              "      background-color: #434B5C;\n",
              "      box-shadow: 0px 1px 3px 1px rgba(0, 0, 0, 0.15);\n",
              "      filter: drop-shadow(0px 1px 2px rgba(0, 0, 0, 0.3));\n",
              "      fill: #FFFFFF;\n",
              "    }\n",
              "  </style>\n",
              "\n",
              "      <script>\n",
              "        const buttonEl =\n",
              "          document.querySelector('#df-4267d9cb-3c82-4edc-b365-5641021f4168 button.colab-df-convert');\n",
              "        buttonEl.style.display =\n",
              "          google.colab.kernel.accessAllowed ? 'block' : 'none';\n",
              "\n",
              "        async function convertToInteractive(key) {\n",
              "          const element = document.querySelector('#df-4267d9cb-3c82-4edc-b365-5641021f4168');\n",
              "          const dataTable =\n",
              "            await google.colab.kernel.invokeFunction('convertToInteractive',\n",
              "                                                     [key], {});\n",
              "          if (!dataTable) return;\n",
              "\n",
              "          const docLinkHtml = 'Like what you see? Visit the ' +\n",
              "            '<a target=\"_blank\" href=https://colab.research.google.com/notebooks/data_table.ipynb>data table notebook</a>'\n",
              "            + ' to learn more about interactive tables.';\n",
              "          element.innerHTML = '';\n",
              "          dataTable['output_type'] = 'display_data';\n",
              "          await google.colab.output.renderOutput(dataTable, element);\n",
              "          const docLink = document.createElement('div');\n",
              "          docLink.innerHTML = docLinkHtml;\n",
              "          element.appendChild(docLink);\n",
              "        }\n",
              "      </script>\n",
              "    </div>\n",
              "  </div>\n",
              "  "
            ],
            "application/vnd.google.colaboratory.module+javascript": "\n      import \"https://ssl.gstatic.com/colaboratory/data_table/fb998edc550c7947/data_table.js\";\n\n      window.createDataTable({\n        data: [[{\n            'v': 0,\n            'f': \"0\",\n        },\n\"AMC Concord\",\n{\n            'v': 4099,\n            'f': \"4099\",\n        },\n{\n            'v': 22,\n            'f': \"22\",\n        },\n{\n            'v': 3.0,\n            'f': \"3.0\",\n        },\n{\n            'v': 2.5,\n            'f': \"2.5\",\n        },\n{\n            'v': 11,\n            'f': \"11\",\n        },\n{\n            'v': 2930,\n            'f': \"2930\",\n        },\n{\n            'v': 186,\n            'f': \"186\",\n        },\n{\n            'v': 40,\n            'f': \"40\",\n        },\n{\n            'v': 121,\n            'f': \"121\",\n        },\n{\n            'v': 3.5799999237060547,\n            'f': \"3.5799999237060547\",\n        },\n\"Domestic\"],\n [{\n            'v': 1,\n            'f': \"1\",\n        },\n\"AMC Pacer\",\n{\n            'v': 4749,\n            'f': \"4749\",\n        },\n{\n            'v': 17,\n            'f': \"17\",\n        },\n{\n            'v': 3.0,\n            'f': \"3.0\",\n        },\n{\n            'v': 3.0,\n            'f': \"3.0\",\n        },\n{\n            'v': 11,\n            'f': \"11\",\n        },\n{\n            'v': 3350,\n            'f': \"3350\",\n        },\n{\n            'v': 173,\n            'f': \"173\",\n        },\n{\n            'v': 40,\n            'f': \"40\",\n        },\n{\n            'v': 258,\n            'f': \"258\",\n        },\n{\n            'v': 2.5299999713897705,\n            'f': \"2.5299999713897705\",\n        },\n\"Domestic\"]],\n        columns: [[\"number\", \"index\"], [\"string\", \"make\"], [\"number\", \"price\"], [\"number\", \"mpg\"], [\"number\", \"rep78\"], [\"number\", \"headroom\"], [\"number\", \"trunk\"], [\"number\", \"weight\"], [\"number\", \"length\"], [\"number\", \"turn\"], [\"number\", \"displacement\"], [\"number\", \"gear_ratio\"], [\"string\", \"foreign\"]],\n        columnOptions: [{\"width\": \"1px\", \"className\": \"index_column\"}],\n        rowsPerPage: 25,\n        helpUrl: \"https://colab.research.google.com/notebooks/data_table.ipynb\",\n        suppressOutputScrolling: true,\n        minimumWidth: undefined,\n      });\n    "
          },
          "metadata": {},
          "execution_count": 27
        }
      ]
    },
    {
      "cell_type": "markdown",
      "source": [
        "# groupby and loop [basic example already in all:mpl setup/basic; MAYBE/LATER add there more from here]"
      ],
      "metadata": {
        "id": "EG9FYigBhl1s"
      }
    },
    {
      "cell_type": "code",
      "source": [
        "g = auto.groupby(['foreign','rep78']) #subset data into n groups\n",
        "g.ngroups"
      ],
      "metadata": {
        "colab": {
          "base_uri": "https://localhost:8080/"
        },
        "id": "VOoOyXpdnaRN",
        "outputId": "ae1fa4c9-2a54-446b-d840-2b2a30617834"
      },
      "execution_count": 234,
      "outputs": [
        {
          "output_type": "execute_result",
          "data": {
            "text/plain": [
              "8"
            ]
          },
          "metadata": {},
          "execution_count": 234
        }
      ]
    },
    {
      "cell_type": "code",
      "source": [
        "for i, (grp, d) in enumerate(g):\n",
        "  print(i,grp)"
      ],
      "metadata": {
        "colab": {
          "base_uri": "https://localhost:8080/"
        },
        "id": "9h0_A44Uny5w",
        "outputId": "06d764f7-3a60-4000-9f80-525ccd262447"
      },
      "execution_count": 235,
      "outputs": [
        {
          "output_type": "stream",
          "name": "stdout",
          "text": [
            "0 ('D', 1.0)\n",
            "1 ('D', 2.0)\n",
            "2 ('D', 3.0)\n",
            "3 ('D', 4.0)\n",
            "4 ('D', 5.0)\n",
            "5 ('F', 3.0)\n",
            "6 ('F', 4.0)\n",
            "7 ('F', 5.0)\n"
          ]
        }
      ]
    },
    {
      "cell_type": "code",
      "source": [
        "#make it cleaner\n",
        "auto.replace({'foreign' : { 'Domestic' : 'D', 'Foreign' : 'F' }},inplace=True)"
      ],
      "metadata": {
        "id": "wPriGWeNpUdG"
      },
      "execution_count": 66,
      "outputs": []
    },
    {
      "cell_type": "code",
      "source": [
        "fig, axs = plt.subplots(1,g.ngroups, sharey=True,sharex=True, tight_layout=True, figsize=(10, 2))\n",
        "for i, (grp, d) in enumerate(g):\n",
        "  axs[i].hist(d['mpg'])\n",
        "  axs[i].set_title(grp)\n",
        "  #axs[i].set_xticklabels('')\n",
        ";"
      ],
      "metadata": {
        "colab": {
          "base_uri": "https://localhost:8080/",
          "height": 450
        },
        "id": "cQZzePrroeYB",
        "outputId": "fa54f76e-85b3-447d-d797-5bea1d0afc11"
      },
      "execution_count": 236,
      "outputs": [
        {
          "output_type": "execute_result",
          "data": {
            "text/plain": [
              "(array([1., 0., 0., 0., 0., 0., 0., 0., 0., 1.]),\n",
              " array([18. , 18.6, 19.2, 19.8, 20.4, 21. , 21.6, 22.2, 22.8, 23.4, 24. ]),\n",
              " <a list of 10 Patch objects>)"
            ]
          },
          "metadata": {},
          "execution_count": 236
        },
        {
          "output_type": "execute_result",
          "data": {
            "text/plain": [
              "Text(0.5, 1.0, \"('D', 1.0)\")"
            ]
          },
          "metadata": {},
          "execution_count": 236
        },
        {
          "output_type": "execute_result",
          "data": {
            "text/plain": [
              "(array([1., 0., 1., 1., 2., 0., 0., 0., 1., 2.]),\n",
              " array([14., 15., 16., 17., 18., 19., 20., 21., 22., 23., 24.]),\n",
              " <a list of 10 Patch objects>)"
            ]
          },
          "metadata": {},
          "execution_count": 236
        },
        {
          "output_type": "execute_result",
          "data": {
            "text/plain": [
              "Text(0.5, 1.0, \"('D', 2.0)\")"
            ]
          },
          "metadata": {},
          "execution_count": 236
        },
        {
          "output_type": "execute_result",
          "data": {
            "text/plain": [
              "(array([ 2.,  3.,  3.,  2., 10.,  4.,  0.,  1.,  0.,  2.]),\n",
              " array([12. , 13.7, 15.4, 17.1, 18.8, 20.5, 22.2, 23.9, 25.6, 27.3, 29. ]),\n",
              " <a list of 10 Patch objects>)"
            ]
          },
          "metadata": {},
          "execution_count": 236
        },
        {
          "output_type": "execute_result",
          "data": {
            "text/plain": [
              "Text(0.5, 1.0, \"('D', 3.0)\")"
            ]
          },
          "metadata": {},
          "execution_count": 236
        },
        {
          "output_type": "execute_result",
          "data": {
            "text/plain": [
              "(array([3., 1., 2., 0., 0., 2., 0., 0., 0., 1.]),\n",
              " array([14. , 15.4, 16.8, 18.2, 19.6, 21. , 22.4, 23.8, 25.2, 26.6, 28. ]),\n",
              " <a list of 10 Patch objects>)"
            ]
          },
          "metadata": {},
          "execution_count": 236
        },
        {
          "output_type": "execute_result",
          "data": {
            "text/plain": [
              "Text(0.5, 1.0, \"('D', 4.0)\")"
            ]
          },
          "metadata": {},
          "execution_count": 236
        },
        {
          "output_type": "execute_result",
          "data": {
            "text/plain": [
              "(array([1., 0., 0., 0., 0., 0., 0., 0., 0., 1.]),\n",
              " array([30. , 30.4, 30.8, 31.2, 31.6, 32. , 32.4, 32.8, 33.2, 33.6, 34. ]),\n",
              " <a list of 10 Patch objects>)"
            ]
          },
          "metadata": {},
          "execution_count": 236
        },
        {
          "output_type": "execute_result",
          "data": {
            "text/plain": [
              "Text(0.5, 1.0, \"('D', 5.0)\")"
            ]
          },
          "metadata": {},
          "execution_count": 236
        },
        {
          "output_type": "execute_result",
          "data": {
            "text/plain": [
              "(array([1., 0., 0., 0., 1., 0., 0., 0., 0., 1.]),\n",
              " array([21. , 21.5, 22. , 22.5, 23. , 23.5, 24. , 24.5, 25. , 25.5, 26. ]),\n",
              " <a list of 10 Patch objects>)"
            ]
          },
          "metadata": {},
          "execution_count": 236
        },
        {
          "output_type": "execute_result",
          "data": {
            "text/plain": [
              "Text(0.5, 1.0, \"('F', 3.0)\")"
            ]
          },
          "metadata": {},
          "execution_count": 236
        },
        {
          "output_type": "execute_result",
          "data": {
            "text/plain": [
              "(array([1., 0., 2., 1., 3., 0., 0., 1., 0., 1.]),\n",
              " array([21. , 21.9, 22.8, 23.7, 24.6, 25.5, 26.4, 27.3, 28.2, 29.1, 30. ]),\n",
              " <a list of 10 Patch objects>)"
            ]
          },
          "metadata": {},
          "execution_count": 236
        },
        {
          "output_type": "execute_result",
          "data": {
            "text/plain": [
              "Text(0.5, 1.0, \"('F', 4.0)\")"
            ]
          },
          "metadata": {},
          "execution_count": 236
        },
        {
          "output_type": "execute_result",
          "data": {
            "text/plain": [
              "(array([4., 0., 0., 1., 0., 1., 0., 2., 0., 1.]),\n",
              " array([17. , 19.4, 21.8, 24.2, 26.6, 29. , 31.4, 33.8, 36.2, 38.6, 41. ]),\n",
              " <a list of 10 Patch objects>)"
            ]
          },
          "metadata": {},
          "execution_count": 236
        },
        {
          "output_type": "execute_result",
          "data": {
            "text/plain": [
              "Text(0.5, 1.0, \"('F', 5.0)\")"
            ]
          },
          "metadata": {},
          "execution_count": 236
        },
        {
          "output_type": "execute_result",
          "data": {
            "text/plain": [
              "''"
            ],
            "application/vnd.google.colaboratory.intrinsic+json": {
              "type": "string"
            }
          },
          "metadata": {},
          "execution_count": 236
        },
        {
          "output_type": "display_data",
          "data": {
            "text/plain": [
              "<Figure size 720x144 with 8 Axes>"
            ],
            "image/png": "[encoded data removed]"
          },
          "metadata": {
            "needs_background": "light"
          }
        }
      ]
    },
    {
      "cell_type": "code",
      "source": [
        "g = auto.groupby(['rep78']) #subset data into n groups\n",
        "g.ngroups"
      ],
      "metadata": {
        "colab": {
          "base_uri": "https://localhost:8080/"
        },
        "id": "5nwIfafIrPdr",
        "outputId": "9cd3bf7c-0ed0-493c-fc64-e1861d316997"
      },
      "execution_count": 72,
      "outputs": [
        {
          "output_type": "execute_result",
          "data": {
            "text/plain": [
              "5"
            ]
          },
          "metadata": {},
          "execution_count": 72
        }
      ]
    },
    {
      "cell_type": "code",
      "source": [
        "fig, axs = plt.subplots(1,g.ngroups, sharex=True,sharey=True, tight_layout=True, figsize=(9, 3))\n",
        "for i, (grp, d) in enumerate(g):\n",
        "  axs[i].hist(d.mpg[d.foreign==\"D\"])  \n",
        "  axs[i].hist(d.mpg[d.foreign==\"F\"],alpha=.5)\n",
        "  axs[i].set_title(grp)\n",
        "  #axs[i].set_xticklabels('')\n",
        ";"
      ],
      "metadata": {
        "colab": {
          "base_uri": "https://localhost:8080/",
          "height": 592
        },
        "id": "RmeFxBTIsWbl",
        "outputId": "f9b52f98-c83a-495b-95cb-5ebd7d7d71f9"
      },
      "execution_count": 139,
      "outputs": [
        {
          "output_type": "execute_result",
          "data": {
            "text/plain": [
              "(array([1., 0., 0., 0., 0., 0., 0., 0., 0., 1.]),\n",
              " array([18. , 18.6, 19.2, 19.8, 20.4, 21. , 21.6, 22.2, 22.8, 23.4, 24. ]),\n",
              " <a list of 10 Patch objects>)"
            ]
          },
          "metadata": {},
          "execution_count": 139
        },
        {
          "output_type": "execute_result",
          "data": {
            "text/plain": [
              "(array([0., 0., 0., 0., 0., 0., 0., 0., 0., 0.]),\n",
              " array([0. , 0.1, 0.2, 0.3, 0.4, 0.5, 0.6, 0.7, 0.8, 0.9, 1. ]),\n",
              " <a list of 10 Patch objects>)"
            ]
          },
          "metadata": {},
          "execution_count": 139
        },
        {
          "output_type": "execute_result",
          "data": {
            "text/plain": [
              "Text(0.5, 1.0, '1.0')"
            ]
          },
          "metadata": {},
          "execution_count": 139
        },
        {
          "output_type": "execute_result",
          "data": {
            "text/plain": [
              "(array([1., 0., 1., 1., 2., 0., 0., 0., 1., 2.]),\n",
              " array([14., 15., 16., 17., 18., 19., 20., 21., 22., 23., 24.]),\n",
              " <a list of 10 Patch objects>)"
            ]
          },
          "metadata": {},
          "execution_count": 139
        },
        {
          "output_type": "execute_result",
          "data": {
            "text/plain": [
              "(array([0., 0., 0., 0., 0., 0., 0., 0., 0., 0.]),\n",
              " array([0. , 0.1, 0.2, 0.3, 0.4, 0.5, 0.6, 0.7, 0.8, 0.9, 1. ]),\n",
              " <a list of 10 Patch objects>)"
            ]
          },
          "metadata": {},
          "execution_count": 139
        },
        {
          "output_type": "execute_result",
          "data": {
            "text/plain": [
              "Text(0.5, 1.0, '2.0')"
            ]
          },
          "metadata": {},
          "execution_count": 139
        },
        {
          "output_type": "execute_result",
          "data": {
            "text/plain": [
              "(array([ 2.,  3.,  3.,  2., 10.,  4.,  0.,  1.,  0.,  2.]),\n",
              " array([12. , 13.7, 15.4, 17.1, 18.8, 20.5, 22.2, 23.9, 25.6, 27.3, 29. ]),\n",
              " <a list of 10 Patch objects>)"
            ]
          },
          "metadata": {},
          "execution_count": 139
        },
        {
          "output_type": "execute_result",
          "data": {
            "text/plain": [
              "(array([1., 0., 0., 0., 1., 0., 0., 0., 0., 1.]),\n",
              " array([21. , 21.5, 22. , 22.5, 23. , 23.5, 24. , 24.5, 25. , 25.5, 26. ]),\n",
              " <a list of 10 Patch objects>)"
            ]
          },
          "metadata": {},
          "execution_count": 139
        },
        {
          "output_type": "execute_result",
          "data": {
            "text/plain": [
              "Text(0.5, 1.0, '3.0')"
            ]
          },
          "metadata": {},
          "execution_count": 139
        },
        {
          "output_type": "execute_result",
          "data": {
            "text/plain": [
              "(array([3., 1., 2., 0., 0., 2., 0., 0., 0., 1.]),\n",
              " array([14. , 15.4, 16.8, 18.2, 19.6, 21. , 22.4, 23.8, 25.2, 26.6, 28. ]),\n",
              " <a list of 10 Patch objects>)"
            ]
          },
          "metadata": {},
          "execution_count": 139
        },
        {
          "output_type": "execute_result",
          "data": {
            "text/plain": [
              "(array([1., 0., 2., 1., 3., 0., 0., 1., 0., 1.]),\n",
              " array([21. , 21.9, 22.8, 23.7, 24.6, 25.5, 26.4, 27.3, 28.2, 29.1, 30. ]),\n",
              " <a list of 10 Patch objects>)"
            ]
          },
          "metadata": {},
          "execution_count": 139
        },
        {
          "output_type": "execute_result",
          "data": {
            "text/plain": [
              "Text(0.5, 1.0, '4.0')"
            ]
          },
          "metadata": {},
          "execution_count": 139
        },
        {
          "output_type": "execute_result",
          "data": {
            "text/plain": [
              "(array([1., 0., 0., 0., 0., 0., 0., 0., 0., 1.]),\n",
              " array([30. , 30.4, 30.8, 31.2, 31.6, 32. , 32.4, 32.8, 33.2, 33.6, 34. ]),\n",
              " <a list of 10 Patch objects>)"
            ]
          },
          "metadata": {},
          "execution_count": 139
        },
        {
          "output_type": "execute_result",
          "data": {
            "text/plain": [
              "(array([4., 0., 0., 1., 0., 1., 0., 2., 0., 1.]),\n",
              " array([17. , 19.4, 21.8, 24.2, 26.6, 29. , 31.4, 33.8, 36.2, 38.6, 41. ]),\n",
              " <a list of 10 Patch objects>)"
            ]
          },
          "metadata": {},
          "execution_count": 139
        },
        {
          "output_type": "execute_result",
          "data": {
            "text/plain": [
              "Text(0.5, 1.0, '5.0')"
            ]
          },
          "metadata": {},
          "execution_count": 139
        },
        {
          "output_type": "execute_result",
          "data": {
            "text/plain": [
              "''"
            ],
            "application/vnd.google.colaboratory.intrinsic+json": {
              "type": "string"
            }
          },
          "metadata": {},
          "execution_count": 139
        },
        {
          "output_type": "display_data",
          "data": {
            "text/plain": [
              "<Figure size 648x216 with 5 Axes>"
            ],
            "image/png": "[encoded data removed]"
          },
          "metadata": {
            "needs_background": "light"
          }
        }
      ]
    },
    {
      "cell_type": "code",
      "source": [
        "#note hist easier understood with counts; density has density units on y axis\n",
        "#and density is not relative density across groups, but within each group\n",
        "#that density for F is higher than for D, as in cat 3, doesnt mean there are more F cars:\n",
        "pd.crosstab(auto[\"rep78\"], auto[\"foreign\"])  \n",
        "fig, axs = plt.subplots(1,g.ngroups,sharex=True, sharey=True, tight_layout=True, figsize=(9, 3))\n",
        "for i, (grp, d) in enumerate(g):\n",
        "  d.groupby(d.foreign)['mpg'].plot(kind='density', legend=True,bw_method=0.6,ax=axs[i]) #pandas\n",
        "### separately below\n",
        "  #d.mpg[d.foreign==\"D\"].plot.kde(ax=axs[i]);  \n",
        "  #d.mpg[d.foreign==\"D\"].plot(kind = 'density',bw_method=0.4,ax=axs[i]) #pandas\n",
        "  #try:\n",
        "  #  d.mpg[d.foreign==\"F\"].plot(kind = 'density',bw_method=0.4, ax=axs[i]) #pandas #BUG brekas bc obs doesnt exist\n",
        "  #except Exception: \n",
        "  #  pass\n",
        "  #axs[i].hist(d.mpg[d.foreign==\"D\"])  \n",
        "  #axs[i].hist(d.mpg[d.foreign==\"F\"],alpha=.5)\n",
        "  axs[i].set_title(grp)\n",
        "  #axs[i].set_xticklabels('')\n",
        "#plt.legend([\"D\",\"F\"],loc='upper left',borderpad=.1, labelspacing=.1);"
      ],
      "metadata": {
        "colab": {
          "base_uri": "https://localhost:8080/",
          "height": 647
        },
        "id": "BnH3hgs-t8Or",
        "outputId": "021f2dff-d500-410a-8f69-3006092a8c6f"
      },
      "execution_count": 153,
      "outputs": [
        {
          "output_type": "execute_result",
          "data": {
            "text/plain": [
              "foreign   D  F\n",
              "rep78         \n",
              "1.0       2  0\n",
              "2.0       8  0\n",
              "3.0      27  3\n",
              "4.0       9  9\n",
              "5.0       2  9"
            ],
            "text/html": [
              "\n",
              "  <div id=\"df-f79817f3-b18e-4c25-91f6-e15babe2575a\">\n",
              "    <div class=\"colab-df-container\">\n",
              "      <div>\n",
              "<style scoped>\n",
              "    .dataframe tbody tr th:only-of-type {\n",
              "        vertical-align: middle;\n",
              "    }\n",
              "\n",
              "    .dataframe tbody tr th {\n",
              "        vertical-align: top;\n",
              "    }\n",
              "\n",
              "    .dataframe thead th {\n",
              "        text-align: right;\n",
              "    }\n",
              "</style>\n",
              "<table border=\"1\" class=\"dataframe\">\n",
              "  <thead>\n",
              "    <tr style=\"text-align: right;\">\n",
              "      <th>foreign</th>\n",
              "      <th>D</th>\n",
              "      <th>F</th>\n",
              "    </tr>\n",
              "    <tr>\n",
              "      <th>rep78</th>\n",
              "      <th></th>\n",
              "      <th></th>\n",
              "    </tr>\n",
              "  </thead>\n",
              "  <tbody>\n",
              "    <tr>\n",
              "      <th>1.0</th>\n",
              "      <td>2</td>\n",
              "      <td>0</td>\n",
              "    </tr>\n",
              "    <tr>\n",
              "      <th>2.0</th>\n",
              "      <td>8</td>\n",
              "      <td>0</td>\n",
              "    </tr>\n",
              "    <tr>\n",
              "      <th>3.0</th>\n",
              "      <td>27</td>\n",
              "      <td>3</td>\n",
              "    </tr>\n",
              "    <tr>\n",
              "      <th>4.0</th>\n",
              "      <td>9</td>\n",
              "      <td>9</td>\n",
              "    </tr>\n",
              "    <tr>\n",
              "      <th>5.0</th>\n",
              "      <td>2</td>\n",
              "      <td>9</td>\n",
              "    </tr>\n",
              "  </tbody>\n",
              "</table>\n",
              "</div>\n",
              "      <button class=\"colab-df-convert\" onclick=\"convertToInteractive('df-f79817f3-b18e-4c25-91f6-e15babe2575a')\"\n",
              "              title=\"Convert this dataframe to an interactive table.\"\n",
              "              style=\"display:none;\">\n",
              "        \n",
              "  <svg xmlns=\"http://www.w3.org/2000/svg\" height=\"24px\"viewBox=\"0 0 24 24\"\n",
              "       width=\"24px\">\n",
              "    <path d=\"M0 0h24v24H0V0z\" fill=\"none\"/>\n",
              "    <path d=\"M18.56 5.44l.94 2.06.94-2.06 2.06-.94-2.06-.94-.94-2.06-.94 2.06-2.06.94zm-11 1L8.5 8.5l.94-2.06 2.06-.94-2.06-.94L8.5 2.5l-.94 2.06-2.06.94zm10 10l.94 2.06.94-2.06 2.06-.94-2.06-.94-.94-2.06-.94 2.06-2.06.94z\"/><path d=\"M17.41 7.96l-1.37-1.37c-.4-.4-.92-.59-1.43-.59-.52 0-1.04.2-1.43.59L10.3 9.45l-7.72 7.72c-.78.78-.78 2.05 0 2.83L4 21.41c.39.39.9.59 1.41.59.51 0 1.02-.2 1.41-.59l7.78-7.78 2.81-2.81c.8-.78.8-2.07 0-2.86zM5.41 20L4 18.59l7.72-7.72 1.47 1.35L5.41 20z\"/>\n",
              "  </svg>\n",
              "      </button>\n",
              "      \n",
              "  <style>\n",
              "    .colab-df-container {\n",
              "      display:flex;\n",
              "      flex-wrap:wrap;\n",
              "      gap: 12px;\n",
              "    }\n",
              "\n",
              "    .colab-df-convert {\n",
              "      background-color: #E8F0FE;\n",
              "      border: none;\n",
              "      border-radius: 50%;\n",
              "      cursor: pointer;\n",
              "      display: none;\n",
              "      fill: #1967D2;\n",
              "      height: 32px;\n",
              "      padding: 0 0 0 0;\n",
              "      width: 32px;\n",
              "    }\n",
              "\n",
              "    .colab-df-convert:hover {\n",
              "      background-color: #E2EBFA;\n",
              "      box-shadow: 0px 1px 2px rgba(60, 64, 67, 0.3), 0px 1px 3px 1px rgba(60, 64, 67, 0.15);\n",
              "      fill: #174EA6;\n",
              "    }\n",
              "\n",
              "    [theme=dark] .colab-df-convert {\n",
              "      background-color: #3B4455;\n",
              "      fill: #D2E3FC;\n",
              "    }\n",
              "\n",
              "    [theme=dark] .colab-df-convert:hover {\n",
              "      background-color: #434B5C;\n",
              "      box-shadow: 0px 1px 3px 1px rgba(0, 0, 0, 0.15);\n",
              "      filter: drop-shadow(0px 1px 2px rgba(0, 0, 0, 0.3));\n",
              "      fill: #FFFFFF;\n",
              "    }\n",
              "  </style>\n",
              "\n",
              "      <script>\n",
              "        const buttonEl =\n",
              "          document.querySelector('#df-f79817f3-b18e-4c25-91f6-e15babe2575a button.colab-df-convert');\n",
              "        buttonEl.style.display =\n",
              "          google.colab.kernel.accessAllowed ? 'block' : 'none';\n",
              "\n",
              "        async function convertToInteractive(key) {\n",
              "          const element = document.querySelector('#df-f79817f3-b18e-4c25-91f6-e15babe2575a');\n",
              "          const dataTable =\n",
              "            await google.colab.kernel.invokeFunction('convertToInteractive',\n",
              "                                                     [key], {});\n",
              "          if (!dataTable) return;\n",
              "\n",
              "          const docLinkHtml = 'Like what you see? Visit the ' +\n",
              "            '<a target=\"_blank\" href=https://colab.research.google.com/notebooks/data_table.ipynb>data table notebook</a>'\n",
              "            + ' to learn more about interactive tables.';\n",
              "          element.innerHTML = '';\n",
              "          dataTable['output_type'] = 'display_data';\n",
              "          await google.colab.output.renderOutput(dataTable, element);\n",
              "          const docLink = document.createElement('div');\n",
              "          docLink.innerHTML = docLinkHtml;\n",
              "          element.appendChild(docLink);\n",
              "        }\n",
              "      </script>\n",
              "    </div>\n",
              "  </div>\n",
              "  "
            ],
            "application/vnd.google.colaboratory.module+javascript": "\n      import \"https://ssl.gstatic.com/colaboratory/data_table/fb998edc550c7947/data_table.js\";\n\n      window.createDataTable({\n        data: [[{\n            'v': 1.0,\n            'f': \"1.0\",\n        },\n{\n            'v': 2,\n            'f': \"2\",\n        },\n{\n            'v': 0,\n            'f': \"0\",\n        }],\n [{\n            'v': 2.0,\n            'f': \"2.0\",\n        },\n{\n            'v': 8,\n            'f': \"8\",\n        },\n{\n            'v': 0,\n            'f': \"0\",\n        }],\n [{\n            'v': 3.0,\n            'f': \"3.0\",\n        },\n{\n            'v': 27,\n            'f': \"27\",\n        },\n{\n            'v': 3,\n            'f': \"3\",\n        }],\n [{\n            'v': 4.0,\n            'f': \"4.0\",\n        },\n{\n            'v': 9,\n            'f': \"9\",\n        },\n{\n            'v': 9,\n            'f': \"9\",\n        }],\n [{\n            'v': 5.0,\n            'f': \"5.0\",\n        },\n{\n            'v': 2,\n            'f': \"2\",\n        },\n{\n            'v': 9,\n            'f': \"9\",\n        }]],\n        columns: [[\"number\", \"rep78\"], [\"number\", \"D\"], [\"number\", \"F\"]],\n        columnOptions: [{\"width\": \"1px\", \"className\": \"index_column\"}],\n        rowsPerPage: 25,\n        helpUrl: \"https://colab.research.google.com/notebooks/data_table.ipynb\",\n        suppressOutputScrolling: true,\n        minimumWidth: undefined,\n      });\n    "
          },
          "metadata": {},
          "execution_count": 153
        },
        {
          "output_type": "execute_result",
          "data": {
            "text/plain": [
              "foreign\n",
              "D    AxesSubplot(0.125,0.125;0.133621x0.755)\n",
              "Name: mpg, dtype: object"
            ]
          },
          "metadata": {},
          "execution_count": 153
        },
        {
          "output_type": "execute_result",
          "data": {
            "text/plain": [
              "Text(0.5, 1.0, '1.0')"
            ]
          },
          "metadata": {},
          "execution_count": 153
        },
        {
          "output_type": "execute_result",
          "data": {
            "text/plain": [
              "foreign\n",
              "D    AxesSubplot(0.285345,0.125;0.133621x0.755)\n",
              "Name: mpg, dtype: object"
            ]
          },
          "metadata": {},
          "execution_count": 153
        },
        {
          "output_type": "execute_result",
          "data": {
            "text/plain": [
              "Text(0.5, 1.0, '2.0')"
            ]
          },
          "metadata": {},
          "execution_count": 153
        },
        {
          "output_type": "execute_result",
          "data": {
            "text/plain": [
              "foreign\n",
              "D    AxesSubplot(0.44569,0.125;0.133621x0.755)\n",
              "F    AxesSubplot(0.44569,0.125;0.133621x0.755)\n",
              "Name: mpg, dtype: object"
            ]
          },
          "metadata": {},
          "execution_count": 153
        },
        {
          "output_type": "execute_result",
          "data": {
            "text/plain": [
              "Text(0.5, 1.0, '3.0')"
            ]
          },
          "metadata": {},
          "execution_count": 153
        },
        {
          "output_type": "execute_result",
          "data": {
            "text/plain": [
              "foreign\n",
              "D    AxesSubplot(0.606034,0.125;0.133621x0.755)\n",
              "F    AxesSubplot(0.606034,0.125;0.133621x0.755)\n",
              "Name: mpg, dtype: object"
            ]
          },
          "metadata": {},
          "execution_count": 153
        },
        {
          "output_type": "execute_result",
          "data": {
            "text/plain": [
              "Text(0.5, 1.0, '4.0')"
            ]
          },
          "metadata": {},
          "execution_count": 153
        },
        {
          "output_type": "execute_result",
          "data": {
            "text/plain": [
              "foreign\n",
              "D    AxesSubplot(0.766379,0.125;0.133621x0.755)\n",
              "F    AxesSubplot(0.766379,0.125;0.133621x0.755)\n",
              "Name: mpg, dtype: object"
            ]
          },
          "metadata": {},
          "execution_count": 153
        },
        {
          "output_type": "execute_result",
          "data": {
            "text/plain": [
              "Text(0.5, 1.0, '5.0')"
            ]
          },
          "metadata": {},
          "execution_count": 153
        },
        {
          "output_type": "display_data",
          "data": {
            "text/plain": [
              "<Figure size 648x216 with 5 Axes>"
            ],
            "image/png": "[encoded data removed]"
          },
          "metadata": {
            "needs_background": "light"
          }
        }
      ]
    },
    {
      "cell_type": "markdown",
      "source": [
        "# density without looping"
      ],
      "metadata": {
        "id": "4ayRiMTfz3n6"
      }
    },
    {
      "cell_type": "code",
      "source": [
        "#auto.mpg.hist();\n",
        "#auto.mpg.plot(kind = 'hist')\n",
        "auto.mpg.plot(kind = 'density') #pandas\n",
        "sns.kdeplot(auto.mpg, bw_method = .2) #sns Lower values lead to a more “wiggly” plot"
      ],
      "metadata": {
        "colab": {
          "base_uri": "https://localhost:8080/",
          "height": 296
        },
        "id": "ipuOaq91z710",
        "outputId": "57ee49a6-e3e1-472a-b971-dd006c9ba42a"
      },
      "execution_count": 101,
      "outputs": [
        {
          "output_type": "execute_result",
          "data": {
            "text/plain": [
              "<matplotlib.axes._subplots.AxesSubplot at 0x7efca47c0250>"
            ]
          },
          "metadata": {},
          "execution_count": 101
        },
        {
          "output_type": "execute_result",
          "data": {
            "text/plain": [
              "<matplotlib.axes._subplots.AxesSubplot at 0x7efca47c0250>"
            ]
          },
          "metadata": {},
          "execution_count": 101
        },
        {
          "output_type": "display_data",
          "data": {
            "text/plain": [
              "<Figure size 432x288 with 1 Axes>"
            ],
            "image/png": "[encoded data removed]"
          },
          "metadata": {
            "needs_background": "light"
          }
        }
      ]
    },
    {
      "cell_type": "code",
      "source": [
        "auto.mpg.plot.kde(bw_method=0.3); #A scalar bandwidth can be specified. Using a small bandwidth value can lead to over-fitting, while using a large bandwidth value may result in under-fitting"
      ],
      "metadata": {
        "colab": {
          "base_uri": "https://localhost:8080/",
          "height": 265
        },
        "id": "ny5A16LU3d_O",
        "outputId": "dcefbd60-670f-46d7-c647-6df49f368045"
      },
      "execution_count": 140,
      "outputs": [
        {
          "output_type": "display_data",
          "data": {
            "text/plain": [
              "<Figure size 432x288 with 1 Axes>"
            ],
            "image/png": "[encoded data removed]"
          },
          "metadata": {
            "needs_background": "light"
          }
        }
      ]
    },
    {
      "cell_type": "code",
      "source": [
        "auto.mpg.plot.kde(by='foreign');"
      ],
      "metadata": {
        "id": "VTRsv1PJ-Ukb",
        "outputId": "5984955c-91b6-4130-d296-749580acade0",
        "colab": {
          "base_uri": "https://localhost:8080/",
          "height": 265
        }
      },
      "execution_count": 240,
      "outputs": [
        {
          "output_type": "display_data",
          "data": {
            "text/plain": [
              "<Figure size 432x288 with 1 Axes>"
            ],
            "image/png": "[encoded data removed]"
          },
          "metadata": {
            "needs_background": "light"
          }
        }
      ]
    },
    {
      "cell_type": "code",
      "source": [
        "auto.groupby(auto.foreign)['mpg'].plot(kind='density', legend=True)"
      ],
      "metadata": {
        "id": "CzrF3v_2_c4t",
        "outputId": "dedd5522-bbd7-4fce-d2dd-c6072540a3bc",
        "colab": {
          "base_uri": "https://localhost:8080/",
          "height": 334
        }
      },
      "execution_count": 150,
      "outputs": [
        {
          "output_type": "execute_result",
          "data": {
            "text/plain": [
              "foreign\n",
              "D    AxesSubplot(0.125,0.125;0.775x0.755)\n",
              "F    AxesSubplot(0.125,0.125;0.775x0.755)\n",
              "Name: mpg, dtype: object"
            ]
          },
          "metadata": {},
          "execution_count": 150
        },
        {
          "output_type": "display_data",
          "data": {
            "text/plain": [
              "<Figure size 432x288 with 1 Axes>"
            ],
            "image/png": "[encoded data removed]"
          },
          "metadata": {
            "needs_background": "light"
          }
        }
      ]
    },
    {
      "cell_type": "markdown",
      "source": [
        "# ggplot like matrix 2x2 etc of graphs\n",
        "may do sth like these and incorporate at some point"
      ],
      "metadata": {
        "id": "H7RnyePfqSfP"
      }
    },
    {
      "cell_type": "code",
      "source": [
        "#seaborn is fast and easy for complex subsetting; first gen a dummy:\n",
        "auto['longHeavy'] = (auto.weight >= auto.weight.mean()) & (auto.length >= auto.length.mean())\n",
        "#auto #make sure dummy makes sense, sort on different vars, and/or sum stats:\n",
        "pd.pivot_table(auto, index=['longHeavy','foreign'], values= ['weight','length'] ,\n",
        "               aggfunc=['mean','min','max']).round(1)"
      ],
      "metadata": {
        "id": "j_thcAOVqRD5",
        "outputId": "bbef8725-9736-4b91-b968-970df81ef1b3",
        "colab": {
          "base_uri": "https://localhost:8080/",
          "height": 237
        }
      },
      "execution_count": 237,
      "outputs": [
        {
          "output_type": "execute_result",
          "data": {
            "text/plain": [
              "                    mean            min           max       \n",
              "                  length  weight length weight length weight\n",
              "longHeavy foreign                                           \n",
              "False     D        172.1  2540.6    147   1800    195   3350\n",
              "          F        166.2  2218.0    142   1760    189   2830\n",
              "True      D        207.8  3694.3    193   3180    233   4840\n",
              "          F        192.5  3295.0    192   3170    193   3420"
            ],
            "text/html": [
              "\n",
              "  <div id=\"df-49366874-a917-4e5f-b451-e3ac2b567cb4\">\n",
              "    <div class=\"colab-df-container\">\n",
              "      <div>\n",
              "<style scoped>\n",
              "    .dataframe tbody tr th:only-of-type {\n",
              "        vertical-align: middle;\n",
              "    }\n",
              "\n",
              "    .dataframe tbody tr th {\n",
              "        vertical-align: top;\n",
              "    }\n",
              "\n",
              "    .dataframe thead tr th {\n",
              "        text-align: left;\n",
              "    }\n",
              "\n",
              "    .dataframe thead tr:last-of-type th {\n",
              "        text-align: right;\n",
              "    }\n",
              "</style>\n",
              "<table border=\"1\" class=\"dataframe\">\n",
              "  <thead>\n",
              "    <tr>\n",
              "      <th></th>\n",
              "      <th></th>\n",
              "      <th colspan=\"2\" halign=\"left\">mean</th>\n",
              "      <th colspan=\"2\" halign=\"left\">min</th>\n",
              "      <th colspan=\"2\" halign=\"left\">max</th>\n",
              "    </tr>\n",
              "    <tr>\n",
              "      <th></th>\n",
              "      <th></th>\n",
              "      <th>length</th>\n",
              "      <th>weight</th>\n",
              "      <th>length</th>\n",
              "      <th>weight</th>\n",
              "      <th>length</th>\n",
              "      <th>weight</th>\n",
              "    </tr>\n",
              "    <tr>\n",
              "      <th>longHeavy</th>\n",
              "      <th>foreign</th>\n",
              "      <th></th>\n",
              "      <th></th>\n",
              "      <th></th>\n",
              "      <th></th>\n",
              "      <th></th>\n",
              "      <th></th>\n",
              "    </tr>\n",
              "  </thead>\n",
              "  <tbody>\n",
              "    <tr>\n",
              "      <th rowspan=\"2\" valign=\"top\">False</th>\n",
              "      <th>D</th>\n",
              "      <td>172.1</td>\n",
              "      <td>2540.6</td>\n",
              "      <td>147</td>\n",
              "      <td>1800</td>\n",
              "      <td>195</td>\n",
              "      <td>3350</td>\n",
              "    </tr>\n",
              "    <tr>\n",
              "      <th>F</th>\n",
              "      <td>166.2</td>\n",
              "      <td>2218.0</td>\n",
              "      <td>142</td>\n",
              "      <td>1760</td>\n",
              "      <td>189</td>\n",
              "      <td>2830</td>\n",
              "    </tr>\n",
              "    <tr>\n",
              "      <th rowspan=\"2\" valign=\"top\">True</th>\n",
              "      <th>D</th>\n",
              "      <td>207.8</td>\n",
              "      <td>3694.3</td>\n",
              "      <td>193</td>\n",
              "      <td>3180</td>\n",
              "      <td>233</td>\n",
              "      <td>4840</td>\n",
              "    </tr>\n",
              "    <tr>\n",
              "      <th>F</th>\n",
              "      <td>192.5</td>\n",
              "      <td>3295.0</td>\n",
              "      <td>192</td>\n",
              "      <td>3170</td>\n",
              "      <td>193</td>\n",
              "      <td>3420</td>\n",
              "    </tr>\n",
              "  </tbody>\n",
              "</table>\n",
              "</div>\n",
              "      <button class=\"colab-df-convert\" onclick=\"convertToInteractive('df-49366874-a917-4e5f-b451-e3ac2b567cb4')\"\n",
              "              title=\"Convert this dataframe to an interactive table.\"\n",
              "              style=\"display:none;\">\n",
              "        \n",
              "  <svg xmlns=\"http://www.w3.org/2000/svg\" height=\"24px\"viewBox=\"0 0 24 24\"\n",
              "       width=\"24px\">\n",
              "    <path d=\"M0 0h24v24H0V0z\" fill=\"none\"/>\n",
              "    <path d=\"M18.56 5.44l.94 2.06.94-2.06 2.06-.94-2.06-.94-.94-2.06-.94 2.06-2.06.94zm-11 1L8.5 8.5l.94-2.06 2.06-.94-2.06-.94L8.5 2.5l-.94 2.06-2.06.94zm10 10l.94 2.06.94-2.06 2.06-.94-2.06-.94-.94-2.06-.94 2.06-2.06.94z\"/><path d=\"M17.41 7.96l-1.37-1.37c-.4-.4-.92-.59-1.43-.59-.52 0-1.04.2-1.43.59L10.3 9.45l-7.72 7.72c-.78.78-.78 2.05 0 2.83L4 21.41c.39.39.9.59 1.41.59.51 0 1.02-.2 1.41-.59l7.78-7.78 2.81-2.81c.8-.78.8-2.07 0-2.86zM5.41 20L4 18.59l7.72-7.72 1.47 1.35L5.41 20z\"/>\n",
              "  </svg>\n",
              "      </button>\n",
              "      \n",
              "  <style>\n",
              "    .colab-df-container {\n",
              "      display:flex;\n",
              "      flex-wrap:wrap;\n",
              "      gap: 12px;\n",
              "    }\n",
              "\n",
              "    .colab-df-convert {\n",
              "      background-color: #E8F0FE;\n",
              "      border: none;\n",
              "      border-radius: 50%;\n",
              "      cursor: pointer;\n",
              "      display: none;\n",
              "      fill: #1967D2;\n",
              "      height: 32px;\n",
              "      padding: 0 0 0 0;\n",
              "      width: 32px;\n",
              "    }\n",
              "\n",
              "    .colab-df-convert:hover {\n",
              "      background-color: #E2EBFA;\n",
              "      box-shadow: 0px 1px 2px rgba(60, 64, 67, 0.3), 0px 1px 3px 1px rgba(60, 64, 67, 0.15);\n",
              "      fill: #174EA6;\n",
              "    }\n",
              "\n",
              "    [theme=dark] .colab-df-convert {\n",
              "      background-color: #3B4455;\n",
              "      fill: #D2E3FC;\n",
              "    }\n",
              "\n",
              "    [theme=dark] .colab-df-convert:hover {\n",
              "      background-color: #434B5C;\n",
              "      box-shadow: 0px 1px 3px 1px rgba(0, 0, 0, 0.15);\n",
              "      filter: drop-shadow(0px 1px 2px rgba(0, 0, 0, 0.3));\n",
              "      fill: #FFFFFF;\n",
              "    }\n",
              "  </style>\n",
              "\n",
              "      <script>\n",
              "        const buttonEl =\n",
              "          document.querySelector('#df-49366874-a917-4e5f-b451-e3ac2b567cb4 button.colab-df-convert');\n",
              "        buttonEl.style.display =\n",
              "          google.colab.kernel.accessAllowed ? 'block' : 'none';\n",
              "\n",
              "        async function convertToInteractive(key) {\n",
              "          const element = document.querySelector('#df-49366874-a917-4e5f-b451-e3ac2b567cb4');\n",
              "          const dataTable =\n",
              "            await google.colab.kernel.invokeFunction('convertToInteractive',\n",
              "                                                     [key], {});\n",
              "          if (!dataTable) return;\n",
              "\n",
              "          const docLinkHtml = 'Like what you see? Visit the ' +\n",
              "            '<a target=\"_blank\" href=https://colab.research.google.com/notebooks/data_table.ipynb>data table notebook</a>'\n",
              "            + ' to learn more about interactive tables.';\n",
              "          element.innerHTML = '';\n",
              "          dataTable['output_type'] = 'display_data';\n",
              "          await google.colab.output.renderOutput(dataTable, element);\n",
              "          const docLink = document.createElement('div');\n",
              "          docLink.innerHTML = docLinkHtml;\n",
              "          element.appendChild(docLink);\n",
              "        }\n",
              "      </script>\n",
              "    </div>\n",
              "  </div>\n",
              "  "
            ]
          },
          "metadata": {},
          "execution_count": 237
        }
      ]
    },
    {
      "cell_type": "code",
      "source": [
        "sns.displot(auto, x=\"mpg\", col=\"foreign\", row=\"longHeavy\", #note distplot is fig-level so cant do axs\n",
        "    binwidth=1, height=3, facet_kws=dict(margin_titles=True)) #rather for quick and dirty explration than final meaningful polished\n",
        "sns.displot(data=auto, x=\"mpg\", hue=\"foreign\", col=\"longHeavy\",kind=\"kde\"); #height=4, aspect=.7,\n",
        "#g.set_axis_labels(\"Density\", \"mpg\");"
      ],
      "metadata": {
        "id": "3dCH68zZqioX",
        "outputId": "57eb437e-47e7-41e1-d804-49a858c32df8",
        "colab": {
          "base_uri": "https://localhost:8080/",
          "height": 793
        }
      },
      "execution_count": 238,
      "outputs": [
        {
          "output_type": "display_data",
          "data": {
            "text/plain": [
              "<Figure size 432x432 with 4 Axes>"
            ],
            "image/png": "[encoded data removed]"
          },
          "metadata": {
            "needs_background": "light"
          }
        },
        {
          "output_type": "display_data",
          "data": {
            "text/plain": [
              "<Figure size 763.75x360 with 2 Axes>"
            ],
            "image/png": "[encoded data removed]"
          },
          "metadata": {
            "needs_background": "light"
          }
        }
      ]
    },
    {
      "cell_type": "code",
      "source": [
        "sns.displot(auto, x=\"mpg\", col=\"rep78\", row=\"foreign\",\n",
        "    binwidth=2, height=3, facet_kws=dict(margin_titles=True),)\n",
        "sns.displot(data=auto, x=\"mpg\", hue=\"foreign\", col=\"rep78\",kind=\"kde\");    #height=4, aspect=.7,\n",
        "#g.set_axis_labels(\"Density\", \"mpg\");\n",
        "#g.set_titles(\"{col_name} rep78\");"
      ],
      "metadata": {
        "id": "xtX0iT0oqm94",
        "outputId": "b6a10749-06d9-4f0f-8acb-85b610399bf8",
        "colab": {
          "base_uri": "https://localhost:8080/",
          "height": 669
        }
      },
      "execution_count": 239,
      "outputs": [
        {
          "output_type": "display_data",
          "data": {
            "text/plain": [
              "<Figure size 1080x432 with 10 Axes>"
            ],
            "image/png": "[encoded data removed]"
          },
          "metadata": {
            "needs_background": "light"
          }
        },
        {
          "output_type": "display_data",
          "data": {
            "text/plain": [
              "<Figure size 1843.75x360 with 5 Axes>"
            ],
            "image/png": "[encoded data removed]"
          },
          "metadata": {
            "needs_background": "light"
          }
        }
      ]
    }
  ]
}