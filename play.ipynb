{
  "nbformat": 4,
  "nbformat_minor": 0,
  "metadata": {
    "colab": {
      "provenance": [],
      "authorship_tag": "ABX9TyO8uFSmSO1va/FCFyJ4jb0s",
      "include_colab_link": true
    },
    "kernelspec": {
      "name": "python3",
      "display_name": "Python 3"
    },
    "language_info": {
      "name": "python"
    }
  },
  "cells": [
    {
      "cell_type": "markdown",
      "metadata": {
        "id": "view-in-github",
        "colab_type": "text"
      },
      "source": [
        "<a href=\"https://colab.research.google.com/github/theaok/vis/blob/main/play.ipynb\" target=\"_parent\"><img src=\"https://colab.research.google.com/assets/colab-badge.svg\" alt=\"Open In Colab\"/></a>"
      ]
    },
    {
      "cell_type": "code",
      "execution_count": 26,
      "metadata": {
        "id": "QWhAT7KuTVz8"
      },
      "outputs": [],
      "source": [
        "import time, os, sys, re #basics\n",
        "import zipfile, json, datetime, string   #string for annotating points in scatter \n",
        "import numpy as np\n",
        "from statistics import *\n",
        "\n",
        "import matplotlib.pyplot as plt #import pylab as plt #apparently discouraged now: \n",
        " #https://stackoverflow.com/questions/11469336/what-is-the-difference-between-pylab-and-pyplot\n",
        " #https://www.tutorialspoint.com/matplotlib/matplotlib_pylab_module.htm\n",
        "\n",
        "import pandas as pd\n",
        "import pandas_datareader as pdr\n",
        "from pandas_datareader import wb\n",
        "from pandas.io.formats.style import Styler\n",
        "#s4 = Styler(df4, uuid_len=0, cell_ids=False)\n",
        "\n",
        "import urllib  #weird, guess need to have os and pandas imported for this to work                                                  \n",
        "\n",
        "from google.colab import files\n",
        "\n",
        "import webbrowser                                                                      \n",
        "import folium as f                                                                     \n",
        "from folium.plugins import MarkerCluster, HeatMap                                      \n",
        "\n",
        "#! pip install geocoder #]later maybe\n",
        "#! pip install geopandas #this is how you install packages on colab\n",
        "#import geopandas as gpd                                                                                       \n",
        "#from geopy.geocoders import Nominatim #later maybe\n",
        "\n",
        "import seaborn as sns\n",
        "\n",
        "from google.colab import data_table\n",
        "data_table.enable_dataframe_formatter() #this enables spreadsheet view upon calling dataframe (without() )\n",
        "\n",
        "#!pip install mpld3 #LATER to zoom graphs and pop up info on hover\n",
        "#import mpld3\n",
        "\n",
        "#many tricks how to extend notebook functionality\n",
        "#https://coderzcolumn.com/tutorials/python/list-of-useful-magic-commands-in-jupyter-notebook-lab\n",
        "#will display all output not just last command\n",
        "from IPython.core.interactiveshell import InteractiveShell\n",
        "InteractiveShell.ast_node_interactivity = \"all\""
      ]
    },
    {
      "cell_type": "code",
      "source": [
        "!wget -q -O auto.dta https://docs.google.com/uc?id=1YpkQ-RgAQfB_4olxtbfRWnVmKwkXml5N&export=download\n",
        "auto=pd.read_stata('auto.dta'); auto.head(2)"
      ],
      "metadata": {
        "id": "UoCQ8x3NTyO2",
        "outputId": "0dd442f1-46ed-4f83-fa9a-d0290f9961c4",
        "colab": {
          "base_uri": "https://localhost:8080/",
          "height": 132
        }
      },
      "execution_count": 27,
      "outputs": [
        {
          "output_type": "execute_result",
          "data": {
            "text/plain": [
              "          make  price  mpg  rep78  headroom  trunk  weight  length  turn  \\\n",
              "0  AMC Concord   4099   22    3.0       2.5     11    2930     186    40   \n",
              "1    AMC Pacer   4749   17    3.0       3.0     11    3350     173    40   \n",
              "\n",
              "   displacement  gear_ratio   foreign  \n",
              "0           121        3.58  Domestic  \n",
              "1           258        2.53  Domestic  "
            ],
            "text/html": [
              "\n",
              "  <div id=\"df-4267d9cb-3c82-4edc-b365-5641021f4168\">\n",
              "    <div class=\"colab-df-container\">\n",
              "      <div>\n",
              "<style scoped>\n",
              "    .dataframe tbody tr th:only-of-type {\n",
              "        vertical-align: middle;\n",
              "    }\n",
              "\n",
              "    .dataframe tbody tr th {\n",
              "        vertical-align: top;\n",
              "    }\n",
              "\n",
              "    .dataframe thead th {\n",
              "        text-align: right;\n",
              "    }\n",
              "</style>\n",
              "<table border=\"1\" class=\"dataframe\">\n",
              "  <thead>\n",
              "    <tr style=\"text-align: right;\">\n",
              "      <th></th>\n",
              "      <th>make</th>\n",
              "      <th>price</th>\n",
              "      <th>mpg</th>\n",
              "      <th>rep78</th>\n",
              "      <th>headroom</th>\n",
              "      <th>trunk</th>\n",
              "      <th>weight</th>\n",
              "      <th>length</th>\n",
              "      <th>turn</th>\n",
              "      <th>displacement</th>\n",
              "      <th>gear_ratio</th>\n",
              "      <th>foreign</th>\n",
              "    </tr>\n",
              "  </thead>\n",
              "  <tbody>\n",
              "    <tr>\n",
              "      <th>0</th>\n",
              "      <td>AMC Concord</td>\n",
              "      <td>4099</td>\n",
              "      <td>22</td>\n",
              "      <td>3.0</td>\n",
              "      <td>2.5</td>\n",
              "      <td>11</td>\n",
              "      <td>2930</td>\n",
              "      <td>186</td>\n",
              "      <td>40</td>\n",
              "      <td>121</td>\n",
              "      <td>3.58</td>\n",
              "      <td>Domestic</td>\n",
              "    </tr>\n",
              "    <tr>\n",
              "      <th>1</th>\n",
              "      <td>AMC Pacer</td>\n",
              "      <td>4749</td>\n",
              "      <td>17</td>\n",
              "      <td>3.0</td>\n",
              "      <td>3.0</td>\n",
              "      <td>11</td>\n",
              "      <td>3350</td>\n",
              "      <td>173</td>\n",
              "      <td>40</td>\n",
              "      <td>258</td>\n",
              "      <td>2.53</td>\n",
              "      <td>Domestic</td>\n",
              "    </tr>\n",
              "  </tbody>\n",
              "</table>\n",
              "</div>\n",
              "      <button class=\"colab-df-convert\" onclick=\"convertToInteractive('df-4267d9cb-3c82-4edc-b365-5641021f4168')\"\n",
              "              title=\"Convert this dataframe to an interactive table.\"\n",
              "              style=\"display:none;\">\n",
              "        \n",
              "  <svg xmlns=\"http://www.w3.org/2000/svg\" height=\"24px\"viewBox=\"0 0 24 24\"\n",
              "       width=\"24px\">\n",
              "    <path d=\"M0 0h24v24H0V0z\" fill=\"none\"/>\n",
              "    <path d=\"M18.56 5.44l.94 2.06.94-2.06 2.06-.94-2.06-.94-.94-2.06-.94 2.06-2.06.94zm-11 1L8.5 8.5l.94-2.06 2.06-.94-2.06-.94L8.5 2.5l-.94 2.06-2.06.94zm10 10l.94 2.06.94-2.06 2.06-.94-2.06-.94-.94-2.06-.94 2.06-2.06.94z\"/><path d=\"M17.41 7.96l-1.37-1.37c-.4-.4-.92-.59-1.43-.59-.52 0-1.04.2-1.43.59L10.3 9.45l-7.72 7.72c-.78.78-.78 2.05 0 2.83L4 21.41c.39.39.9.59 1.41.59.51 0 1.02-.2 1.41-.59l7.78-7.78 2.81-2.81c.8-.78.8-2.07 0-2.86zM5.41 20L4 18.59l7.72-7.72 1.47 1.35L5.41 20z\"/>\n",
              "  </svg>\n",
              "      </button>\n",
              "      \n",
              "  <style>\n",
              "    .colab-df-container {\n",
              "      display:flex;\n",
              "      flex-wrap:wrap;\n",
              "      gap: 12px;\n",
              "    }\n",
              "\n",
              "    .colab-df-convert {\n",
              "      background-color: #E8F0FE;\n",
              "      border: none;\n",
              "      border-radius: 50%;\n",
              "      cursor: pointer;\n",
              "      display: none;\n",
              "      fill: #1967D2;\n",
              "      height: 32px;\n",
              "      padding: 0 0 0 0;\n",
              "      width: 32px;\n",
              "    }\n",
              "\n",
              "    .colab-df-convert:hover {\n",
              "      background-color: #E2EBFA;\n",
              "      box-shadow: 0px 1px 2px rgba(60, 64, 67, 0.3), 0px 1px 3px 1px rgba(60, 64, 67, 0.15);\n",
              "      fill: #174EA6;\n",
              "    }\n",
              "\n",
              "    [theme=dark] .colab-df-convert {\n",
              "      background-color: #3B4455;\n",
              "      fill: #D2E3FC;\n",
              "    }\n",
              "\n",
              "    [theme=dark] .colab-df-convert:hover {\n",
              "      background-color: #434B5C;\n",
              "      box-shadow: 0px 1px 3px 1px rgba(0, 0, 0, 0.15);\n",
              "      filter: drop-shadow(0px 1px 2px rgba(0, 0, 0, 0.3));\n",
              "      fill: #FFFFFF;\n",
              "    }\n",
              "  </style>\n",
              "\n",
              "      <script>\n",
              "        const buttonEl =\n",
              "          document.querySelector('#df-4267d9cb-3c82-4edc-b365-5641021f4168 button.colab-df-convert');\n",
              "        buttonEl.style.display =\n",
              "          google.colab.kernel.accessAllowed ? 'block' : 'none';\n",
              "\n",
              "        async function convertToInteractive(key) {\n",
              "          const element = document.querySelector('#df-4267d9cb-3c82-4edc-b365-5641021f4168');\n",
              "          const dataTable =\n",
              "            await google.colab.kernel.invokeFunction('convertToInteractive',\n",
              "                                                     [key], {});\n",
              "          if (!dataTable) return;\n",
              "\n",
              "          const docLinkHtml = 'Like what you see? Visit the ' +\n",
              "            '<a target=\"_blank\" href=https://colab.research.google.com/notebooks/data_table.ipynb>data table notebook</a>'\n",
              "            + ' to learn more about interactive tables.';\n",
              "          element.innerHTML = '';\n",
              "          dataTable['output_type'] = 'display_data';\n",
              "          await google.colab.output.renderOutput(dataTable, element);\n",
              "          const docLink = document.createElement('div');\n",
              "          docLink.innerHTML = docLinkHtml;\n",
              "          element.appendChild(docLink);\n",
              "        }\n",
              "      </script>\n",
              "    </div>\n",
              "  </div>\n",
              "  "
            ],
            "application/vnd.google.colaboratory.module+javascript": "\n      import \"https://ssl.gstatic.com/colaboratory/data_table/fb998edc550c7947/data_table.js\";\n\n      window.createDataTable({\n        data: [[{\n            'v': 0,\n            'f': \"0\",\n        },\n\"AMC Concord\",\n{\n            'v': 4099,\n            'f': \"4099\",\n        },\n{\n            'v': 22,\n            'f': \"22\",\n        },\n{\n            'v': 3.0,\n            'f': \"3.0\",\n        },\n{\n            'v': 2.5,\n            'f': \"2.5\",\n        },\n{\n            'v': 11,\n            'f': \"11\",\n        },\n{\n            'v': 2930,\n            'f': \"2930\",\n        },\n{\n            'v': 186,\n            'f': \"186\",\n        },\n{\n            'v': 40,\n            'f': \"40\",\n        },\n{\n            'v': 121,\n            'f': \"121\",\n        },\n{\n            'v': 3.5799999237060547,\n            'f': \"3.5799999237060547\",\n        },\n\"Domestic\"],\n [{\n            'v': 1,\n            'f': \"1\",\n        },\n\"AMC Pacer\",\n{\n            'v': 4749,\n            'f': \"4749\",\n        },\n{\n            'v': 17,\n            'f': \"17\",\n        },\n{\n            'v': 3.0,\n            'f': \"3.0\",\n        },\n{\n            'v': 3.0,\n            'f': \"3.0\",\n        },\n{\n            'v': 11,\n            'f': \"11\",\n        },\n{\n            'v': 3350,\n            'f': \"3350\",\n        },\n{\n            'v': 173,\n            'f': \"173\",\n        },\n{\n            'v': 40,\n            'f': \"40\",\n        },\n{\n            'v': 258,\n            'f': \"258\",\n        },\n{\n            'v': 2.5299999713897705,\n            'f': \"2.5299999713897705\",\n        },\n\"Domestic\"]],\n        columns: [[\"number\", \"index\"], [\"string\", \"make\"], [\"number\", \"price\"], [\"number\", \"mpg\"], [\"number\", \"rep78\"], [\"number\", \"headroom\"], [\"number\", \"trunk\"], [\"number\", \"weight\"], [\"number\", \"length\"], [\"number\", \"turn\"], [\"number\", \"displacement\"], [\"number\", \"gear_ratio\"], [\"string\", \"foreign\"]],\n        columnOptions: [{\"width\": \"1px\", \"className\": \"index_column\"}],\n        rowsPerPage: 25,\n        helpUrl: \"https://colab.research.google.com/notebooks/data_table.ipynb\",\n        suppressOutputScrolling: true,\n        minimumWidth: undefined,\n      });\n    "
          },
          "metadata": {},
          "execution_count": 27
        }
      ]
    },
    {
      "cell_type": "code",
      "source": [
        "#TODO/LATER>>>: groupby in pandas:\n",
        "#auto['mpg'].groupby(auto['foreign']) #or: #.hist(alpha=.7,legend=True);\n",
        "#auto.groupby(by=auto.foreign)['mpg'] \n",
        "#and feed that into native matplotlib guess must have loop or list comprehension"
      ],
      "metadata": {
        "id": "-V_PHxq3UQry"
      },
      "execution_count": null,
      "outputs": []
    },
    {
      "cell_type": "markdown",
      "source": [
        "https://www.google.com/search?client=firefox-b-1-d&q=matplotlib+groupby#ip=1\n",
        "\n",
        "https://stackoverflow.com/questions/41494942/pandas-dataframe-groupby-plot"
      ],
      "metadata": {
        "id": "WskUL1_CYTmA"
      }
    },
    {
      "cell_type": "code",
      "source": [
        "#for i in auto['mpg'].groupby(auto['foreign']):\n",
        "#  print(i)\n",
        "fig, axs = plt.subplots(figsize = (3, 3))\n",
        "i=0\n",
        "for d in auto['mpg'].groupby(auto['foreign']):\n",
        "  axs.hist(d)\n",
        "  i=i+1\n"
      ],
      "metadata": {
        "id": "sytVVz1qT59q",
        "outputId": "b53e124e-67a7-4447-e833-ed03bbea1287",
        "colab": {
          "base_uri": "https://localhost:8080/",
          "height": 681
        }
      },
      "execution_count": null,
      "outputs": [
        {
          "output_type": "stream",
          "name": "stderr",
          "text": [
            "/usr/local/lib/python3.8/dist-packages/numpy/core/fromnumeric.py:3208: VisibleDeprecationWarning: Creating an ndarray from ragged nested sequences (which is a list-or-tuple of lists-or-tuples-or ndarrays with different lengths or shapes) is deprecated. If you meant to do this, you must specify 'dtype=object' when creating the ndarray.\n",
            "  return asarray(a).size\n",
            "/usr/local/lib/python3.8/dist-packages/matplotlib/cbook/__init__.py:1376: VisibleDeprecationWarning: Creating an ndarray from ragged nested sequences (which is a list-or-tuple of lists-or-tuples-or ndarrays with different lengths or shapes) is deprecated. If you meant to do this, you must specify 'dtype=object' when creating the ndarray.\n",
            "  X = np.atleast_1d(X.T if isinstance(X, np.ndarray) else np.asarray(X))\n"
          ]
        },
        {
          "output_type": "error",
          "ename": "TypeError",
          "evalue": "ignored",
          "traceback": [
            "\u001b[0;31m---------------------------------------------------------------------------\u001b[0m",
            "\u001b[0;31mTypeError\u001b[0m                                 Traceback (most recent call last)",
            "\u001b[0;32m<ipython-input-25-032905a3d543>\u001b[0m in \u001b[0;36m<module>\u001b[0;34m\u001b[0m\n\u001b[1;32m      4\u001b[0m \u001b[0mi\u001b[0m\u001b[0;34m=\u001b[0m\u001b[0;36m0\u001b[0m\u001b[0;34m\u001b[0m\u001b[0;34m\u001b[0m\u001b[0m\n\u001b[1;32m      5\u001b[0m \u001b[0;32mfor\u001b[0m \u001b[0md\u001b[0m \u001b[0;32min\u001b[0m \u001b[0mauto\u001b[0m\u001b[0;34m[\u001b[0m\u001b[0;34m'mpg'\u001b[0m\u001b[0;34m]\u001b[0m\u001b[0;34m.\u001b[0m\u001b[0mgroupby\u001b[0m\u001b[0;34m(\u001b[0m\u001b[0mauto\u001b[0m\u001b[0;34m[\u001b[0m\u001b[0;34m'foreign'\u001b[0m\u001b[0;34m]\u001b[0m\u001b[0;34m)\u001b[0m\u001b[0;34m:\u001b[0m\u001b[0;34m\u001b[0m\u001b[0;34m\u001b[0m\u001b[0m\n\u001b[0;32m----> 6\u001b[0;31m   \u001b[0maxs\u001b[0m\u001b[0;34m.\u001b[0m\u001b[0mhist\u001b[0m\u001b[0;34m(\u001b[0m\u001b[0md\u001b[0m\u001b[0;34m)\u001b[0m\u001b[0;34m\u001b[0m\u001b[0;34m\u001b[0m\u001b[0m\n\u001b[0m\u001b[1;32m      7\u001b[0m   \u001b[0mi\u001b[0m\u001b[0;34m=\u001b[0m\u001b[0mi\u001b[0m\u001b[0;34m+\u001b[0m\u001b[0;36m1\u001b[0m\u001b[0;34m\u001b[0m\u001b[0;34m\u001b[0m\u001b[0m\n",
            "\u001b[0;32m/usr/local/lib/python3.8/dist-packages/matplotlib/__init__.py\u001b[0m in \u001b[0;36minner\u001b[0;34m(ax, data, *args, **kwargs)\u001b[0m\n\u001b[1;32m   1563\u001b[0m     \u001b[0;32mdef\u001b[0m \u001b[0minner\u001b[0m\u001b[0;34m(\u001b[0m\u001b[0max\u001b[0m\u001b[0;34m,\u001b[0m \u001b[0;34m*\u001b[0m\u001b[0margs\u001b[0m\u001b[0;34m,\u001b[0m \u001b[0mdata\u001b[0m\u001b[0;34m=\u001b[0m\u001b[0;32mNone\u001b[0m\u001b[0;34m,\u001b[0m \u001b[0;34m**\u001b[0m\u001b[0mkwargs\u001b[0m\u001b[0;34m)\u001b[0m\u001b[0;34m:\u001b[0m\u001b[0;34m\u001b[0m\u001b[0;34m\u001b[0m\u001b[0m\n\u001b[1;32m   1564\u001b[0m         \u001b[0;32mif\u001b[0m \u001b[0mdata\u001b[0m \u001b[0;32mis\u001b[0m \u001b[0;32mNone\u001b[0m\u001b[0;34m:\u001b[0m\u001b[0;34m\u001b[0m\u001b[0;34m\u001b[0m\u001b[0m\n\u001b[0;32m-> 1565\u001b[0;31m             \u001b[0;32mreturn\u001b[0m \u001b[0mfunc\u001b[0m\u001b[0;34m(\u001b[0m\u001b[0max\u001b[0m\u001b[0;34m,\u001b[0m \u001b[0;34m*\u001b[0m\u001b[0mmap\u001b[0m\u001b[0;34m(\u001b[0m\u001b[0msanitize_sequence\u001b[0m\u001b[0;34m,\u001b[0m \u001b[0margs\u001b[0m\u001b[0;34m)\u001b[0m\u001b[0;34m,\u001b[0m \u001b[0;34m**\u001b[0m\u001b[0mkwargs\u001b[0m\u001b[0;34m)\u001b[0m\u001b[0;34m\u001b[0m\u001b[0;34m\u001b[0m\u001b[0m\n\u001b[0m\u001b[1;32m   1566\u001b[0m \u001b[0;34m\u001b[0m\u001b[0m\n\u001b[1;32m   1567\u001b[0m         \u001b[0mbound\u001b[0m \u001b[0;34m=\u001b[0m \u001b[0mnew_sig\u001b[0m\u001b[0;34m.\u001b[0m\u001b[0mbind\u001b[0m\u001b[0;34m(\u001b[0m\u001b[0max\u001b[0m\u001b[0;34m,\u001b[0m \u001b[0;34m*\u001b[0m\u001b[0margs\u001b[0m\u001b[0;34m,\u001b[0m \u001b[0;34m**\u001b[0m\u001b[0mkwargs\u001b[0m\u001b[0;34m)\u001b[0m\u001b[0;34m\u001b[0m\u001b[0;34m\u001b[0m\u001b[0m\n",
            "\u001b[0;32m/usr/local/lib/python3.8/dist-packages/matplotlib/axes/_axes.py\u001b[0m in \u001b[0;36mhist\u001b[0;34m(self, x, bins, range, density, weights, cumulative, bottom, histtype, align, orientation, rwidth, log, color, label, stacked, **kwargs)\u001b[0m\n\u001b[1;32m   6583\u001b[0m         \u001b[0;31m# Process unit information\u001b[0m\u001b[0;34m\u001b[0m\u001b[0;34m\u001b[0m\u001b[0;34m\u001b[0m\u001b[0m\n\u001b[1;32m   6584\u001b[0m         \u001b[0;31m# Unit conversion is done individually on each dataset\u001b[0m\u001b[0;34m\u001b[0m\u001b[0;34m\u001b[0m\u001b[0;34m\u001b[0m\u001b[0m\n\u001b[0;32m-> 6585\u001b[0;31m         \u001b[0mself\u001b[0m\u001b[0;34m.\u001b[0m\u001b[0m_process_unit_info\u001b[0m\u001b[0;34m(\u001b[0m\u001b[0mxdata\u001b[0m\u001b[0;34m=\u001b[0m\u001b[0mx\u001b[0m\u001b[0;34m[\u001b[0m\u001b[0;36m0\u001b[0m\u001b[0;34m]\u001b[0m\u001b[0;34m,\u001b[0m \u001b[0mkwargs\u001b[0m\u001b[0;34m=\u001b[0m\u001b[0mkwargs\u001b[0m\u001b[0;34m)\u001b[0m\u001b[0;34m\u001b[0m\u001b[0;34m\u001b[0m\u001b[0m\n\u001b[0m\u001b[1;32m   6586\u001b[0m         \u001b[0mx\u001b[0m \u001b[0;34m=\u001b[0m \u001b[0;34m[\u001b[0m\u001b[0mself\u001b[0m\u001b[0;34m.\u001b[0m\u001b[0mconvert_xunits\u001b[0m\u001b[0;34m(\u001b[0m\u001b[0mxi\u001b[0m\u001b[0;34m)\u001b[0m \u001b[0;32mfor\u001b[0m \u001b[0mxi\u001b[0m \u001b[0;32min\u001b[0m \u001b[0mx\u001b[0m\u001b[0;34m]\u001b[0m\u001b[0;34m\u001b[0m\u001b[0;34m\u001b[0m\u001b[0m\n\u001b[1;32m   6587\u001b[0m \u001b[0;34m\u001b[0m\u001b[0m\n",
            "\u001b[0;32m/usr/local/lib/python3.8/dist-packages/matplotlib/axes/_base.py\u001b[0m in \u001b[0;36m_process_unit_info\u001b[0;34m(self, xdata, ydata, kwargs)\u001b[0m\n\u001b[1;32m   2071\u001b[0m             \u001b[0;32mreturn\u001b[0m \u001b[0mkwargs\u001b[0m\u001b[0;34m\u001b[0m\u001b[0;34m\u001b[0m\u001b[0m\n\u001b[1;32m   2072\u001b[0m \u001b[0;34m\u001b[0m\u001b[0m\n\u001b[0;32m-> 2073\u001b[0;31m         \u001b[0mkwargs\u001b[0m \u001b[0;34m=\u001b[0m \u001b[0m_process_single_axis\u001b[0m\u001b[0;34m(\u001b[0m\u001b[0mxdata\u001b[0m\u001b[0;34m,\u001b[0m \u001b[0mself\u001b[0m\u001b[0;34m.\u001b[0m\u001b[0mxaxis\u001b[0m\u001b[0;34m,\u001b[0m \u001b[0;34m'xunits'\u001b[0m\u001b[0;34m,\u001b[0m \u001b[0mkwargs\u001b[0m\u001b[0;34m)\u001b[0m\u001b[0;34m\u001b[0m\u001b[0;34m\u001b[0m\u001b[0m\n\u001b[0m\u001b[1;32m   2074\u001b[0m         \u001b[0mkwargs\u001b[0m \u001b[0;34m=\u001b[0m \u001b[0m_process_single_axis\u001b[0m\u001b[0;34m(\u001b[0m\u001b[0mydata\u001b[0m\u001b[0;34m,\u001b[0m \u001b[0mself\u001b[0m\u001b[0;34m.\u001b[0m\u001b[0myaxis\u001b[0m\u001b[0;34m,\u001b[0m \u001b[0;34m'yunits'\u001b[0m\u001b[0;34m,\u001b[0m \u001b[0mkwargs\u001b[0m\u001b[0;34m)\u001b[0m\u001b[0;34m\u001b[0m\u001b[0;34m\u001b[0m\u001b[0m\n\u001b[1;32m   2075\u001b[0m         \u001b[0;32mreturn\u001b[0m \u001b[0mkwargs\u001b[0m\u001b[0;34m\u001b[0m\u001b[0;34m\u001b[0m\u001b[0m\n",
            "\u001b[0;32m/usr/local/lib/python3.8/dist-packages/matplotlib/axes/_base.py\u001b[0m in \u001b[0;36m_process_single_axis\u001b[0;34m(data, axis, unit_name, kwargs)\u001b[0m\n\u001b[1;32m   2054\u001b[0m                 \u001b[0;31m# We only need to update if there is nothing set yet.\u001b[0m\u001b[0;34m\u001b[0m\u001b[0;34m\u001b[0m\u001b[0;34m\u001b[0m\u001b[0m\n\u001b[1;32m   2055\u001b[0m                 \u001b[0;32mif\u001b[0m \u001b[0;32mnot\u001b[0m \u001b[0maxis\u001b[0m\u001b[0;34m.\u001b[0m\u001b[0mhave_units\u001b[0m\u001b[0;34m(\u001b[0m\u001b[0;34m)\u001b[0m\u001b[0;34m:\u001b[0m\u001b[0;34m\u001b[0m\u001b[0;34m\u001b[0m\u001b[0m\n\u001b[0;32m-> 2056\u001b[0;31m                     \u001b[0maxis\u001b[0m\u001b[0;34m.\u001b[0m\u001b[0mupdate_units\u001b[0m\u001b[0;34m(\u001b[0m\u001b[0mdata\u001b[0m\u001b[0;34m)\u001b[0m\u001b[0;34m\u001b[0m\u001b[0;34m\u001b[0m\u001b[0m\n\u001b[0m\u001b[1;32m   2057\u001b[0m \u001b[0;34m\u001b[0m\u001b[0m\n\u001b[1;32m   2058\u001b[0m             \u001b[0;31m# Check for units in the kwargs, and if present update axis\u001b[0m\u001b[0;34m\u001b[0m\u001b[0;34m\u001b[0m\u001b[0;34m\u001b[0m\u001b[0m\n",
            "\u001b[0;32m/usr/local/lib/python3.8/dist-packages/matplotlib/axis.py\u001b[0m in \u001b[0;36mupdate_units\u001b[0;34m(self, data)\u001b[0m\n\u001b[1;32m   1514\u001b[0m         \u001b[0mneednew\u001b[0m \u001b[0;34m=\u001b[0m \u001b[0mself\u001b[0m\u001b[0;34m.\u001b[0m\u001b[0mconverter\u001b[0m \u001b[0;34m!=\u001b[0m \u001b[0mconverter\u001b[0m\u001b[0;34m\u001b[0m\u001b[0;34m\u001b[0m\u001b[0m\n\u001b[1;32m   1515\u001b[0m         \u001b[0mself\u001b[0m\u001b[0;34m.\u001b[0m\u001b[0mconverter\u001b[0m \u001b[0;34m=\u001b[0m \u001b[0mconverter\u001b[0m\u001b[0;34m\u001b[0m\u001b[0;34m\u001b[0m\u001b[0m\n\u001b[0;32m-> 1516\u001b[0;31m         \u001b[0mdefault\u001b[0m \u001b[0;34m=\u001b[0m \u001b[0mself\u001b[0m\u001b[0;34m.\u001b[0m\u001b[0mconverter\u001b[0m\u001b[0;34m.\u001b[0m\u001b[0mdefault_units\u001b[0m\u001b[0;34m(\u001b[0m\u001b[0mdata\u001b[0m\u001b[0;34m,\u001b[0m \u001b[0mself\u001b[0m\u001b[0;34m)\u001b[0m\u001b[0;34m\u001b[0m\u001b[0;34m\u001b[0m\u001b[0m\n\u001b[0m\u001b[1;32m   1517\u001b[0m         \u001b[0;32mif\u001b[0m \u001b[0mdefault\u001b[0m \u001b[0;32mis\u001b[0m \u001b[0;32mnot\u001b[0m \u001b[0;32mNone\u001b[0m \u001b[0;32mand\u001b[0m \u001b[0mself\u001b[0m\u001b[0;34m.\u001b[0m\u001b[0munits\u001b[0m \u001b[0;32mis\u001b[0m \u001b[0;32mNone\u001b[0m\u001b[0;34m:\u001b[0m\u001b[0;34m\u001b[0m\u001b[0;34m\u001b[0m\u001b[0m\n\u001b[1;32m   1518\u001b[0m             \u001b[0mself\u001b[0m\u001b[0;34m.\u001b[0m\u001b[0mset_units\u001b[0m\u001b[0;34m(\u001b[0m\u001b[0mdefault\u001b[0m\u001b[0;34m)\u001b[0m\u001b[0;34m\u001b[0m\u001b[0;34m\u001b[0m\u001b[0m\n",
            "\u001b[0;32m/usr/local/lib/python3.8/dist-packages/matplotlib/category.py\u001b[0m in \u001b[0;36mdefault_units\u001b[0;34m(data, axis)\u001b[0m\n\u001b[1;32m    105\u001b[0m         \u001b[0;31m# the conversion call stack is default_units -> axis_info -> convert\u001b[0m\u001b[0;34m\u001b[0m\u001b[0;34m\u001b[0m\u001b[0;34m\u001b[0m\u001b[0m\n\u001b[1;32m    106\u001b[0m         \u001b[0;32mif\u001b[0m \u001b[0maxis\u001b[0m\u001b[0;34m.\u001b[0m\u001b[0munits\u001b[0m \u001b[0;32mis\u001b[0m \u001b[0;32mNone\u001b[0m\u001b[0;34m:\u001b[0m\u001b[0;34m\u001b[0m\u001b[0;34m\u001b[0m\u001b[0m\n\u001b[0;32m--> 107\u001b[0;31m             \u001b[0maxis\u001b[0m\u001b[0;34m.\u001b[0m\u001b[0mset_units\u001b[0m\u001b[0;34m(\u001b[0m\u001b[0mUnitData\u001b[0m\u001b[0;34m(\u001b[0m\u001b[0mdata\u001b[0m\u001b[0;34m)\u001b[0m\u001b[0;34m)\u001b[0m\u001b[0;34m\u001b[0m\u001b[0;34m\u001b[0m\u001b[0m\n\u001b[0m\u001b[1;32m    108\u001b[0m         \u001b[0;32melse\u001b[0m\u001b[0;34m:\u001b[0m\u001b[0;34m\u001b[0m\u001b[0;34m\u001b[0m\u001b[0m\n\u001b[1;32m    109\u001b[0m             \u001b[0maxis\u001b[0m\u001b[0;34m.\u001b[0m\u001b[0munits\u001b[0m\u001b[0;34m.\u001b[0m\u001b[0mupdate\u001b[0m\u001b[0;34m(\u001b[0m\u001b[0mdata\u001b[0m\u001b[0;34m)\u001b[0m\u001b[0;34m\u001b[0m\u001b[0;34m\u001b[0m\u001b[0m\n",
            "\u001b[0;32m/usr/local/lib/python3.8/dist-packages/matplotlib/category.py\u001b[0m in \u001b[0;36m__init__\u001b[0;34m(self, data)\u001b[0m\n\u001b[1;32m    173\u001b[0m         \u001b[0mself\u001b[0m\u001b[0;34m.\u001b[0m\u001b[0m_counter\u001b[0m \u001b[0;34m=\u001b[0m \u001b[0mitertools\u001b[0m\u001b[0;34m.\u001b[0m\u001b[0mcount\u001b[0m\u001b[0;34m(\u001b[0m\u001b[0;34m)\u001b[0m\u001b[0;34m\u001b[0m\u001b[0;34m\u001b[0m\u001b[0m\n\u001b[1;32m    174\u001b[0m         \u001b[0;32mif\u001b[0m \u001b[0mdata\u001b[0m \u001b[0;32mis\u001b[0m \u001b[0;32mnot\u001b[0m \u001b[0;32mNone\u001b[0m\u001b[0;34m:\u001b[0m\u001b[0;34m\u001b[0m\u001b[0;34m\u001b[0m\u001b[0m\n\u001b[0;32m--> 175\u001b[0;31m             \u001b[0mself\u001b[0m\u001b[0;34m.\u001b[0m\u001b[0mupdate\u001b[0m\u001b[0;34m(\u001b[0m\u001b[0mdata\u001b[0m\u001b[0;34m)\u001b[0m\u001b[0;34m\u001b[0m\u001b[0;34m\u001b[0m\u001b[0m\n\u001b[0m\u001b[1;32m    176\u001b[0m \u001b[0;34m\u001b[0m\u001b[0m\n\u001b[1;32m    177\u001b[0m     \u001b[0;34m@\u001b[0m\u001b[0mstaticmethod\u001b[0m\u001b[0;34m\u001b[0m\u001b[0;34m\u001b[0m\u001b[0m\n",
            "\u001b[0;32m/usr/local/lib/python3.8/dist-packages/matplotlib/category.py\u001b[0m in \u001b[0;36mupdate\u001b[0;34m(self, data)\u001b[0m\n\u001b[1;32m    208\u001b[0m         \u001b[0;31m# check if convertible to number:\u001b[0m\u001b[0;34m\u001b[0m\u001b[0;34m\u001b[0m\u001b[0;34m\u001b[0m\u001b[0m\n\u001b[1;32m    209\u001b[0m         \u001b[0mconvertible\u001b[0m \u001b[0;34m=\u001b[0m \u001b[0;32mTrue\u001b[0m\u001b[0;34m\u001b[0m\u001b[0;34m\u001b[0m\u001b[0m\n\u001b[0;32m--> 210\u001b[0;31m         \u001b[0;32mfor\u001b[0m \u001b[0mval\u001b[0m \u001b[0;32min\u001b[0m \u001b[0mOrderedDict\u001b[0m\u001b[0;34m.\u001b[0m\u001b[0mfromkeys\u001b[0m\u001b[0;34m(\u001b[0m\u001b[0mdata\u001b[0m\u001b[0;34m)\u001b[0m\u001b[0;34m:\u001b[0m\u001b[0;34m\u001b[0m\u001b[0;34m\u001b[0m\u001b[0m\n\u001b[0m\u001b[1;32m    211\u001b[0m             \u001b[0;31m# OrderedDict just iterates over unique values in data.\u001b[0m\u001b[0;34m\u001b[0m\u001b[0;34m\u001b[0m\u001b[0;34m\u001b[0m\u001b[0m\n\u001b[1;32m    212\u001b[0m             \u001b[0mcbook\u001b[0m\u001b[0;34m.\u001b[0m\u001b[0m_check_isinstance\u001b[0m\u001b[0;34m(\u001b[0m\u001b[0;34m(\u001b[0m\u001b[0mstr\u001b[0m\u001b[0;34m,\u001b[0m \u001b[0mbytes\u001b[0m\u001b[0;34m)\u001b[0m\u001b[0;34m,\u001b[0m \u001b[0mvalue\u001b[0m\u001b[0;34m=\u001b[0m\u001b[0mval\u001b[0m\u001b[0;34m)\u001b[0m\u001b[0;34m\u001b[0m\u001b[0;34m\u001b[0m\u001b[0m\n",
            "\u001b[0;31mTypeError\u001b[0m: unhashable type: 'Series'"
          ]
        },
        {
          "output_type": "display_data",
          "data": {
            "text/plain": [
              "<Figure size 216x216 with 1 Axes>"
            ],
            "image/png": "[encoded data removed]"
          },
          "metadata": {
            "needs_background": "light"
          }
        }
      ]
    },
    {
      "cell_type": "code",
      "source": [
        "fig, ax = plt.subplots(figsize = (3, 3))\n",
        "for i,d in auto['mpg'].groupby(auto['foreign']):\n",
        "  ax['i'].hist(d)"
      ],
      "metadata": {
        "id": "zW-_BF51T9zv",
        "outputId": "a13090cc-bf03-4024-c21b-e8545ad062c2",
        "colab": {
          "base_uri": "https://localhost:8080/",
          "height": 411
        }
      },
      "execution_count": null,
      "outputs": [
        {
          "output_type": "error",
          "ename": "TypeError",
          "evalue": "ignored",
          "traceback": [
            "\u001b[0;31m---------------------------------------------------------------------------\u001b[0m",
            "\u001b[0;31mTypeError\u001b[0m                                 Traceback (most recent call last)",
            "\u001b[0;32m<ipython-input-21-e08fe7974a93>\u001b[0m in \u001b[0;36m<module>\u001b[0;34m\u001b[0m\n\u001b[1;32m      1\u001b[0m \u001b[0mfig\u001b[0m\u001b[0;34m,\u001b[0m \u001b[0max\u001b[0m \u001b[0;34m=\u001b[0m \u001b[0mplt\u001b[0m\u001b[0;34m.\u001b[0m\u001b[0msubplots\u001b[0m\u001b[0;34m(\u001b[0m\u001b[0mfigsize\u001b[0m \u001b[0;34m=\u001b[0m \u001b[0;34m(\u001b[0m\u001b[0;36m3\u001b[0m\u001b[0;34m,\u001b[0m \u001b[0;36m3\u001b[0m\u001b[0;34m)\u001b[0m\u001b[0;34m)\u001b[0m\u001b[0;34m\u001b[0m\u001b[0;34m\u001b[0m\u001b[0m\n\u001b[1;32m      2\u001b[0m \u001b[0;32mfor\u001b[0m \u001b[0mi\u001b[0m\u001b[0;34m,\u001b[0m\u001b[0md\u001b[0m \u001b[0;32min\u001b[0m \u001b[0mauto\u001b[0m\u001b[0;34m[\u001b[0m\u001b[0;34m'mpg'\u001b[0m\u001b[0;34m]\u001b[0m\u001b[0;34m.\u001b[0m\u001b[0mgroupby\u001b[0m\u001b[0;34m(\u001b[0m\u001b[0mauto\u001b[0m\u001b[0;34m[\u001b[0m\u001b[0;34m'foreign'\u001b[0m\u001b[0;34m]\u001b[0m\u001b[0;34m)\u001b[0m\u001b[0;34m:\u001b[0m\u001b[0;34m\u001b[0m\u001b[0;34m\u001b[0m\u001b[0m\n\u001b[0;32m----> 3\u001b[0;31m   \u001b[0max\u001b[0m\u001b[0;34m[\u001b[0m\u001b[0;34m'i'\u001b[0m\u001b[0;34m]\u001b[0m\u001b[0;34m.\u001b[0m\u001b[0mhist\u001b[0m\u001b[0;34m(\u001b[0m\u001b[0md\u001b[0m\u001b[0;34m)\u001b[0m\u001b[0;34m\u001b[0m\u001b[0;34m\u001b[0m\u001b[0m\n\u001b[0m",
            "\u001b[0;31mTypeError\u001b[0m: 'AxesSubplot' object is not subscriptable"
          ]
        },
        {
          "output_type": "display_data",
          "data": {
            "text/plain": [
              "<Figure size 216x216 with 1 Axes>"
            ],
            "image/png": "[encoded data removed]"
          },
          "metadata": {
            "needs_background": "light"
          }
        }
      ]
    },
    {
      "cell_type": "code",
      "source": [],
      "metadata": {
        "id": "IKVRkavghlBa"
      },
      "execution_count": null,
      "outputs": []
    },
    {
      "cell_type": "markdown",
      "source": [
        "# to setup in all"
      ],
      "metadata": {
        "id": "EG9FYigBhl1s"
      }
    },
    {
      "cell_type": "code",
      "source": [
        "fig, axs = plt.subplots(1, 2, sharey=True, tight_layout=True) #1row2col\n",
        "axs[0].hist(auto.mpg, bins=7) #edgecolor=\"black\" ,color=\"green\" histtype=u'step' alpha=.5\n",
        "#btw can do categorical var hist too: auto.rep78.value_counts() #same as bar chart\n",
        "axs[1].hist(auto.rep78) \n",
        "axs[0].set_title('s')\n",
        "axs[0].set_ylabel('count')\n",
        "axs[0].set_xlabel('mpg')\n",
        "axs[1].set_xlabel('rep78');"
      ],
      "metadata": {
        "id": "ymNc3ElMho48",
        "outputId": "d3be9810-12f1-4549-e0f9-c7378fc1a96c",
        "colab": {
          "base_uri": "https://localhost:8080/",
          "height": 297
        }
      },
      "execution_count": 37,
      "outputs": [
        {
          "output_type": "display_data",
          "data": {
            "text/plain": [
              "<Figure size 432x288 with 2 Axes>"
            ],
            "image/png": "[encoded data removed]"
          },
          "metadata": {
            "needs_background": "light"
          }
        }
      ]
    },
    {
      "cell_type": "code",
      "source": [
        "g = auto.groupby('foreign') #subset data into n groups\n",
        "g.ngroups"
      ],
      "metadata": {
        "id": "4ep5loEWhtT5",
        "outputId": "6e9c6f96-6dfb-433c-e5f4-2d8fa066936f",
        "colab": {
          "base_uri": "https://localhost:8080/"
        }
      },
      "execution_count": 31,
      "outputs": [
        {
          "output_type": "execute_result",
          "data": {
            "text/plain": [
              "2"
            ]
          },
          "metadata": {},
          "execution_count": 31
        }
      ]
    },
    {
      "cell_type": "code",
      "source": [
        "for i, (grp, d) in enumerate(g):\n",
        "  print(i,grp)"
      ],
      "metadata": {
        "id": "buH4Q0fmi7VB",
        "outputId": "d9294968-787a-44c3-eebf-8d7950274d53",
        "colab": {
          "base_uri": "https://localhost:8080/"
        }
      },
      "execution_count": 33,
      "outputs": [
        {
          "output_type": "stream",
          "name": "stdout",
          "text": [
            "0 Domestic\n",
            "1 Foreign\n"
          ]
        }
      ]
    },
    {
      "cell_type": "code",
      "source": [
        "for i, (grp, d) in enumerate(g):\n",
        "  d"
      ],
      "metadata": {
        "id": "1wWUSEiRkXuk",
        "outputId": "a4b9da6f-bcb0-4e1f-cb1f-142bce799c54",
        "colab": {
          "base_uri": "https://localhost:8080/",
          "height": 1177
        }
      },
      "execution_count": 42,
      "outputs": [
        {
          "output_type": "execute_result",
          "data": {
            "text/plain": [
              "                 make  price  mpg  rep78  headroom  trunk  weight  length  \\\n",
              "0         AMC Concord   4099   22    3.0       2.5     11    2930     186   \n",
              "1           AMC Pacer   4749   17    3.0       3.0     11    3350     173   \n",
              "2          AMC Spirit   3799   22    NaN       3.0     12    2640     168   \n",
              "3       Buick Century   4816   20    3.0       4.5     16    3250     196   \n",
              "4       Buick Electra   7827   15    4.0       4.0     20    4080     222   \n",
              "5       Buick LeSabre   5788   18    3.0       4.0     21    3670     218   \n",
              "6          Buick Opel   4453   26    NaN       3.0     10    2230     170   \n",
              "7         Buick Regal   5189   20    3.0       2.0     16    3280     200   \n",
              "8       Buick Riviera  10372   16    3.0       3.5     17    3880     207   \n",
              "9       Buick Skylark   4082   19    3.0       3.5     13    3400     200   \n",
              "10       Cad. Deville  11385   14    3.0       4.0     20    4330     221   \n",
              "11      Cad. Eldorado  14500   14    2.0       3.5     16    3900     204   \n",
              "12       Cad. Seville  15906   21    3.0       3.0     13    4290     204   \n",
              "13     Chev. Chevette   3299   29    3.0       2.5      9    2110     163   \n",
              "14       Chev. Impala   5705   16    4.0       4.0     20    3690     212   \n",
              "15       Chev. Malibu   4504   22    3.0       3.5     17    3180     193   \n",
              "16  Chev. Monte Carlo   5104   22    2.0       2.0     16    3220     200   \n",
              "17        Chev. Monza   3667   24    2.0       2.0      7    2750     179   \n",
              "18         Chev. Nova   3955   19    3.0       3.5     13    3430     197   \n",
              "19         Dodge Colt   3984   30    5.0       2.0      8    2120     163   \n",
              "20     Dodge Diplomat   4010   18    2.0       4.0     17    3600     206   \n",
              "21       Dodge Magnum   5886   16    2.0       4.0     17    3600     206   \n",
              "22    Dodge St. Regis   6342   17    2.0       4.5     21    3740     220   \n",
              "23        Ford Fiesta   4389   28    4.0       1.5      9    1800     147   \n",
              "24       Ford Mustang   4187   21    3.0       2.0     10    2650     179   \n",
              "25  Linc. Continental  11497   12    3.0       3.5     22    4840     233   \n",
              "26       Linc. Mark V  13594   12    3.0       2.5     18    4720     230   \n",
              "27   Linc. Versailles  13466   14    3.0       3.5     15    3830     201   \n",
              "28       Merc. Bobcat   3829   22    4.0       3.0      9    2580     169   \n",
              "29       Merc. Cougar   5379   14    4.0       3.5     16    4060     221   \n",
              "30      Merc. Marquis   6165   15    3.0       3.5     23    3720     212   \n",
              "31      Merc. Monarch   4516   18    3.0       3.0     15    3370     198   \n",
              "32         Merc. XR-7   6303   14    4.0       3.0     16    4130     217   \n",
              "33       Merc. Zephyr   3291   20    3.0       3.5     17    2830     195   \n",
              "34            Olds 98   8814   21    4.0       4.0     20    4060     220   \n",
              "35     Olds Cutl Supr   5172   19    3.0       2.0     16    3310     198   \n",
              "36       Olds Cutlass   4733   19    3.0       4.5     16    3300     198   \n",
              "37      Olds Delta 88   4890   18    4.0       4.0     20    3690     218   \n",
              "38         Olds Omega   4181   19    3.0       4.5     14    3370     200   \n",
              "39      Olds Starfire   4195   24    1.0       2.0     10    2730     180   \n",
              "40      Olds Toronado  10371   16    3.0       3.5     17    4030     206   \n",
              "41        Plym. Arrow   4647   28    3.0       2.0     11    3260     170   \n",
              "42        Plym. Champ   4425   34    5.0       2.5     11    1800     157   \n",
              "43      Plym. Horizon   4482   25    3.0       4.0     17    2200     165   \n",
              "44      Plym. Sapporo   6486   26    NaN       1.5      8    2520     182   \n",
              "45       Plym. Volare   4060   18    2.0       5.0     16    3330     201   \n",
              "46     Pont. Catalina   5798   18    4.0       4.0     20    3700     214   \n",
              "47     Pont. Firebird   4934   18    1.0       1.5      7    3470     198   \n",
              "48   Pont. Grand Prix   5222   19    3.0       2.0     16    3210     201   \n",
              "49      Pont. Le Mans   4723   19    3.0       3.5     17    3200     199   \n",
              "50      Pont. Phoenix   4424   19    NaN       3.5     13    3420     203   \n",
              "51      Pont. Sunbird   4172   24    2.0       2.0      7    2690     179   \n",
              "\n",
              "    turn  displacement  gear_ratio   foreign  \n",
              "0     40           121        3.58  Domestic  \n",
              "1     40           258        2.53  Domestic  \n",
              "2     35           121        3.08  Domestic  \n",
              "3     40           196        2.93  Domestic  \n",
              "4     43           350        2.41  Domestic  \n",
              "5     43           231        2.73  Domestic  \n",
              "6     34           304        2.87  Domestic  \n",
              "7     42           196        2.93  Domestic  \n",
              "8     43           231        2.93  Domestic  \n",
              "9     42           231        3.08  Domestic  \n",
              "10    44           425        2.28  Domestic  \n",
              "11    43           350        2.19  Domestic  \n",
              "12    45           350        2.24  Domestic  \n",
              "13    34           231        2.93  Domestic  \n",
              "14    43           250        2.56  Domestic  \n",
              "15    31           200        2.73  Domestic  \n",
              "16    41           200        2.73  Domestic  \n",
              "17    40           151        2.73  Domestic  \n",
              "18    43           250        2.56  Domestic  \n",
              "19    35            98        3.54  Domestic  \n",
              "20    46           318        2.47  Domestic  \n",
              "21    46           318        2.47  Domestic  \n",
              "22    46           225        2.94  Domestic  \n",
              "23    33            98        3.15  Domestic  \n",
              "24    43           140        3.08  Domestic  \n",
              "25    51           400        2.47  Domestic  \n",
              "26    48           400        2.47  Domestic  \n",
              "27    41           302        2.47  Domestic  \n",
              "28    39           140        2.73  Domestic  \n",
              "29    48           302        2.75  Domestic  \n",
              "30    44           302        2.26  Domestic  \n",
              "31    41           250        2.43  Domestic  \n",
              "32    45           302        2.75  Domestic  \n",
              "33    43           140        3.08  Domestic  \n",
              "34    43           350        2.41  Domestic  \n",
              "35    42           231        2.93  Domestic  \n",
              "36    42           231        2.93  Domestic  \n",
              "37    42           231        2.73  Domestic  \n",
              "38    43           231        3.08  Domestic  \n",
              "39    40           151        2.73  Domestic  \n",
              "40    43           350        2.41  Domestic  \n",
              "41    37           156        3.05  Domestic  \n",
              "42    37            86        2.97  Domestic  \n",
              "43    36           105        3.37  Domestic  \n",
              "44    38           119        3.54  Domestic  \n",
              "45    44           225        3.23  Domestic  \n",
              "46    42           231        2.73  Domestic  \n",
              "47    42           231        3.08  Domestic  \n",
              "48    45           231        2.93  Domestic  \n",
              "49    40           231        2.93  Domestic  \n",
              "50    43           231        3.08  Domestic  \n",
              "51    41           151        2.73  Domestic  "
            ],
            "text/html": [
              "\n",
              "  <div id=\"df-0ffb6530-288e-4f6e-8016-33c37d036ebc\">\n",
              "    <div class=\"colab-df-container\">\n",
              "      <div>\n",
              "<style scoped>\n",
              "    .dataframe tbody tr th:only-of-type {\n",
              "        vertical-align: middle;\n",
              "    }\n",
              "\n",
              "    .dataframe tbody tr th {\n",
              "        vertical-align: top;\n",
              "    }\n",
              "\n",
              "    .dataframe thead th {\n",
              "        text-align: right;\n",
              "    }\n",
              "</style>\n",
              "<table border=\"1\" class=\"dataframe\">\n",
              "  <thead>\n",
              "    <tr style=\"text-align: right;\">\n",
              "      <th></th>\n",
              "      <th>make</th>\n",
              "      <th>price</th>\n",
              "      <th>mpg</th>\n",
              "      <th>rep78</th>\n",
              "      <th>headroom</th>\n",
              "      <th>trunk</th>\n",
              "      <th>weight</th>\n",
              "      <th>length</th>\n",
              "      <th>turn</th>\n",
              "      <th>displacement</th>\n",
              "      <th>gear_ratio</th>\n",
              "      <th>foreign</th>\n",
              "    </tr>\n",
              "  </thead>\n",
              "  <tbody>\n",
              "    <tr>\n",
              "      <th>0</th>\n",
              "      <td>AMC Concord</td>\n",
              "      <td>4099</td>\n",
              "      <td>22</td>\n",
              "      <td>3.0</td>\n",
              "      <td>2.5</td>\n",
              "      <td>11</td>\n",
              "      <td>2930</td>\n",
              "      <td>186</td>\n",
              "      <td>40</td>\n",
              "      <td>121</td>\n",
              "      <td>3.58</td>\n",
              "      <td>Domestic</td>\n",
              "    </tr>\n",
              "    <tr>\n",
              "      <th>1</th>\n",
              "      <td>AMC Pacer</td>\n",
              "      <td>4749</td>\n",
              "      <td>17</td>\n",
              "      <td>3.0</td>\n",
              "      <td>3.0</td>\n",
              "      <td>11</td>\n",
              "      <td>3350</td>\n",
              "      <td>173</td>\n",
              "      <td>40</td>\n",
              "      <td>258</td>\n",
              "      <td>2.53</td>\n",
              "      <td>Domestic</td>\n",
              "    </tr>\n",
              "    <tr>\n",
              "      <th>2</th>\n",
              "      <td>AMC Spirit</td>\n",
              "      <td>3799</td>\n",
              "      <td>22</td>\n",
              "      <td>NaN</td>\n",
              "      <td>3.0</td>\n",
              "      <td>12</td>\n",
              "      <td>2640</td>\n",
              "      <td>168</td>\n",
              "      <td>35</td>\n",
              "      <td>121</td>\n",
              "      <td>3.08</td>\n",
              "      <td>Domestic</td>\n",
              "    </tr>\n",
              "    <tr>\n",
              "      <th>3</th>\n",
              "      <td>Buick Century</td>\n",
              "      <td>4816</td>\n",
              "      <td>20</td>\n",
              "      <td>3.0</td>\n",
              "      <td>4.5</td>\n",
              "      <td>16</td>\n",
              "      <td>3250</td>\n",
              "      <td>196</td>\n",
              "      <td>40</td>\n",
              "      <td>196</td>\n",
              "      <td>2.93</td>\n",
              "      <td>Domestic</td>\n",
              "    </tr>\n",
              "    <tr>\n",
              "      <th>4</th>\n",
              "      <td>Buick Electra</td>\n",
              "      <td>7827</td>\n",
              "      <td>15</td>\n",
              "      <td>4.0</td>\n",
              "      <td>4.0</td>\n",
              "      <td>20</td>\n",
              "      <td>4080</td>\n",
              "      <td>222</td>\n",
              "      <td>43</td>\n",
              "      <td>350</td>\n",
              "      <td>2.41</td>\n",
              "      <td>Domestic</td>\n",
              "    </tr>\n",
              "    <tr>\n",
              "      <th>5</th>\n",
              "      <td>Buick LeSabre</td>\n",
              "      <td>5788</td>\n",
              "      <td>18</td>\n",
              "      <td>3.0</td>\n",
              "      <td>4.0</td>\n",
              "      <td>21</td>\n",
              "      <td>3670</td>\n",
              "      <td>218</td>\n",
              "      <td>43</td>\n",
              "      <td>231</td>\n",
              "      <td>2.73</td>\n",
              "      <td>Domestic</td>\n",
              "    </tr>\n",
              "    <tr>\n",
              "      <th>6</th>\n",
              "      <td>Buick Opel</td>\n",
              "      <td>4453</td>\n",
              "      <td>26</td>\n",
              "      <td>NaN</td>\n",
              "      <td>3.0</td>\n",
              "      <td>10</td>\n",
              "      <td>2230</td>\n",
              "      <td>170</td>\n",
              "      <td>34</td>\n",
              "      <td>304</td>\n",
              "      <td>2.87</td>\n",
              "      <td>Domestic</td>\n",
              "    </tr>\n",
              "    <tr>\n",
              "      <th>7</th>\n",
              "      <td>Buick Regal</td>\n",
              "      <td>5189</td>\n",
              "      <td>20</td>\n",
              "      <td>3.0</td>\n",
              "      <td>2.0</td>\n",
              "      <td>16</td>\n",
              "      <td>3280</td>\n",
              "      <td>200</td>\n",
              "      <td>42</td>\n",
              "      <td>196</td>\n",
              "      <td>2.93</td>\n",
              "      <td>Domestic</td>\n",
              "    </tr>\n",
              "    <tr>\n",
              "      <th>8</th>\n",
              "      <td>Buick Riviera</td>\n",
              "      <td>10372</td>\n",
              "      <td>16</td>\n",
              "      <td>3.0</td>\n",
              "      <td>3.5</td>\n",
              "      <td>17</td>\n",
              "      <td>3880</td>\n",
              "      <td>207</td>\n",
              "      <td>43</td>\n",
              "      <td>231</td>\n",
              "      <td>2.93</td>\n",
              "      <td>Domestic</td>\n",
              "    </tr>\n",
              "    <tr>\n",
              "      <th>9</th>\n",
              "      <td>Buick Skylark</td>\n",
              "      <td>4082</td>\n",
              "      <td>19</td>\n",
              "      <td>3.0</td>\n",
              "      <td>3.5</td>\n",
              "      <td>13</td>\n",
              "      <td>3400</td>\n",
              "      <td>200</td>\n",
              "      <td>42</td>\n",
              "      <td>231</td>\n",
              "      <td>3.08</td>\n",
              "      <td>Domestic</td>\n",
              "    </tr>\n",
              "    <tr>\n",
              "      <th>10</th>\n",
              "      <td>Cad. Deville</td>\n",
              "      <td>11385</td>\n",
              "      <td>14</td>\n",
              "      <td>3.0</td>\n",
              "      <td>4.0</td>\n",
              "      <td>20</td>\n",
              "      <td>4330</td>\n",
              "      <td>221</td>\n",
              "      <td>44</td>\n",
              "      <td>425</td>\n",
              "      <td>2.28</td>\n",
              "      <td>Domestic</td>\n",
              "    </tr>\n",
              "    <tr>\n",
              "      <th>11</th>\n",
              "      <td>Cad. Eldorado</td>\n",
              "      <td>14500</td>\n",
              "      <td>14</td>\n",
              "      <td>2.0</td>\n",
              "      <td>3.5</td>\n",
              "      <td>16</td>\n",
              "      <td>3900</td>\n",
              "      <td>204</td>\n",
              "      <td>43</td>\n",
              "      <td>350</td>\n",
              "      <td>2.19</td>\n",
              "      <td>Domestic</td>\n",
              "    </tr>\n",
              "    <tr>\n",
              "      <th>12</th>\n",
              "      <td>Cad. Seville</td>\n",
              "      <td>15906</td>\n",
              "      <td>21</td>\n",
              "      <td>3.0</td>\n",
              "      <td>3.0</td>\n",
              "      <td>13</td>\n",
              "      <td>4290</td>\n",
              "      <td>204</td>\n",
              "      <td>45</td>\n",
              "      <td>350</td>\n",
              "      <td>2.24</td>\n",
              "      <td>Domestic</td>\n",
              "    </tr>\n",
              "    <tr>\n",
              "      <th>13</th>\n",
              "      <td>Chev. Chevette</td>\n",
              "      <td>3299</td>\n",
              "      <td>29</td>\n",
              "      <td>3.0</td>\n",
              "      <td>2.5</td>\n",
              "      <td>9</td>\n",
              "      <td>2110</td>\n",
              "      <td>163</td>\n",
              "      <td>34</td>\n",
              "      <td>231</td>\n",
              "      <td>2.93</td>\n",
              "      <td>Domestic</td>\n",
              "    </tr>\n",
              "    <tr>\n",
              "      <th>14</th>\n",
              "      <td>Chev. Impala</td>\n",
              "      <td>5705</td>\n",
              "      <td>16</td>\n",
              "      <td>4.0</td>\n",
              "      <td>4.0</td>\n",
              "      <td>20</td>\n",
              "      <td>3690</td>\n",
              "      <td>212</td>\n",
              "      <td>43</td>\n",
              "      <td>250</td>\n",
              "      <td>2.56</td>\n",
              "      <td>Domestic</td>\n",
              "    </tr>\n",
              "    <tr>\n",
              "      <th>15</th>\n",
              "      <td>Chev. Malibu</td>\n",
              "      <td>4504</td>\n",
              "      <td>22</td>\n",
              "      <td>3.0</td>\n",
              "      <td>3.5</td>\n",
              "      <td>17</td>\n",
              "      <td>3180</td>\n",
              "      <td>193</td>\n",
              "      <td>31</td>\n",
              "      <td>200</td>\n",
              "      <td>2.73</td>\n",
              "      <td>Domestic</td>\n",
              "    </tr>\n",
              "    <tr>\n",
              "      <th>16</th>\n",
              "      <td>Chev. Monte Carlo</td>\n",
              "      <td>5104</td>\n",
              "      <td>22</td>\n",
              "      <td>2.0</td>\n",
              "      <td>2.0</td>\n",
              "      <td>16</td>\n",
              "      <td>3220</td>\n",
              "      <td>200</td>\n",
              "      <td>41</td>\n",
              "      <td>200</td>\n",
              "      <td>2.73</td>\n",
              "      <td>Domestic</td>\n",
              "    </tr>\n",
              "    <tr>\n",
              "      <th>17</th>\n",
              "      <td>Chev. Monza</td>\n",
              "      <td>3667</td>\n",
              "      <td>24</td>\n",
              "      <td>2.0</td>\n",
              "      <td>2.0</td>\n",
              "      <td>7</td>\n",
              "      <td>2750</td>\n",
              "      <td>179</td>\n",
              "      <td>40</td>\n",
              "      <td>151</td>\n",
              "      <td>2.73</td>\n",
              "      <td>Domestic</td>\n",
              "    </tr>\n",
              "    <tr>\n",
              "      <th>18</th>\n",
              "      <td>Chev. Nova</td>\n",
              "      <td>3955</td>\n",
              "      <td>19</td>\n",
              "      <td>3.0</td>\n",
              "      <td>3.5</td>\n",
              "      <td>13</td>\n",
              "      <td>3430</td>\n",
              "      <td>197</td>\n",
              "      <td>43</td>\n",
              "      <td>250</td>\n",
              "      <td>2.56</td>\n",
              "      <td>Domestic</td>\n",
              "    </tr>\n",
              "    <tr>\n",
              "      <th>19</th>\n",
              "      <td>Dodge Colt</td>\n",
              "      <td>3984</td>\n",
              "      <td>30</td>\n",
              "      <td>5.0</td>\n",
              "      <td>2.0</td>\n",
              "      <td>8</td>\n",
              "      <td>2120</td>\n",
              "      <td>163</td>\n",
              "      <td>35</td>\n",
              "      <td>98</td>\n",
              "      <td>3.54</td>\n",
              "      <td>Domestic</td>\n",
              "    </tr>\n",
              "    <tr>\n",
              "      <th>20</th>\n",
              "      <td>Dodge Diplomat</td>\n",
              "      <td>4010</td>\n",
              "      <td>18</td>\n",
              "      <td>2.0</td>\n",
              "      <td>4.0</td>\n",
              "      <td>17</td>\n",
              "      <td>3600</td>\n",
              "      <td>206</td>\n",
              "      <td>46</td>\n",
              "      <td>318</td>\n",
              "      <td>2.47</td>\n",
              "      <td>Domestic</td>\n",
              "    </tr>\n",
              "    <tr>\n",
              "      <th>21</th>\n",
              "      <td>Dodge Magnum</td>\n",
              "      <td>5886</td>\n",
              "      <td>16</td>\n",
              "      <td>2.0</td>\n",
              "      <td>4.0</td>\n",
              "      <td>17</td>\n",
              "      <td>3600</td>\n",
              "      <td>206</td>\n",
              "      <td>46</td>\n",
              "      <td>318</td>\n",
              "      <td>2.47</td>\n",
              "      <td>Domestic</td>\n",
              "    </tr>\n",
              "    <tr>\n",
              "      <th>22</th>\n",
              "      <td>Dodge St. Regis</td>\n",
              "      <td>6342</td>\n",
              "      <td>17</td>\n",
              "      <td>2.0</td>\n",
              "      <td>4.5</td>\n",
              "      <td>21</td>\n",
              "      <td>3740</td>\n",
              "      <td>220</td>\n",
              "      <td>46</td>\n",
              "      <td>225</td>\n",
              "      <td>2.94</td>\n",
              "      <td>Domestic</td>\n",
              "    </tr>\n",
              "    <tr>\n",
              "      <th>23</th>\n",
              "      <td>Ford Fiesta</td>\n",
              "      <td>4389</td>\n",
              "      <td>28</td>\n",
              "      <td>4.0</td>\n",
              "      <td>1.5</td>\n",
              "      <td>9</td>\n",
              "      <td>1800</td>\n",
              "      <td>147</td>\n",
              "      <td>33</td>\n",
              "      <td>98</td>\n",
              "      <td>3.15</td>\n",
              "      <td>Domestic</td>\n",
              "    </tr>\n",
              "    <tr>\n",
              "      <th>24</th>\n",
              "      <td>Ford Mustang</td>\n",
              "      <td>4187</td>\n",
              "      <td>21</td>\n",
              "      <td>3.0</td>\n",
              "      <td>2.0</td>\n",
              "      <td>10</td>\n",
              "      <td>2650</td>\n",
              "      <td>179</td>\n",
              "      <td>43</td>\n",
              "      <td>140</td>\n",
              "      <td>3.08</td>\n",
              "      <td>Domestic</td>\n",
              "    </tr>\n",
              "    <tr>\n",
              "      <th>25</th>\n",
              "      <td>Linc. Continental</td>\n",
              "      <td>11497</td>\n",
              "      <td>12</td>\n",
              "      <td>3.0</td>\n",
              "      <td>3.5</td>\n",
              "      <td>22</td>\n",
              "      <td>4840</td>\n",
              "      <td>233</td>\n",
              "      <td>51</td>\n",
              "      <td>400</td>\n",
              "      <td>2.47</td>\n",
              "      <td>Domestic</td>\n",
              "    </tr>\n",
              "    <tr>\n",
              "      <th>26</th>\n",
              "      <td>Linc. Mark V</td>\n",
              "      <td>13594</td>\n",
              "      <td>12</td>\n",
              "      <td>3.0</td>\n",
              "      <td>2.5</td>\n",
              "      <td>18</td>\n",
              "      <td>4720</td>\n",
              "      <td>230</td>\n",
              "      <td>48</td>\n",
              "      <td>400</td>\n",
              "      <td>2.47</td>\n",
              "      <td>Domestic</td>\n",
              "    </tr>\n",
              "    <tr>\n",
              "      <th>27</th>\n",
              "      <td>Linc. Versailles</td>\n",
              "      <td>13466</td>\n",
              "      <td>14</td>\n",
              "      <td>3.0</td>\n",
              "      <td>3.5</td>\n",
              "      <td>15</td>\n",
              "      <td>3830</td>\n",
              "      <td>201</td>\n",
              "      <td>41</td>\n",
              "      <td>302</td>\n",
              "      <td>2.47</td>\n",
              "      <td>Domestic</td>\n",
              "    </tr>\n",
              "    <tr>\n",
              "      <th>28</th>\n",
              "      <td>Merc. Bobcat</td>\n",
              "      <td>3829</td>\n",
              "      <td>22</td>\n",
              "      <td>4.0</td>\n",
              "      <td>3.0</td>\n",
              "      <td>9</td>\n",
              "      <td>2580</td>\n",
              "      <td>169</td>\n",
              "      <td>39</td>\n",
              "      <td>140</td>\n",
              "      <td>2.73</td>\n",
              "      <td>Domestic</td>\n",
              "    </tr>\n",
              "    <tr>\n",
              "      <th>29</th>\n",
              "      <td>Merc. Cougar</td>\n",
              "      <td>5379</td>\n",
              "      <td>14</td>\n",
              "      <td>4.0</td>\n",
              "      <td>3.5</td>\n",
              "      <td>16</td>\n",
              "      <td>4060</td>\n",
              "      <td>221</td>\n",
              "      <td>48</td>\n",
              "      <td>302</td>\n",
              "      <td>2.75</td>\n",
              "      <td>Domestic</td>\n",
              "    </tr>\n",
              "    <tr>\n",
              "      <th>30</th>\n",
              "      <td>Merc. Marquis</td>\n",
              "      <td>6165</td>\n",
              "      <td>15</td>\n",
              "      <td>3.0</td>\n",
              "      <td>3.5</td>\n",
              "      <td>23</td>\n",
              "      <td>3720</td>\n",
              "      <td>212</td>\n",
              "      <td>44</td>\n",
              "      <td>302</td>\n",
              "      <td>2.26</td>\n",
              "      <td>Domestic</td>\n",
              "    </tr>\n",
              "    <tr>\n",
              "      <th>31</th>\n",
              "      <td>Merc. Monarch</td>\n",
              "      <td>4516</td>\n",
              "      <td>18</td>\n",
              "      <td>3.0</td>\n",
              "      <td>3.0</td>\n",
              "      <td>15</td>\n",
              "      <td>3370</td>\n",
              "      <td>198</td>\n",
              "      <td>41</td>\n",
              "      <td>250</td>\n",
              "      <td>2.43</td>\n",
              "      <td>Domestic</td>\n",
              "    </tr>\n",
              "    <tr>\n",
              "      <th>32</th>\n",
              "      <td>Merc. XR-7</td>\n",
              "      <td>6303</td>\n",
              "      <td>14</td>\n",
              "      <td>4.0</td>\n",
              "      <td>3.0</td>\n",
              "      <td>16</td>\n",
              "      <td>4130</td>\n",
              "      <td>217</td>\n",
              "      <td>45</td>\n",
              "      <td>302</td>\n",
              "      <td>2.75</td>\n",
              "      <td>Domestic</td>\n",
              "    </tr>\n",
              "    <tr>\n",
              "      <th>33</th>\n",
              "      <td>Merc. Zephyr</td>\n",
              "      <td>3291</td>\n",
              "      <td>20</td>\n",
              "      <td>3.0</td>\n",
              "      <td>3.5</td>\n",
              "      <td>17</td>\n",
              "      <td>2830</td>\n",
              "      <td>195</td>\n",
              "      <td>43</td>\n",
              "      <td>140</td>\n",
              "      <td>3.08</td>\n",
              "      <td>Domestic</td>\n",
              "    </tr>\n",
              "    <tr>\n",
              "      <th>34</th>\n",
              "      <td>Olds 98</td>\n",
              "      <td>8814</td>\n",
              "      <td>21</td>\n",
              "      <td>4.0</td>\n",
              "      <td>4.0</td>\n",
              "      <td>20</td>\n",
              "      <td>4060</td>\n",
              "      <td>220</td>\n",
              "      <td>43</td>\n",
              "      <td>350</td>\n",
              "      <td>2.41</td>\n",
              "      <td>Domestic</td>\n",
              "    </tr>\n",
              "    <tr>\n",
              "      <th>35</th>\n",
              "      <td>Olds Cutl Supr</td>\n",
              "      <td>5172</td>\n",
              "      <td>19</td>\n",
              "      <td>3.0</td>\n",
              "      <td>2.0</td>\n",
              "      <td>16</td>\n",
              "      <td>3310</td>\n",
              "      <td>198</td>\n",
              "      <td>42</td>\n",
              "      <td>231</td>\n",
              "      <td>2.93</td>\n",
              "      <td>Domestic</td>\n",
              "    </tr>\n",
              "    <tr>\n",
              "      <th>36</th>\n",
              "      <td>Olds Cutlass</td>\n",
              "      <td>4733</td>\n",
              "      <td>19</td>\n",
              "      <td>3.0</td>\n",
              "      <td>4.5</td>\n",
              "      <td>16</td>\n",
              "      <td>3300</td>\n",
              "      <td>198</td>\n",
              "      <td>42</td>\n",
              "      <td>231</td>\n",
              "      <td>2.93</td>\n",
              "      <td>Domestic</td>\n",
              "    </tr>\n",
              "    <tr>\n",
              "      <th>37</th>\n",
              "      <td>Olds Delta 88</td>\n",
              "      <td>4890</td>\n",
              "      <td>18</td>\n",
              "      <td>4.0</td>\n",
              "      <td>4.0</td>\n",
              "      <td>20</td>\n",
              "      <td>3690</td>\n",
              "      <td>218</td>\n",
              "      <td>42</td>\n",
              "      <td>231</td>\n",
              "      <td>2.73</td>\n",
              "      <td>Domestic</td>\n",
              "    </tr>\n",
              "    <tr>\n",
              "      <th>38</th>\n",
              "      <td>Olds Omega</td>\n",
              "      <td>4181</td>\n",
              "      <td>19</td>\n",
              "      <td>3.0</td>\n",
              "      <td>4.5</td>\n",
              "      <td>14</td>\n",
              "      <td>3370</td>\n",
              "      <td>200</td>\n",
              "      <td>43</td>\n",
              "      <td>231</td>\n",
              "      <td>3.08</td>\n",
              "      <td>Domestic</td>\n",
              "    </tr>\n",
              "    <tr>\n",
              "      <th>39</th>\n",
              "      <td>Olds Starfire</td>\n",
              "      <td>4195</td>\n",
              "      <td>24</td>\n",
              "      <td>1.0</td>\n",
              "      <td>2.0</td>\n",
              "      <td>10</td>\n",
              "      <td>2730</td>\n",
              "      <td>180</td>\n",
              "      <td>40</td>\n",
              "      <td>151</td>\n",
              "      <td>2.73</td>\n",
              "      <td>Domestic</td>\n",
              "    </tr>\n",
              "    <tr>\n",
              "      <th>40</th>\n",
              "      <td>Olds Toronado</td>\n",
              "      <td>10371</td>\n",
              "      <td>16</td>\n",
              "      <td>3.0</td>\n",
              "      <td>3.5</td>\n",
              "      <td>17</td>\n",
              "      <td>4030</td>\n",
              "      <td>206</td>\n",
              "      <td>43</td>\n",
              "      <td>350</td>\n",
              "      <td>2.41</td>\n",
              "      <td>Domestic</td>\n",
              "    </tr>\n",
              "    <tr>\n",
              "      <th>41</th>\n",
              "      <td>Plym. Arrow</td>\n",
              "      <td>4647</td>\n",
              "      <td>28</td>\n",
              "      <td>3.0</td>\n",
              "      <td>2.0</td>\n",
              "      <td>11</td>\n",
              "      <td>3260</td>\n",
              "      <td>170</td>\n",
              "      <td>37</td>\n",
              "      <td>156</td>\n",
              "      <td>3.05</td>\n",
              "      <td>Domestic</td>\n",
              "    </tr>\n",
              "    <tr>\n",
              "      <th>42</th>\n",
              "      <td>Plym. Champ</td>\n",
              "      <td>4425</td>\n",
              "      <td>34</td>\n",
              "      <td>5.0</td>\n",
              "      <td>2.5</td>\n",
              "      <td>11</td>\n",
              "      <td>1800</td>\n",
              "      <td>157</td>\n",
              "      <td>37</td>\n",
              "      <td>86</td>\n",
              "      <td>2.97</td>\n",
              "      <td>Domestic</td>\n",
              "    </tr>\n",
              "    <tr>\n",
              "      <th>43</th>\n",
              "      <td>Plym. Horizon</td>\n",
              "      <td>4482</td>\n",
              "      <td>25</td>\n",
              "      <td>3.0</td>\n",
              "      <td>4.0</td>\n",
              "      <td>17</td>\n",
              "      <td>2200</td>\n",
              "      <td>165</td>\n",
              "      <td>36</td>\n",
              "      <td>105</td>\n",
              "      <td>3.37</td>\n",
              "      <td>Domestic</td>\n",
              "    </tr>\n",
              "    <tr>\n",
              "      <th>44</th>\n",
              "      <td>Plym. Sapporo</td>\n",
              "      <td>6486</td>\n",
              "      <td>26</td>\n",
              "      <td>NaN</td>\n",
              "      <td>1.5</td>\n",
              "      <td>8</td>\n",
              "      <td>2520</td>\n",
              "      <td>182</td>\n",
              "      <td>38</td>\n",
              "      <td>119</td>\n",
              "      <td>3.54</td>\n",
              "      <td>Domestic</td>\n",
              "    </tr>\n",
              "    <tr>\n",
              "      <th>45</th>\n",
              "      <td>Plym. Volare</td>\n",
              "      <td>4060</td>\n",
              "      <td>18</td>\n",
              "      <td>2.0</td>\n",
              "      <td>5.0</td>\n",
              "      <td>16</td>\n",
              "      <td>3330</td>\n",
              "      <td>201</td>\n",
              "      <td>44</td>\n",
              "      <td>225</td>\n",
              "      <td>3.23</td>\n",
              "      <td>Domestic</td>\n",
              "    </tr>\n",
              "    <tr>\n",
              "      <th>46</th>\n",
              "      <td>Pont. Catalina</td>\n",
              "      <td>5798</td>\n",
              "      <td>18</td>\n",
              "      <td>4.0</td>\n",
              "      <td>4.0</td>\n",
              "      <td>20</td>\n",
              "      <td>3700</td>\n",
              "      <td>214</td>\n",
              "      <td>42</td>\n",
              "      <td>231</td>\n",
              "      <td>2.73</td>\n",
              "      <td>Domestic</td>\n",
              "    </tr>\n",
              "    <tr>\n",
              "      <th>47</th>\n",
              "      <td>Pont. Firebird</td>\n",
              "      <td>4934</td>\n",
              "      <td>18</td>\n",
              "      <td>1.0</td>\n",
              "      <td>1.5</td>\n",
              "      <td>7</td>\n",
              "      <td>3470</td>\n",
              "      <td>198</td>\n",
              "      <td>42</td>\n",
              "      <td>231</td>\n",
              "      <td>3.08</td>\n",
              "      <td>Domestic</td>\n",
              "    </tr>\n",
              "    <tr>\n",
              "      <th>48</th>\n",
              "      <td>Pont. Grand Prix</td>\n",
              "      <td>5222</td>\n",
              "      <td>19</td>\n",
              "      <td>3.0</td>\n",
              "      <td>2.0</td>\n",
              "      <td>16</td>\n",
              "      <td>3210</td>\n",
              "      <td>201</td>\n",
              "      <td>45</td>\n",
              "      <td>231</td>\n",
              "      <td>2.93</td>\n",
              "      <td>Domestic</td>\n",
              "    </tr>\n",
              "    <tr>\n",
              "      <th>49</th>\n",
              "      <td>Pont. Le Mans</td>\n",
              "      <td>4723</td>\n",
              "      <td>19</td>\n",
              "      <td>3.0</td>\n",
              "      <td>3.5</td>\n",
              "      <td>17</td>\n",
              "      <td>3200</td>\n",
              "      <td>199</td>\n",
              "      <td>40</td>\n",
              "      <td>231</td>\n",
              "      <td>2.93</td>\n",
              "      <td>Domestic</td>\n",
              "    </tr>\n",
              "    <tr>\n",
              "      <th>50</th>\n",
              "      <td>Pont. Phoenix</td>\n",
              "      <td>4424</td>\n",
              "      <td>19</td>\n",
              "      <td>NaN</td>\n",
              "      <td>3.5</td>\n",
              "      <td>13</td>\n",
              "      <td>3420</td>\n",
              "      <td>203</td>\n",
              "      <td>43</td>\n",
              "      <td>231</td>\n",
              "      <td>3.08</td>\n",
              "      <td>Domestic</td>\n",
              "    </tr>\n",
              "    <tr>\n",
              "      <th>51</th>\n",
              "      <td>Pont. Sunbird</td>\n",
              "      <td>4172</td>\n",
              "      <td>24</td>\n",
              "      <td>2.0</td>\n",
              "      <td>2.0</td>\n",
              "      <td>7</td>\n",
              "      <td>2690</td>\n",
              "      <td>179</td>\n",
              "      <td>41</td>\n",
              "      <td>151</td>\n",
              "      <td>2.73</td>\n",
              "      <td>Domestic</td>\n",
              "    </tr>\n",
              "  </tbody>\n",
              "</table>\n",
              "</div>\n",
              "      <button class=\"colab-df-convert\" onclick=\"convertToInteractive('df-0ffb6530-288e-4f6e-8016-33c37d036ebc')\"\n",
              "              title=\"Convert this dataframe to an interactive table.\"\n",
              "              style=\"display:none;\">\n",
              "        \n",
              "  <svg xmlns=\"http://www.w3.org/2000/svg\" height=\"24px\"viewBox=\"0 0 24 24\"\n",
              "       width=\"24px\">\n",
              "    <path d=\"M0 0h24v24H0V0z\" fill=\"none\"/>\n",
              "    <path d=\"M18.56 5.44l.94 2.06.94-2.06 2.06-.94-2.06-.94-.94-2.06-.94 2.06-2.06.94zm-11 1L8.5 8.5l.94-2.06 2.06-.94-2.06-.94L8.5 2.5l-.94 2.06-2.06.94zm10 10l.94 2.06.94-2.06 2.06-.94-2.06-.94-.94-2.06-.94 2.06-2.06.94z\"/><path d=\"M17.41 7.96l-1.37-1.37c-.4-.4-.92-.59-1.43-.59-.52 0-1.04.2-1.43.59L10.3 9.45l-7.72 7.72c-.78.78-.78 2.05 0 2.83L4 21.41c.39.39.9.59 1.41.59.51 0 1.02-.2 1.41-.59l7.78-7.78 2.81-2.81c.8-.78.8-2.07 0-2.86zM5.41 20L4 18.59l7.72-7.72 1.47 1.35L5.41 20z\"/>\n",
              "  </svg>\n",
              "      </button>\n",
              "      \n",
              "  <style>\n",
              "    .colab-df-container {\n",
              "      display:flex;\n",
              "      flex-wrap:wrap;\n",
              "      gap: 12px;\n",
              "    }\n",
              "\n",
              "    .colab-df-convert {\n",
              "      background-color: #E8F0FE;\n",
              "      border: none;\n",
              "      border-radius: 50%;\n",
              "      cursor: pointer;\n",
              "      display: none;\n",
              "      fill: #1967D2;\n",
              "      height: 32px;\n",
              "      padding: 0 0 0 0;\n",
              "      width: 32px;\n",
              "    }\n",
              "\n",
              "    .colab-df-convert:hover {\n",
              "      background-color: #E2EBFA;\n",
              "      box-shadow: 0px 1px 2px rgba(60, 64, 67, 0.3), 0px 1px 3px 1px rgba(60, 64, 67, 0.15);\n",
              "      fill: #174EA6;\n",
              "    }\n",
              "\n",
              "    [theme=dark] .colab-df-convert {\n",
              "      background-color: #3B4455;\n",
              "      fill: #D2E3FC;\n",
              "    }\n",
              "\n",
              "    [theme=dark] .colab-df-convert:hover {\n",
              "      background-color: #434B5C;\n",
              "      box-shadow: 0px 1px 3px 1px rgba(0, 0, 0, 0.15);\n",
              "      filter: drop-shadow(0px 1px 2px rgba(0, 0, 0, 0.3));\n",
              "      fill: #FFFFFF;\n",
              "    }\n",
              "  </style>\n",
              "\n",
              "      <script>\n",
              "        const buttonEl =\n",
              "          document.querySelector('#df-0ffb6530-288e-4f6e-8016-33c37d036ebc button.colab-df-convert');\n",
              "        buttonEl.style.display =\n",
              "          google.colab.kernel.accessAllowed ? 'block' : 'none';\n",
              "\n",
              "        async function convertToInteractive(key) {\n",
              "          const element = document.querySelector('#df-0ffb6530-288e-4f6e-8016-33c37d036ebc');\n",
              "          const dataTable =\n",
              "            await google.colab.kernel.invokeFunction('convertToInteractive',\n",
              "                                                     [key], {});\n",
              "          if (!dataTable) return;\n",
              "\n",
              "          const docLinkHtml = 'Like what you see? Visit the ' +\n",
              "            '<a target=\"_blank\" href=https://colab.research.google.com/notebooks/data_table.ipynb>data table notebook</a>'\n",
              "            + ' to learn more about interactive tables.';\n",
              "          element.innerHTML = '';\n",
              "          dataTable['output_type'] = 'display_data';\n",
              "          await google.colab.output.renderOutput(dataTable, element);\n",
              "          const docLink = document.createElement('div');\n",
              "          docLink.innerHTML = docLinkHtml;\n",
              "          element.appendChild(docLink);\n",
              "        }\n",
              "      </script>\n",
              "    </div>\n",
              "  </div>\n",
              "  "
            ],
            "application/vnd.google.colaboratory.module+javascript": "\n      import \"https://ssl.gstatic.com/colaboratory/data_table/fb998edc550c7947/data_table.js\";\n\n      window.createDataTable({\n        data: [[{\n            'v': 0,\n            'f': \"0\",\n        },\n\"AMC Concord\",\n{\n            'v': 4099,\n            'f': \"4099\",\n        },\n{\n            'v': 22,\n            'f': \"22\",\n        },\n{\n            'v': 3.0,\n            'f': \"3.0\",\n        },\n{\n            'v': 2.5,\n            'f': \"2.5\",\n        },\n{\n            'v': 11,\n            'f': \"11\",\n        },\n{\n            'v': 2930,\n            'f': \"2930\",\n        },\n{\n            'v': 186,\n            'f': \"186\",\n        },\n{\n            'v': 40,\n            'f': \"40\",\n        },\n{\n            'v': 121,\n            'f': \"121\",\n        },\n{\n            'v': 3.5799999237060547,\n            'f': \"3.5799999237060547\",\n        },\n\"Domestic\"],\n [{\n            'v': 1,\n            'f': \"1\",\n        },\n\"AMC Pacer\",\n{\n            'v': 4749,\n            'f': \"4749\",\n        },\n{\n            'v': 17,\n            'f': \"17\",\n        },\n{\n            'v': 3.0,\n            'f': \"3.0\",\n        },\n{\n            'v': 3.0,\n            'f': \"3.0\",\n        },\n{\n            'v': 11,\n            'f': \"11\",\n        },\n{\n            'v': 3350,\n            'f': \"3350\",\n        },\n{\n            'v': 173,\n            'f': \"173\",\n        },\n{\n            'v': 40,\n            'f': \"40\",\n        },\n{\n            'v': 258,\n            'f': \"258\",\n        },\n{\n            'v': 2.5299999713897705,\n            'f': \"2.5299999713897705\",\n        },\n\"Domestic\"],\n [{\n            'v': 2,\n            'f': \"2\",\n        },\n\"AMC Spirit\",\n{\n            'v': 3799,\n            'f': \"3799\",\n        },\n{\n            'v': 22,\n            'f': \"22\",\n        },\n{\n            'v': NaN,\n            'f': \"NaN\",\n        },\n{\n            'v': 3.0,\n            'f': \"3.0\",\n        },\n{\n            'v': 12,\n            'f': \"12\",\n        },\n{\n            'v': 2640,\n            'f': \"2640\",\n        },\n{\n            'v': 168,\n            'f': \"168\",\n        },\n{\n            'v': 35,\n            'f': \"35\",\n        },\n{\n            'v': 121,\n            'f': \"121\",\n        },\n{\n            'v': 3.0799999237060547,\n            'f': \"3.0799999237060547\",\n        },\n\"Domestic\"],\n [{\n            'v': 3,\n            'f': \"3\",\n        },\n\"Buick Century\",\n{\n            'v': 4816,\n            'f': \"4816\",\n        },\n{\n            'v': 20,\n            'f': \"20\",\n        },\n{\n            'v': 3.0,\n            'f': \"3.0\",\n        },\n{\n            'v': 4.5,\n            'f': \"4.5\",\n        },\n{\n            'v': 16,\n            'f': \"16\",\n        },\n{\n            'v': 3250,\n            'f': \"3250\",\n        },\n{\n            'v': 196,\n            'f': \"196\",\n        },\n{\n            'v': 40,\n            'f': \"40\",\n        },\n{\n            'v': 196,\n            'f': \"196\",\n        },\n{\n            'v': 2.930000066757202,\n            'f': \"2.930000066757202\",\n        },\n\"Domestic\"],\n [{\n            'v': 4,\n            'f': \"4\",\n        },\n\"Buick Electra\",\n{\n            'v': 7827,\n            'f': \"7827\",\n        },\n{\n            'v': 15,\n            'f': \"15\",\n        },\n{\n            'v': 4.0,\n            'f': \"4.0\",\n        },\n{\n            'v': 4.0,\n            'f': \"4.0\",\n        },\n{\n            'v': 20,\n            'f': \"20\",\n        },\n{\n            'v': 4080,\n            'f': \"4080\",\n        },\n{\n            'v': 222,\n            'f': \"222\",\n        },\n{\n            'v': 43,\n            'f': \"43\",\n        },\n{\n            'v': 350,\n            'f': \"350\",\n        },\n{\n            'v': 2.4100000858306885,\n            'f': \"2.4100000858306885\",\n        },\n\"Domestic\"],\n [{\n            'v': 5,\n            'f': \"5\",\n        },\n\"Buick LeSabre\",\n{\n            'v': 5788,\n            'f': \"5788\",\n        },\n{\n            'v': 18,\n            'f': \"18\",\n        },\n{\n            'v': 3.0,\n            'f': \"3.0\",\n        },\n{\n            'v': 4.0,\n            'f': \"4.0\",\n        },\n{\n            'v': 21,\n            'f': \"21\",\n        },\n{\n            'v': 3670,\n            'f': \"3670\",\n        },\n{\n            'v': 218,\n            'f': \"218\",\n        },\n{\n            'v': 43,\n            'f': \"43\",\n        },\n{\n            'v': 231,\n            'f': \"231\",\n        },\n{\n            'v': 2.7300000190734863,\n            'f': \"2.7300000190734863\",\n        },\n\"Domestic\"],\n [{\n            'v': 6,\n            'f': \"6\",\n        },\n\"Buick Opel\",\n{\n            'v': 4453,\n            'f': \"4453\",\n        },\n{\n            'v': 26,\n            'f': \"26\",\n        },\n{\n            'v': NaN,\n            'f': \"NaN\",\n        },\n{\n            'v': 3.0,\n            'f': \"3.0\",\n        },\n{\n            'v': 10,\n            'f': \"10\",\n        },\n{\n            'v': 2230,\n            'f': \"2230\",\n        },\n{\n            'v': 170,\n            'f': \"170\",\n        },\n{\n            'v': 34,\n            'f': \"34\",\n        },\n{\n            'v': 304,\n            'f': \"304\",\n        },\n{\n            'v': 2.869999885559082,\n            'f': \"2.869999885559082\",\n        },\n\"Domestic\"],\n [{\n            'v': 7,\n            'f': \"7\",\n        },\n\"Buick Regal\",\n{\n            'v': 5189,\n            'f': \"5189\",\n        },\n{\n            'v': 20,\n            'f': \"20\",\n        },\n{\n            'v': 3.0,\n            'f': \"3.0\",\n        },\n{\n            'v': 2.0,\n            'f': \"2.0\",\n        },\n{\n            'v': 16,\n            'f': \"16\",\n        },\n{\n            'v': 3280,\n            'f': \"3280\",\n        },\n{\n            'v': 200,\n            'f': \"200\",\n        },\n{\n            'v': 42,\n            'f': \"42\",\n        },\n{\n            'v': 196,\n            'f': \"196\",\n        },\n{\n            'v': 2.930000066757202,\n            'f': \"2.930000066757202\",\n        },\n\"Domestic\"],\n [{\n            'v': 8,\n            'f': \"8\",\n        },\n\"Buick Riviera\",\n{\n            'v': 10372,\n            'f': \"10372\",\n        },\n{\n            'v': 16,\n            'f': \"16\",\n        },\n{\n            'v': 3.0,\n            'f': \"3.0\",\n        },\n{\n            'v': 3.5,\n            'f': \"3.5\",\n        },\n{\n            'v': 17,\n            'f': \"17\",\n        },\n{\n            'v': 3880,\n            'f': \"3880\",\n        },\n{\n            'v': 207,\n            'f': \"207\",\n        },\n{\n            'v': 43,\n            'f': \"43\",\n        },\n{\n            'v': 231,\n            'f': \"231\",\n        },\n{\n            'v': 2.930000066757202,\n            'f': \"2.930000066757202\",\n        },\n\"Domestic\"],\n [{\n            'v': 9,\n            'f': \"9\",\n        },\n\"Buick Skylark\",\n{\n            'v': 4082,\n            'f': \"4082\",\n        },\n{\n            'v': 19,\n            'f': \"19\",\n        },\n{\n            'v': 3.0,\n            'f': \"3.0\",\n        },\n{\n            'v': 3.5,\n            'f': \"3.5\",\n        },\n{\n            'v': 13,\n            'f': \"13\",\n        },\n{\n            'v': 3400,\n            'f': \"3400\",\n        },\n{\n            'v': 200,\n            'f': \"200\",\n        },\n{\n            'v': 42,\n            'f': \"42\",\n        },\n{\n            'v': 231,\n            'f': \"231\",\n        },\n{\n            'v': 3.0799999237060547,\n            'f': \"3.0799999237060547\",\n        },\n\"Domestic\"],\n [{\n            'v': 10,\n            'f': \"10\",\n        },\n\"Cad. Deville\",\n{\n            'v': 11385,\n            'f': \"11385\",\n        },\n{\n            'v': 14,\n            'f': \"14\",\n        },\n{\n            'v': 3.0,\n            'f': \"3.0\",\n        },\n{\n            'v': 4.0,\n            'f': \"4.0\",\n        },\n{\n            'v': 20,\n            'f': \"20\",\n        },\n{\n            'v': 4330,\n            'f': \"4330\",\n        },\n{\n            'v': 221,\n            'f': \"221\",\n        },\n{\n            'v': 44,\n            'f': \"44\",\n        },\n{\n            'v': 425,\n            'f': \"425\",\n        },\n{\n            'v': 2.2799999713897705,\n            'f': \"2.2799999713897705\",\n        },\n\"Domestic\"],\n [{\n            'v': 11,\n            'f': \"11\",\n        },\n\"Cad. Eldorado\",\n{\n            'v': 14500,\n            'f': \"14500\",\n        },\n{\n            'v': 14,\n            'f': \"14\",\n        },\n{\n            'v': 2.0,\n            'f': \"2.0\",\n        },\n{\n            'v': 3.5,\n            'f': \"3.5\",\n        },\n{\n            'v': 16,\n            'f': \"16\",\n        },\n{\n            'v': 3900,\n            'f': \"3900\",\n        },\n{\n            'v': 204,\n            'f': \"204\",\n        },\n{\n            'v': 43,\n            'f': \"43\",\n        },\n{\n            'v': 350,\n            'f': \"350\",\n        },\n{\n            'v': 2.190000057220459,\n            'f': \"2.190000057220459\",\n        },\n\"Domestic\"],\n [{\n            'v': 12,\n            'f': \"12\",\n        },\n\"Cad. Seville\",\n{\n            'v': 15906,\n            'f': \"15906\",\n        },\n{\n            'v': 21,\n            'f': \"21\",\n        },\n{\n            'v': 3.0,\n            'f': \"3.0\",\n        },\n{\n            'v': 3.0,\n            'f': \"3.0\",\n        },\n{\n            'v': 13,\n            'f': \"13\",\n        },\n{\n            'v': 4290,\n            'f': \"4290\",\n        },\n{\n            'v': 204,\n            'f': \"204\",\n        },\n{\n            'v': 45,\n            'f': \"45\",\n        },\n{\n            'v': 350,\n            'f': \"350\",\n        },\n{\n            'v': 2.240000009536743,\n            'f': \"2.240000009536743\",\n        },\n\"Domestic\"],\n [{\n            'v': 13,\n            'f': \"13\",\n        },\n\"Chev. Chevette\",\n{\n            'v': 3299,\n            'f': \"3299\",\n        },\n{\n            'v': 29,\n            'f': \"29\",\n        },\n{\n            'v': 3.0,\n            'f': \"3.0\",\n        },\n{\n            'v': 2.5,\n            'f': \"2.5\",\n        },\n{\n            'v': 9,\n            'f': \"9\",\n        },\n{\n            'v': 2110,\n            'f': \"2110\",\n        },\n{\n            'v': 163,\n            'f': \"163\",\n        },\n{\n            'v': 34,\n            'f': \"34\",\n        },\n{\n            'v': 231,\n            'f': \"231\",\n        },\n{\n            'v': 2.930000066757202,\n            'f': \"2.930000066757202\",\n        },\n\"Domestic\"],\n [{\n            'v': 14,\n            'f': \"14\",\n        },\n\"Chev. Impala\",\n{\n            'v': 5705,\n            'f': \"5705\",\n        },\n{\n            'v': 16,\n            'f': \"16\",\n        },\n{\n            'v': 4.0,\n            'f': \"4.0\",\n        },\n{\n            'v': 4.0,\n            'f': \"4.0\",\n        },\n{\n            'v': 20,\n            'f': \"20\",\n        },\n{\n            'v': 3690,\n            'f': \"3690\",\n        },\n{\n            'v': 212,\n            'f': \"212\",\n        },\n{\n            'v': 43,\n            'f': \"43\",\n        },\n{\n            'v': 250,\n            'f': \"250\",\n        },\n{\n            'v': 2.559999942779541,\n            'f': \"2.559999942779541\",\n        },\n\"Domestic\"],\n [{\n            'v': 15,\n            'f': \"15\",\n        },\n\"Chev. Malibu\",\n{\n            'v': 4504,\n            'f': \"4504\",\n        },\n{\n            'v': 22,\n            'f': \"22\",\n        },\n{\n            'v': 3.0,\n            'f': \"3.0\",\n        },\n{\n            'v': 3.5,\n            'f': \"3.5\",\n        },\n{\n            'v': 17,\n            'f': \"17\",\n        },\n{\n            'v': 3180,\n            'f': \"3180\",\n        },\n{\n            'v': 193,\n            'f': \"193\",\n        },\n{\n            'v': 31,\n            'f': \"31\",\n        },\n{\n            'v': 200,\n            'f': \"200\",\n        },\n{\n            'v': 2.7300000190734863,\n            'f': \"2.7300000190734863\",\n        },\n\"Domestic\"],\n [{\n            'v': 16,\n            'f': \"16\",\n        },\n\"Chev. Monte Carlo\",\n{\n            'v': 5104,\n            'f': \"5104\",\n        },\n{\n            'v': 22,\n            'f': \"22\",\n        },\n{\n            'v': 2.0,\n            'f': \"2.0\",\n        },\n{\n            'v': 2.0,\n            'f': \"2.0\",\n        },\n{\n            'v': 16,\n            'f': \"16\",\n        },\n{\n            'v': 3220,\n            'f': \"3220\",\n        },\n{\n            'v': 200,\n            'f': \"200\",\n        },\n{\n            'v': 41,\n            'f': \"41\",\n        },\n{\n            'v': 200,\n            'f': \"200\",\n        },\n{\n            'v': 2.7300000190734863,\n            'f': \"2.7300000190734863\",\n        },\n\"Domestic\"],\n [{\n            'v': 17,\n            'f': \"17\",\n        },\n\"Chev. Monza\",\n{\n            'v': 3667,\n            'f': \"3667\",\n        },\n{\n            'v': 24,\n            'f': \"24\",\n        },\n{\n            'v': 2.0,\n            'f': \"2.0\",\n        },\n{\n            'v': 2.0,\n            'f': \"2.0\",\n        },\n{\n            'v': 7,\n            'f': \"7\",\n        },\n{\n            'v': 2750,\n            'f': \"2750\",\n        },\n{\n            'v': 179,\n            'f': \"179\",\n        },\n{\n            'v': 40,\n            'f': \"40\",\n        },\n{\n            'v': 151,\n            'f': \"151\",\n        },\n{\n            'v': 2.7300000190734863,\n            'f': \"2.7300000190734863\",\n        },\n\"Domestic\"],\n [{\n            'v': 18,\n            'f': \"18\",\n        },\n\"Chev. Nova\",\n{\n            'v': 3955,\n            'f': \"3955\",\n        },\n{\n            'v': 19,\n            'f': \"19\",\n        },\n{\n            'v': 3.0,\n            'f': \"3.0\",\n        },\n{\n            'v': 3.5,\n            'f': \"3.5\",\n        },\n{\n            'v': 13,\n            'f': \"13\",\n        },\n{\n            'v': 3430,\n            'f': \"3430\",\n        },\n{\n            'v': 197,\n            'f': \"197\",\n        },\n{\n            'v': 43,\n            'f': \"43\",\n        },\n{\n            'v': 250,\n            'f': \"250\",\n        },\n{\n            'v': 2.559999942779541,\n            'f': \"2.559999942779541\",\n        },\n\"Domestic\"],\n [{\n            'v': 19,\n            'f': \"19\",\n        },\n\"Dodge Colt\",\n{\n            'v': 3984,\n            'f': \"3984\",\n        },\n{\n            'v': 30,\n            'f': \"30\",\n        },\n{\n            'v': 5.0,\n            'f': \"5.0\",\n        },\n{\n            'v': 2.0,\n            'f': \"2.0\",\n        },\n{\n            'v': 8,\n            'f': \"8\",\n        },\n{\n            'v': 2120,\n            'f': \"2120\",\n        },\n{\n            'v': 163,\n            'f': \"163\",\n        },\n{\n            'v': 35,\n            'f': \"35\",\n        },\n{\n            'v': 98,\n            'f': \"98\",\n        },\n{\n            'v': 3.5399999618530273,\n            'f': \"3.5399999618530273\",\n        },\n\"Domestic\"],\n [{\n            'v': 20,\n            'f': \"20\",\n        },\n\"Dodge Diplomat\",\n{\n            'v': 4010,\n            'f': \"4010\",\n        },\n{\n            'v': 18,\n            'f': \"18\",\n        },\n{\n            'v': 2.0,\n            'f': \"2.0\",\n        },\n{\n            'v': 4.0,\n            'f': \"4.0\",\n        },\n{\n            'v': 17,\n            'f': \"17\",\n        },\n{\n            'v': 3600,\n            'f': \"3600\",\n        },\n{\n            'v': 206,\n            'f': \"206\",\n        },\n{\n            'v': 46,\n            'f': \"46\",\n        },\n{\n            'v': 318,\n            'f': \"318\",\n        },\n{\n            'v': 2.4700000286102295,\n            'f': \"2.4700000286102295\",\n        },\n\"Domestic\"],\n [{\n            'v': 21,\n            'f': \"21\",\n        },\n\"Dodge Magnum\",\n{\n            'v': 5886,\n            'f': \"5886\",\n        },\n{\n            'v': 16,\n            'f': \"16\",\n        },\n{\n            'v': 2.0,\n            'f': \"2.0\",\n        },\n{\n            'v': 4.0,\n            'f': \"4.0\",\n        },\n{\n            'v': 17,\n            'f': \"17\",\n        },\n{\n            'v': 3600,\n            'f': \"3600\",\n        },\n{\n            'v': 206,\n            'f': \"206\",\n        },\n{\n            'v': 46,\n            'f': \"46\",\n        },\n{\n            'v': 318,\n            'f': \"318\",\n        },\n{\n            'v': 2.4700000286102295,\n            'f': \"2.4700000286102295\",\n        },\n\"Domestic\"],\n [{\n            'v': 22,\n            'f': \"22\",\n        },\n\"Dodge St. Regis\",\n{\n            'v': 6342,\n            'f': \"6342\",\n        },\n{\n            'v': 17,\n            'f': \"17\",\n        },\n{\n            'v': 2.0,\n            'f': \"2.0\",\n        },\n{\n            'v': 4.5,\n            'f': \"4.5\",\n        },\n{\n            'v': 21,\n            'f': \"21\",\n        },\n{\n            'v': 3740,\n            'f': \"3740\",\n        },\n{\n            'v': 220,\n            'f': \"220\",\n        },\n{\n            'v': 46,\n            'f': \"46\",\n        },\n{\n            'v': 225,\n            'f': \"225\",\n        },\n{\n            'v': 2.940000057220459,\n            'f': \"2.940000057220459\",\n        },\n\"Domestic\"],\n [{\n            'v': 23,\n            'f': \"23\",\n        },\n\"Ford Fiesta\",\n{\n            'v': 4389,\n            'f': \"4389\",\n        },\n{\n            'v': 28,\n            'f': \"28\",\n        },\n{\n            'v': 4.0,\n            'f': \"4.0\",\n        },\n{\n            'v': 1.5,\n            'f': \"1.5\",\n        },\n{\n            'v': 9,\n            'f': \"9\",\n        },\n{\n            'v': 1800,\n            'f': \"1800\",\n        },\n{\n            'v': 147,\n            'f': \"147\",\n        },\n{\n            'v': 33,\n            'f': \"33\",\n        },\n{\n            'v': 98,\n            'f': \"98\",\n        },\n{\n            'v': 3.1500000953674316,\n            'f': \"3.1500000953674316\",\n        },\n\"Domestic\"],\n [{\n            'v': 24,\n            'f': \"24\",\n        },\n\"Ford Mustang\",\n{\n            'v': 4187,\n            'f': \"4187\",\n        },\n{\n            'v': 21,\n            'f': \"21\",\n        },\n{\n            'v': 3.0,\n            'f': \"3.0\",\n        },\n{\n            'v': 2.0,\n            'f': \"2.0\",\n        },\n{\n            'v': 10,\n            'f': \"10\",\n        },\n{\n            'v': 2650,\n            'f': \"2650\",\n        },\n{\n            'v': 179,\n            'f': \"179\",\n        },\n{\n            'v': 43,\n            'f': \"43\",\n        },\n{\n            'v': 140,\n            'f': \"140\",\n        },\n{\n            'v': 3.0799999237060547,\n            'f': \"3.0799999237060547\",\n        },\n\"Domestic\"],\n [{\n            'v': 25,\n            'f': \"25\",\n        },\n\"Linc. Continental\",\n{\n            'v': 11497,\n            'f': \"11497\",\n        },\n{\n            'v': 12,\n            'f': \"12\",\n        },\n{\n            'v': 3.0,\n            'f': \"3.0\",\n        },\n{\n            'v': 3.5,\n            'f': \"3.5\",\n        },\n{\n            'v': 22,\n            'f': \"22\",\n        },\n{\n            'v': 4840,\n            'f': \"4840\",\n        },\n{\n            'v': 233,\n            'f': \"233\",\n        },\n{\n            'v': 51,\n            'f': \"51\",\n        },\n{\n            'v': 400,\n            'f': \"400\",\n        },\n{\n            'v': 2.4700000286102295,\n            'f': \"2.4700000286102295\",\n        },\n\"Domestic\"],\n [{\n            'v': 26,\n            'f': \"26\",\n        },\n\"Linc. Mark V\",\n{\n            'v': 13594,\n            'f': \"13594\",\n        },\n{\n            'v': 12,\n            'f': \"12\",\n        },\n{\n            'v': 3.0,\n            'f': \"3.0\",\n        },\n{\n            'v': 2.5,\n            'f': \"2.5\",\n        },\n{\n            'v': 18,\n            'f': \"18\",\n        },\n{\n            'v': 4720,\n            'f': \"4720\",\n        },\n{\n            'v': 230,\n            'f': \"230\",\n        },\n{\n            'v': 48,\n            'f': \"48\",\n        },\n{\n            'v': 400,\n            'f': \"400\",\n        },\n{\n            'v': 2.4700000286102295,\n            'f': \"2.4700000286102295\",\n        },\n\"Domestic\"],\n [{\n            'v': 27,\n            'f': \"27\",\n        },\n\"Linc. Versailles\",\n{\n            'v': 13466,\n            'f': \"13466\",\n        },\n{\n            'v': 14,\n            'f': \"14\",\n        },\n{\n            'v': 3.0,\n            'f': \"3.0\",\n        },\n{\n            'v': 3.5,\n            'f': \"3.5\",\n        },\n{\n            'v': 15,\n            'f': \"15\",\n        },\n{\n            'v': 3830,\n            'f': \"3830\",\n        },\n{\n            'v': 201,\n            'f': \"201\",\n        },\n{\n            'v': 41,\n            'f': \"41\",\n        },\n{\n            'v': 302,\n            'f': \"302\",\n        },\n{\n            'v': 2.4700000286102295,\n            'f': \"2.4700000286102295\",\n        },\n\"Domestic\"],\n [{\n            'v': 28,\n            'f': \"28\",\n        },\n\"Merc. Bobcat\",\n{\n            'v': 3829,\n            'f': \"3829\",\n        },\n{\n            'v': 22,\n            'f': \"22\",\n        },\n{\n            'v': 4.0,\n            'f': \"4.0\",\n        },\n{\n            'v': 3.0,\n            'f': \"3.0\",\n        },\n{\n            'v': 9,\n            'f': \"9\",\n        },\n{\n            'v': 2580,\n            'f': \"2580\",\n        },\n{\n            'v': 169,\n            'f': \"169\",\n        },\n{\n            'v': 39,\n            'f': \"39\",\n        },\n{\n            'v': 140,\n            'f': \"140\",\n        },\n{\n            'v': 2.7300000190734863,\n            'f': \"2.7300000190734863\",\n        },\n\"Domestic\"],\n [{\n            'v': 29,\n            'f': \"29\",\n        },\n\"Merc. Cougar\",\n{\n            'v': 5379,\n            'f': \"5379\",\n        },\n{\n            'v': 14,\n            'f': \"14\",\n        },\n{\n            'v': 4.0,\n            'f': \"4.0\",\n        },\n{\n            'v': 3.5,\n            'f': \"3.5\",\n        },\n{\n            'v': 16,\n            'f': \"16\",\n        },\n{\n            'v': 4060,\n            'f': \"4060\",\n        },\n{\n            'v': 221,\n            'f': \"221\",\n        },\n{\n            'v': 48,\n            'f': \"48\",\n        },\n{\n            'v': 302,\n            'f': \"302\",\n        },\n{\n            'v': 2.75,\n            'f': \"2.75\",\n        },\n\"Domestic\"],\n [{\n            'v': 30,\n            'f': \"30\",\n        },\n\"Merc. Marquis\",\n{\n            'v': 6165,\n            'f': \"6165\",\n        },\n{\n            'v': 15,\n            'f': \"15\",\n        },\n{\n            'v': 3.0,\n            'f': \"3.0\",\n        },\n{\n            'v': 3.5,\n            'f': \"3.5\",\n        },\n{\n            'v': 23,\n            'f': \"23\",\n        },\n{\n            'v': 3720,\n            'f': \"3720\",\n        },\n{\n            'v': 212,\n            'f': \"212\",\n        },\n{\n            'v': 44,\n            'f': \"44\",\n        },\n{\n            'v': 302,\n            'f': \"302\",\n        },\n{\n            'v': 2.259999990463257,\n            'f': \"2.259999990463257\",\n        },\n\"Domestic\"],\n [{\n            'v': 31,\n            'f': \"31\",\n        },\n\"Merc. Monarch\",\n{\n            'v': 4516,\n            'f': \"4516\",\n        },\n{\n            'v': 18,\n            'f': \"18\",\n        },\n{\n            'v': 3.0,\n            'f': \"3.0\",\n        },\n{\n            'v': 3.0,\n            'f': \"3.0\",\n        },\n{\n            'v': 15,\n            'f': \"15\",\n        },\n{\n            'v': 3370,\n            'f': \"3370\",\n        },\n{\n            'v': 198,\n            'f': \"198\",\n        },\n{\n            'v': 41,\n            'f': \"41\",\n        },\n{\n            'v': 250,\n            'f': \"250\",\n        },\n{\n            'v': 2.430000066757202,\n            'f': \"2.430000066757202\",\n        },\n\"Domestic\"],\n [{\n            'v': 32,\n            'f': \"32\",\n        },\n\"Merc. XR-7\",\n{\n            'v': 6303,\n            'f': \"6303\",\n        },\n{\n            'v': 14,\n            'f': \"14\",\n        },\n{\n            'v': 4.0,\n            'f': \"4.0\",\n        },\n{\n            'v': 3.0,\n            'f': \"3.0\",\n        },\n{\n            'v': 16,\n            'f': \"16\",\n        },\n{\n            'v': 4130,\n            'f': \"4130\",\n        },\n{\n            'v': 217,\n            'f': \"217\",\n        },\n{\n            'v': 45,\n            'f': \"45\",\n        },\n{\n            'v': 302,\n            'f': \"302\",\n        },\n{\n            'v': 2.75,\n            'f': \"2.75\",\n        },\n\"Domestic\"],\n [{\n            'v': 33,\n            'f': \"33\",\n        },\n\"Merc. Zephyr\",\n{\n            'v': 3291,\n            'f': \"3291\",\n        },\n{\n            'v': 20,\n            'f': \"20\",\n        },\n{\n            'v': 3.0,\n            'f': \"3.0\",\n        },\n{\n            'v': 3.5,\n            'f': \"3.5\",\n        },\n{\n            'v': 17,\n            'f': \"17\",\n        },\n{\n            'v': 2830,\n            'f': \"2830\",\n        },\n{\n            'v': 195,\n            'f': \"195\",\n        },\n{\n            'v': 43,\n            'f': \"43\",\n        },\n{\n            'v': 140,\n            'f': \"140\",\n        },\n{\n            'v': 3.0799999237060547,\n            'f': \"3.0799999237060547\",\n        },\n\"Domestic\"],\n [{\n            'v': 34,\n            'f': \"34\",\n        },\n\"Olds 98\",\n{\n            'v': 8814,\n            'f': \"8814\",\n        },\n{\n            'v': 21,\n            'f': \"21\",\n        },\n{\n            'v': 4.0,\n            'f': \"4.0\",\n        },\n{\n            'v': 4.0,\n            'f': \"4.0\",\n        },\n{\n            'v': 20,\n            'f': \"20\",\n        },\n{\n            'v': 4060,\n            'f': \"4060\",\n        },\n{\n            'v': 220,\n            'f': \"220\",\n        },\n{\n            'v': 43,\n            'f': \"43\",\n        },\n{\n            'v': 350,\n            'f': \"350\",\n        },\n{\n            'v': 2.4100000858306885,\n            'f': \"2.4100000858306885\",\n        },\n\"Domestic\"],\n [{\n            'v': 35,\n            'f': \"35\",\n        },\n\"Olds Cutl Supr\",\n{\n            'v': 5172,\n            'f': \"5172\",\n        },\n{\n            'v': 19,\n            'f': \"19\",\n        },\n{\n            'v': 3.0,\n            'f': \"3.0\",\n        },\n{\n            'v': 2.0,\n            'f': \"2.0\",\n        },\n{\n            'v': 16,\n            'f': \"16\",\n        },\n{\n            'v': 3310,\n            'f': \"3310\",\n        },\n{\n            'v': 198,\n            'f': \"198\",\n        },\n{\n            'v': 42,\n            'f': \"42\",\n        },\n{\n            'v': 231,\n            'f': \"231\",\n        },\n{\n            'v': 2.930000066757202,\n            'f': \"2.930000066757202\",\n        },\n\"Domestic\"],\n [{\n            'v': 36,\n            'f': \"36\",\n        },\n\"Olds Cutlass\",\n{\n            'v': 4733,\n            'f': \"4733\",\n        },\n{\n            'v': 19,\n            'f': \"19\",\n        },\n{\n            'v': 3.0,\n            'f': \"3.0\",\n        },\n{\n            'v': 4.5,\n            'f': \"4.5\",\n        },\n{\n            'v': 16,\n            'f': \"16\",\n        },\n{\n            'v': 3300,\n            'f': \"3300\",\n        },\n{\n            'v': 198,\n            'f': \"198\",\n        },\n{\n            'v': 42,\n            'f': \"42\",\n        },\n{\n            'v': 231,\n            'f': \"231\",\n        },\n{\n            'v': 2.930000066757202,\n            'f': \"2.930000066757202\",\n        },\n\"Domestic\"],\n [{\n            'v': 37,\n            'f': \"37\",\n        },\n\"Olds Delta 88\",\n{\n            'v': 4890,\n            'f': \"4890\",\n        },\n{\n            'v': 18,\n            'f': \"18\",\n        },\n{\n            'v': 4.0,\n            'f': \"4.0\",\n        },\n{\n            'v': 4.0,\n            'f': \"4.0\",\n        },\n{\n            'v': 20,\n            'f': \"20\",\n        },\n{\n            'v': 3690,\n            'f': \"3690\",\n        },\n{\n            'v': 218,\n            'f': \"218\",\n        },\n{\n            'v': 42,\n            'f': \"42\",\n        },\n{\n            'v': 231,\n            'f': \"231\",\n        },\n{\n            'v': 2.7300000190734863,\n            'f': \"2.7300000190734863\",\n        },\n\"Domestic\"],\n [{\n            'v': 38,\n            'f': \"38\",\n        },\n\"Olds Omega\",\n{\n            'v': 4181,\n            'f': \"4181\",\n        },\n{\n            'v': 19,\n            'f': \"19\",\n        },\n{\n            'v': 3.0,\n            'f': \"3.0\",\n        },\n{\n            'v': 4.5,\n            'f': \"4.5\",\n        },\n{\n            'v': 14,\n            'f': \"14\",\n        },\n{\n            'v': 3370,\n            'f': \"3370\",\n        },\n{\n            'v': 200,\n            'f': \"200\",\n        },\n{\n            'v': 43,\n            'f': \"43\",\n        },\n{\n            'v': 231,\n            'f': \"231\",\n        },\n{\n            'v': 3.0799999237060547,\n            'f': \"3.0799999237060547\",\n        },\n\"Domestic\"],\n [{\n            'v': 39,\n            'f': \"39\",\n        },\n\"Olds Starfire\",\n{\n            'v': 4195,\n            'f': \"4195\",\n        },\n{\n            'v': 24,\n            'f': \"24\",\n        },\n{\n            'v': 1.0,\n            'f': \"1.0\",\n        },\n{\n            'v': 2.0,\n            'f': \"2.0\",\n        },\n{\n            'v': 10,\n            'f': \"10\",\n        },\n{\n            'v': 2730,\n            'f': \"2730\",\n        },\n{\n            'v': 180,\n            'f': \"180\",\n        },\n{\n            'v': 40,\n            'f': \"40\",\n        },\n{\n            'v': 151,\n            'f': \"151\",\n        },\n{\n            'v': 2.7300000190734863,\n            'f': \"2.7300000190734863\",\n        },\n\"Domestic\"],\n [{\n            'v': 40,\n            'f': \"40\",\n        },\n\"Olds Toronado\",\n{\n            'v': 10371,\n            'f': \"10371\",\n        },\n{\n            'v': 16,\n            'f': \"16\",\n        },\n{\n            'v': 3.0,\n            'f': \"3.0\",\n        },\n{\n            'v': 3.5,\n            'f': \"3.5\",\n        },\n{\n            'v': 17,\n            'f': \"17\",\n        },\n{\n            'v': 4030,\n            'f': \"4030\",\n        },\n{\n            'v': 206,\n            'f': \"206\",\n        },\n{\n            'v': 43,\n            'f': \"43\",\n        },\n{\n            'v': 350,\n            'f': \"350\",\n        },\n{\n            'v': 2.4100000858306885,\n            'f': \"2.4100000858306885\",\n        },\n\"Domestic\"],\n [{\n            'v': 41,\n            'f': \"41\",\n        },\n\"Plym. Arrow\",\n{\n            'v': 4647,\n            'f': \"4647\",\n        },\n{\n            'v': 28,\n            'f': \"28\",\n        },\n{\n            'v': 3.0,\n            'f': \"3.0\",\n        },\n{\n            'v': 2.0,\n            'f': \"2.0\",\n        },\n{\n            'v': 11,\n            'f': \"11\",\n        },\n{\n            'v': 3260,\n            'f': \"3260\",\n        },\n{\n            'v': 170,\n            'f': \"170\",\n        },\n{\n            'v': 37,\n            'f': \"37\",\n        },\n{\n            'v': 156,\n            'f': \"156\",\n        },\n{\n            'v': 3.049999952316284,\n            'f': \"3.049999952316284\",\n        },\n\"Domestic\"],\n [{\n            'v': 42,\n            'f': \"42\",\n        },\n\"Plym. Champ\",\n{\n            'v': 4425,\n            'f': \"4425\",\n        },\n{\n            'v': 34,\n            'f': \"34\",\n        },\n{\n            'v': 5.0,\n            'f': \"5.0\",\n        },\n{\n            'v': 2.5,\n            'f': \"2.5\",\n        },\n{\n            'v': 11,\n            'f': \"11\",\n        },\n{\n            'v': 1800,\n            'f': \"1800\",\n        },\n{\n            'v': 157,\n            'f': \"157\",\n        },\n{\n            'v': 37,\n            'f': \"37\",\n        },\n{\n            'v': 86,\n            'f': \"86\",\n        },\n{\n            'v': 2.9700000286102295,\n            'f': \"2.9700000286102295\",\n        },\n\"Domestic\"],\n [{\n            'v': 43,\n            'f': \"43\",\n        },\n\"Plym. Horizon\",\n{\n            'v': 4482,\n            'f': \"4482\",\n        },\n{\n            'v': 25,\n            'f': \"25\",\n        },\n{\n            'v': 3.0,\n            'f': \"3.0\",\n        },\n{\n            'v': 4.0,\n            'f': \"4.0\",\n        },\n{\n            'v': 17,\n            'f': \"17\",\n        },\n{\n            'v': 2200,\n            'f': \"2200\",\n        },\n{\n            'v': 165,\n            'f': \"165\",\n        },\n{\n            'v': 36,\n            'f': \"36\",\n        },\n{\n            'v': 105,\n            'f': \"105\",\n        },\n{\n            'v': 3.369999885559082,\n            'f': \"3.369999885559082\",\n        },\n\"Domestic\"],\n [{\n            'v': 44,\n            'f': \"44\",\n        },\n\"Plym. Sapporo\",\n{\n            'v': 6486,\n            'f': \"6486\",\n        },\n{\n            'v': 26,\n            'f': \"26\",\n        },\n{\n            'v': NaN,\n            'f': \"NaN\",\n        },\n{\n            'v': 1.5,\n            'f': \"1.5\",\n        },\n{\n            'v': 8,\n            'f': \"8\",\n        },\n{\n            'v': 2520,\n            'f': \"2520\",\n        },\n{\n            'v': 182,\n            'f': \"182\",\n        },\n{\n            'v': 38,\n            'f': \"38\",\n        },\n{\n            'v': 119,\n            'f': \"119\",\n        },\n{\n            'v': 3.5399999618530273,\n            'f': \"3.5399999618530273\",\n        },\n\"Domestic\"],\n [{\n            'v': 45,\n            'f': \"45\",\n        },\n\"Plym. Volare\",\n{\n            'v': 4060,\n            'f': \"4060\",\n        },\n{\n            'v': 18,\n            'f': \"18\",\n        },\n{\n            'v': 2.0,\n            'f': \"2.0\",\n        },\n{\n            'v': 5.0,\n            'f': \"5.0\",\n        },\n{\n            'v': 16,\n            'f': \"16\",\n        },\n{\n            'v': 3330,\n            'f': \"3330\",\n        },\n{\n            'v': 201,\n            'f': \"201\",\n        },\n{\n            'v': 44,\n            'f': \"44\",\n        },\n{\n            'v': 225,\n            'f': \"225\",\n        },\n{\n            'v': 3.2300000190734863,\n            'f': \"3.2300000190734863\",\n        },\n\"Domestic\"],\n [{\n            'v': 46,\n            'f': \"46\",\n        },\n\"Pont. Catalina\",\n{\n            'v': 5798,\n            'f': \"5798\",\n        },\n{\n            'v': 18,\n            'f': \"18\",\n        },\n{\n            'v': 4.0,\n            'f': \"4.0\",\n        },\n{\n            'v': 4.0,\n            'f': \"4.0\",\n        },\n{\n            'v': 20,\n            'f': \"20\",\n        },\n{\n            'v': 3700,\n            'f': \"3700\",\n        },\n{\n            'v': 214,\n            'f': \"214\",\n        },\n{\n            'v': 42,\n            'f': \"42\",\n        },\n{\n            'v': 231,\n            'f': \"231\",\n        },\n{\n            'v': 2.7300000190734863,\n            'f': \"2.7300000190734863\",\n        },\n\"Domestic\"],\n [{\n            'v': 47,\n            'f': \"47\",\n        },\n\"Pont. Firebird\",\n{\n            'v': 4934,\n            'f': \"4934\",\n        },\n{\n            'v': 18,\n            'f': \"18\",\n        },\n{\n            'v': 1.0,\n            'f': \"1.0\",\n        },\n{\n            'v': 1.5,\n            'f': \"1.5\",\n        },\n{\n            'v': 7,\n            'f': \"7\",\n        },\n{\n            'v': 3470,\n            'f': \"3470\",\n        },\n{\n            'v': 198,\n            'f': \"198\",\n        },\n{\n            'v': 42,\n            'f': \"42\",\n        },\n{\n            'v': 231,\n            'f': \"231\",\n        },\n{\n            'v': 3.0799999237060547,\n            'f': \"3.0799999237060547\",\n        },\n\"Domestic\"],\n [{\n            'v': 48,\n            'f': \"48\",\n        },\n\"Pont. Grand Prix\",\n{\n            'v': 5222,\n            'f': \"5222\",\n        },\n{\n            'v': 19,\n            'f': \"19\",\n        },\n{\n            'v': 3.0,\n            'f': \"3.0\",\n        },\n{\n            'v': 2.0,\n            'f': \"2.0\",\n        },\n{\n            'v': 16,\n            'f': \"16\",\n        },\n{\n            'v': 3210,\n            'f': \"3210\",\n        },\n{\n            'v': 201,\n            'f': \"201\",\n        },\n{\n            'v': 45,\n            'f': \"45\",\n        },\n{\n            'v': 231,\n            'f': \"231\",\n        },\n{\n            'v': 2.930000066757202,\n            'f': \"2.930000066757202\",\n        },\n\"Domestic\"],\n [{\n            'v': 49,\n            'f': \"49\",\n        },\n\"Pont. Le Mans\",\n{\n            'v': 4723,\n            'f': \"4723\",\n        },\n{\n            'v': 19,\n            'f': \"19\",\n        },\n{\n            'v': 3.0,\n            'f': \"3.0\",\n        },\n{\n            'v': 3.5,\n            'f': \"3.5\",\n        },\n{\n            'v': 17,\n            'f': \"17\",\n        },\n{\n            'v': 3200,\n            'f': \"3200\",\n        },\n{\n            'v': 199,\n            'f': \"199\",\n        },\n{\n            'v': 40,\n            'f': \"40\",\n        },\n{\n            'v': 231,\n            'f': \"231\",\n        },\n{\n            'v': 2.930000066757202,\n            'f': \"2.930000066757202\",\n        },\n\"Domestic\"],\n [{\n            'v': 50,\n            'f': \"50\",\n        },\n\"Pont. Phoenix\",\n{\n            'v': 4424,\n            'f': \"4424\",\n        },\n{\n            'v': 19,\n            'f': \"19\",\n        },\n{\n            'v': NaN,\n            'f': \"NaN\",\n        },\n{\n            'v': 3.5,\n            'f': \"3.5\",\n        },\n{\n            'v': 13,\n            'f': \"13\",\n        },\n{\n            'v': 3420,\n            'f': \"3420\",\n        },\n{\n            'v': 203,\n            'f': \"203\",\n        },\n{\n            'v': 43,\n            'f': \"43\",\n        },\n{\n            'v': 231,\n            'f': \"231\",\n        },\n{\n            'v': 3.0799999237060547,\n            'f': \"3.0799999237060547\",\n        },\n\"Domestic\"],\n [{\n            'v': 51,\n            'f': \"51\",\n        },\n\"Pont. Sunbird\",\n{\n            'v': 4172,\n            'f': \"4172\",\n        },\n{\n            'v': 24,\n            'f': \"24\",\n        },\n{\n            'v': 2.0,\n            'f': \"2.0\",\n        },\n{\n            'v': 2.0,\n            'f': \"2.0\",\n        },\n{\n            'v': 7,\n            'f': \"7\",\n        },\n{\n            'v': 2690,\n            'f': \"2690\",\n        },\n{\n            'v': 179,\n            'f': \"179\",\n        },\n{\n            'v': 41,\n            'f': \"41\",\n        },\n{\n            'v': 151,\n            'f': \"151\",\n        },\n{\n            'v': 2.7300000190734863,\n            'f': \"2.7300000190734863\",\n        },\n\"Domestic\"]],\n        columns: [[\"number\", \"index\"], [\"string\", \"make\"], [\"number\", \"price\"], [\"number\", \"mpg\"], [\"number\", \"rep78\"], [\"number\", \"headroom\"], [\"number\", \"trunk\"], [\"number\", \"weight\"], [\"number\", \"length\"], [\"number\", \"turn\"], [\"number\", \"displacement\"], [\"number\", \"gear_ratio\"], [\"string\", \"foreign\"]],\n        columnOptions: [{\"width\": \"1px\", \"className\": \"index_column\"}],\n        rowsPerPage: 25,\n        helpUrl: \"https://colab.research.google.com/notebooks/data_table.ipynb\",\n        suppressOutputScrolling: true,\n        minimumWidth: undefined,\n      });\n    "
          },
          "metadata": {},
          "execution_count": 42
        },
        {
          "output_type": "execute_result",
          "data": {
            "text/plain": [
              "              make  price  mpg  rep78  headroom  trunk  weight  length  turn  \\\n",
              "52       Audi 5000   9690   17    5.0       3.0     15    2830     189    37   \n",
              "53        Audi Fox   6295   23    3.0       2.5     11    2070     174    36   \n",
              "54        BMW 320i   9735   25    4.0       2.5     12    2650     177    34   \n",
              "55      Datsun 200   6229   23    4.0       1.5      6    2370     170    35   \n",
              "56      Datsun 210   4589   35    5.0       2.0      8    2020     165    32   \n",
              "57      Datsun 510   5079   24    4.0       2.5      8    2280     170    34   \n",
              "58      Datsun 810   8129   21    4.0       2.5      8    2750     184    38   \n",
              "59     Fiat Strada   4296   21    3.0       2.5     16    2130     161    36   \n",
              "60    Honda Accord   5799   25    5.0       3.0     10    2240     172    36   \n",
              "61     Honda Civic   4499   28    4.0       2.5      5    1760     149    34   \n",
              "62       Mazda GLC   3995   30    4.0       3.5     11    1980     154    33   \n",
              "63     Peugeot 604  12990   14    NaN       3.5     14    3420     192    38   \n",
              "64  Renault Le Car   3895   26    3.0       3.0     10    1830     142    34   \n",
              "65          Subaru   3798   35    5.0       2.5     11    2050     164    36   \n",
              "66   Toyota Celica   5899   18    5.0       2.5     14    2410     174    36   \n",
              "67  Toyota Corolla   3748   31    5.0       3.0      9    2200     165    35   \n",
              "68   Toyota Corona   5719   18    5.0       2.0     11    2670     175    36   \n",
              "69       VW Dasher   7140   23    4.0       2.5     12    2160     172    36   \n",
              "70       VW Diesel   5397   41    5.0       3.0     15    2040     155    35   \n",
              "71       VW Rabbit   4697   25    4.0       3.0     15    1930     155    35   \n",
              "72     VW Scirocco   6850   25    4.0       2.0     16    1990     156    36   \n",
              "73       Volvo 260  11995   17    5.0       2.5     14    3170     193    37   \n",
              "\n",
              "    displacement  gear_ratio  foreign  \n",
              "52           131        3.20  Foreign  \n",
              "53            97        3.70  Foreign  \n",
              "54           121        3.64  Foreign  \n",
              "55           119        3.89  Foreign  \n",
              "56            85        3.70  Foreign  \n",
              "57           119        3.54  Foreign  \n",
              "58           146        3.55  Foreign  \n",
              "59           105        3.37  Foreign  \n",
              "60           107        3.05  Foreign  \n",
              "61            91        3.30  Foreign  \n",
              "62            86        3.73  Foreign  \n",
              "63           163        3.58  Foreign  \n",
              "64            79        3.72  Foreign  \n",
              "65            97        3.81  Foreign  \n",
              "66           134        3.06  Foreign  \n",
              "67            97        3.21  Foreign  \n",
              "68           134        3.05  Foreign  \n",
              "69            97        3.74  Foreign  \n",
              "70            90        3.78  Foreign  \n",
              "71            89        3.78  Foreign  \n",
              "72            97        3.78  Foreign  \n",
              "73           163        2.98  Foreign  "
            ],
            "text/html": [
              "\n",
              "  <div id=\"df-cafdd0c9-a4d3-4f96-bfcb-d8500f26d136\">\n",
              "    <div class=\"colab-df-container\">\n",
              "      <div>\n",
              "<style scoped>\n",
              "    .dataframe tbody tr th:only-of-type {\n",
              "        vertical-align: middle;\n",
              "    }\n",
              "\n",
              "    .dataframe tbody tr th {\n",
              "        vertical-align: top;\n",
              "    }\n",
              "\n",
              "    .dataframe thead th {\n",
              "        text-align: right;\n",
              "    }\n",
              "</style>\n",
              "<table border=\"1\" class=\"dataframe\">\n",
              "  <thead>\n",
              "    <tr style=\"text-align: right;\">\n",
              "      <th></th>\n",
              "      <th>make</th>\n",
              "      <th>price</th>\n",
              "      <th>mpg</th>\n",
              "      <th>rep78</th>\n",
              "      <th>headroom</th>\n",
              "      <th>trunk</th>\n",
              "      <th>weight</th>\n",
              "      <th>length</th>\n",
              "      <th>turn</th>\n",
              "      <th>displacement</th>\n",
              "      <th>gear_ratio</th>\n",
              "      <th>foreign</th>\n",
              "    </tr>\n",
              "  </thead>\n",
              "  <tbody>\n",
              "    <tr>\n",
              "      <th>52</th>\n",
              "      <td>Audi 5000</td>\n",
              "      <td>9690</td>\n",
              "      <td>17</td>\n",
              "      <td>5.0</td>\n",
              "      <td>3.0</td>\n",
              "      <td>15</td>\n",
              "      <td>2830</td>\n",
              "      <td>189</td>\n",
              "      <td>37</td>\n",
              "      <td>131</td>\n",
              "      <td>3.20</td>\n",
              "      <td>Foreign</td>\n",
              "    </tr>\n",
              "    <tr>\n",
              "      <th>53</th>\n",
              "      <td>Audi Fox</td>\n",
              "      <td>6295</td>\n",
              "      <td>23</td>\n",
              "      <td>3.0</td>\n",
              "      <td>2.5</td>\n",
              "      <td>11</td>\n",
              "      <td>2070</td>\n",
              "      <td>174</td>\n",
              "      <td>36</td>\n",
              "      <td>97</td>\n",
              "      <td>3.70</td>\n",
              "      <td>Foreign</td>\n",
              "    </tr>\n",
              "    <tr>\n",
              "      <th>54</th>\n",
              "      <td>BMW 320i</td>\n",
              "      <td>9735</td>\n",
              "      <td>25</td>\n",
              "      <td>4.0</td>\n",
              "      <td>2.5</td>\n",
              "      <td>12</td>\n",
              "      <td>2650</td>\n",
              "      <td>177</td>\n",
              "      <td>34</td>\n",
              "      <td>121</td>\n",
              "      <td>3.64</td>\n",
              "      <td>Foreign</td>\n",
              "    </tr>\n",
              "    <tr>\n",
              "      <th>55</th>\n",
              "      <td>Datsun 200</td>\n",
              "      <td>6229</td>\n",
              "      <td>23</td>\n",
              "      <td>4.0</td>\n",
              "      <td>1.5</td>\n",
              "      <td>6</td>\n",
              "      <td>2370</td>\n",
              "      <td>170</td>\n",
              "      <td>35</td>\n",
              "      <td>119</td>\n",
              "      <td>3.89</td>\n",
              "      <td>Foreign</td>\n",
              "    </tr>\n",
              "    <tr>\n",
              "      <th>56</th>\n",
              "      <td>Datsun 210</td>\n",
              "      <td>4589</td>\n",
              "      <td>35</td>\n",
              "      <td>5.0</td>\n",
              "      <td>2.0</td>\n",
              "      <td>8</td>\n",
              "      <td>2020</td>\n",
              "      <td>165</td>\n",
              "      <td>32</td>\n",
              "      <td>85</td>\n",
              "      <td>3.70</td>\n",
              "      <td>Foreign</td>\n",
              "    </tr>\n",
              "    <tr>\n",
              "      <th>57</th>\n",
              "      <td>Datsun 510</td>\n",
              "      <td>5079</td>\n",
              "      <td>24</td>\n",
              "      <td>4.0</td>\n",
              "      <td>2.5</td>\n",
              "      <td>8</td>\n",
              "      <td>2280</td>\n",
              "      <td>170</td>\n",
              "      <td>34</td>\n",
              "      <td>119</td>\n",
              "      <td>3.54</td>\n",
              "      <td>Foreign</td>\n",
              "    </tr>\n",
              "    <tr>\n",
              "      <th>58</th>\n",
              "      <td>Datsun 810</td>\n",
              "      <td>8129</td>\n",
              "      <td>21</td>\n",
              "      <td>4.0</td>\n",
              "      <td>2.5</td>\n",
              "      <td>8</td>\n",
              "      <td>2750</td>\n",
              "      <td>184</td>\n",
              "      <td>38</td>\n",
              "      <td>146</td>\n",
              "      <td>3.55</td>\n",
              "      <td>Foreign</td>\n",
              "    </tr>\n",
              "    <tr>\n",
              "      <th>59</th>\n",
              "      <td>Fiat Strada</td>\n",
              "      <td>4296</td>\n",
              "      <td>21</td>\n",
              "      <td>3.0</td>\n",
              "      <td>2.5</td>\n",
              "      <td>16</td>\n",
              "      <td>2130</td>\n",
              "      <td>161</td>\n",
              "      <td>36</td>\n",
              "      <td>105</td>\n",
              "      <td>3.37</td>\n",
              "      <td>Foreign</td>\n",
              "    </tr>\n",
              "    <tr>\n",
              "      <th>60</th>\n",
              "      <td>Honda Accord</td>\n",
              "      <td>5799</td>\n",
              "      <td>25</td>\n",
              "      <td>5.0</td>\n",
              "      <td>3.0</td>\n",
              "      <td>10</td>\n",
              "      <td>2240</td>\n",
              "      <td>172</td>\n",
              "      <td>36</td>\n",
              "      <td>107</td>\n",
              "      <td>3.05</td>\n",
              "      <td>Foreign</td>\n",
              "    </tr>\n",
              "    <tr>\n",
              "      <th>61</th>\n",
              "      <td>Honda Civic</td>\n",
              "      <td>4499</td>\n",
              "      <td>28</td>\n",
              "      <td>4.0</td>\n",
              "      <td>2.5</td>\n",
              "      <td>5</td>\n",
              "      <td>1760</td>\n",
              "      <td>149</td>\n",
              "      <td>34</td>\n",
              "      <td>91</td>\n",
              "      <td>3.30</td>\n",
              "      <td>Foreign</td>\n",
              "    </tr>\n",
              "    <tr>\n",
              "      <th>62</th>\n",
              "      <td>Mazda GLC</td>\n",
              "      <td>3995</td>\n",
              "      <td>30</td>\n",
              "      <td>4.0</td>\n",
              "      <td>3.5</td>\n",
              "      <td>11</td>\n",
              "      <td>1980</td>\n",
              "      <td>154</td>\n",
              "      <td>33</td>\n",
              "      <td>86</td>\n",
              "      <td>3.73</td>\n",
              "      <td>Foreign</td>\n",
              "    </tr>\n",
              "    <tr>\n",
              "      <th>63</th>\n",
              "      <td>Peugeot 604</td>\n",
              "      <td>12990</td>\n",
              "      <td>14</td>\n",
              "      <td>NaN</td>\n",
              "      <td>3.5</td>\n",
              "      <td>14</td>\n",
              "      <td>3420</td>\n",
              "      <td>192</td>\n",
              "      <td>38</td>\n",
              "      <td>163</td>\n",
              "      <td>3.58</td>\n",
              "      <td>Foreign</td>\n",
              "    </tr>\n",
              "    <tr>\n",
              "      <th>64</th>\n",
              "      <td>Renault Le Car</td>\n",
              "      <td>3895</td>\n",
              "      <td>26</td>\n",
              "      <td>3.0</td>\n",
              "      <td>3.0</td>\n",
              "      <td>10</td>\n",
              "      <td>1830</td>\n",
              "      <td>142</td>\n",
              "      <td>34</td>\n",
              "      <td>79</td>\n",
              "      <td>3.72</td>\n",
              "      <td>Foreign</td>\n",
              "    </tr>\n",
              "    <tr>\n",
              "      <th>65</th>\n",
              "      <td>Subaru</td>\n",
              "      <td>3798</td>\n",
              "      <td>35</td>\n",
              "      <td>5.0</td>\n",
              "      <td>2.5</td>\n",
              "      <td>11</td>\n",
              "      <td>2050</td>\n",
              "      <td>164</td>\n",
              "      <td>36</td>\n",
              "      <td>97</td>\n",
              "      <td>3.81</td>\n",
              "      <td>Foreign</td>\n",
              "    </tr>\n",
              "    <tr>\n",
              "      <th>66</th>\n",
              "      <td>Toyota Celica</td>\n",
              "      <td>5899</td>\n",
              "      <td>18</td>\n",
              "      <td>5.0</td>\n",
              "      <td>2.5</td>\n",
              "      <td>14</td>\n",
              "      <td>2410</td>\n",
              "      <td>174</td>\n",
              "      <td>36</td>\n",
              "      <td>134</td>\n",
              "      <td>3.06</td>\n",
              "      <td>Foreign</td>\n",
              "    </tr>\n",
              "    <tr>\n",
              "      <th>67</th>\n",
              "      <td>Toyota Corolla</td>\n",
              "      <td>3748</td>\n",
              "      <td>31</td>\n",
              "      <td>5.0</td>\n",
              "      <td>3.0</td>\n",
              "      <td>9</td>\n",
              "      <td>2200</td>\n",
              "      <td>165</td>\n",
              "      <td>35</td>\n",
              "      <td>97</td>\n",
              "      <td>3.21</td>\n",
              "      <td>Foreign</td>\n",
              "    </tr>\n",
              "    <tr>\n",
              "      <th>68</th>\n",
              "      <td>Toyota Corona</td>\n",
              "      <td>5719</td>\n",
              "      <td>18</td>\n",
              "      <td>5.0</td>\n",
              "      <td>2.0</td>\n",
              "      <td>11</td>\n",
              "      <td>2670</td>\n",
              "      <td>175</td>\n",
              "      <td>36</td>\n",
              "      <td>134</td>\n",
              "      <td>3.05</td>\n",
              "      <td>Foreign</td>\n",
              "    </tr>\n",
              "    <tr>\n",
              "      <th>69</th>\n",
              "      <td>VW Dasher</td>\n",
              "      <td>7140</td>\n",
              "      <td>23</td>\n",
              "      <td>4.0</td>\n",
              "      <td>2.5</td>\n",
              "      <td>12</td>\n",
              "      <td>2160</td>\n",
              "      <td>172</td>\n",
              "      <td>36</td>\n",
              "      <td>97</td>\n",
              "      <td>3.74</td>\n",
              "      <td>Foreign</td>\n",
              "    </tr>\n",
              "    <tr>\n",
              "      <th>70</th>\n",
              "      <td>VW Diesel</td>\n",
              "      <td>5397</td>\n",
              "      <td>41</td>\n",
              "      <td>5.0</td>\n",
              "      <td>3.0</td>\n",
              "      <td>15</td>\n",
              "      <td>2040</td>\n",
              "      <td>155</td>\n",
              "      <td>35</td>\n",
              "      <td>90</td>\n",
              "      <td>3.78</td>\n",
              "      <td>Foreign</td>\n",
              "    </tr>\n",
              "    <tr>\n",
              "      <th>71</th>\n",
              "      <td>VW Rabbit</td>\n",
              "      <td>4697</td>\n",
              "      <td>25</td>\n",
              "      <td>4.0</td>\n",
              "      <td>3.0</td>\n",
              "      <td>15</td>\n",
              "      <td>1930</td>\n",
              "      <td>155</td>\n",
              "      <td>35</td>\n",
              "      <td>89</td>\n",
              "      <td>3.78</td>\n",
              "      <td>Foreign</td>\n",
              "    </tr>\n",
              "    <tr>\n",
              "      <th>72</th>\n",
              "      <td>VW Scirocco</td>\n",
              "      <td>6850</td>\n",
              "      <td>25</td>\n",
              "      <td>4.0</td>\n",
              "      <td>2.0</td>\n",
              "      <td>16</td>\n",
              "      <td>1990</td>\n",
              "      <td>156</td>\n",
              "      <td>36</td>\n",
              "      <td>97</td>\n",
              "      <td>3.78</td>\n",
              "      <td>Foreign</td>\n",
              "    </tr>\n",
              "    <tr>\n",
              "      <th>73</th>\n",
              "      <td>Volvo 260</td>\n",
              "      <td>11995</td>\n",
              "      <td>17</td>\n",
              "      <td>5.0</td>\n",
              "      <td>2.5</td>\n",
              "      <td>14</td>\n",
              "      <td>3170</td>\n",
              "      <td>193</td>\n",
              "      <td>37</td>\n",
              "      <td>163</td>\n",
              "      <td>2.98</td>\n",
              "      <td>Foreign</td>\n",
              "    </tr>\n",
              "  </tbody>\n",
              "</table>\n",
              "</div>\n",
              "      <button class=\"colab-df-convert\" onclick=\"convertToInteractive('df-cafdd0c9-a4d3-4f96-bfcb-d8500f26d136')\"\n",
              "              title=\"Convert this dataframe to an interactive table.\"\n",
              "              style=\"display:none;\">\n",
              "        \n",
              "  <svg xmlns=\"http://www.w3.org/2000/svg\" height=\"24px\"viewBox=\"0 0 24 24\"\n",
              "       width=\"24px\">\n",
              "    <path d=\"M0 0h24v24H0V0z\" fill=\"none\"/>\n",
              "    <path d=\"M18.56 5.44l.94 2.06.94-2.06 2.06-.94-2.06-.94-.94-2.06-.94 2.06-2.06.94zm-11 1L8.5 8.5l.94-2.06 2.06-.94-2.06-.94L8.5 2.5l-.94 2.06-2.06.94zm10 10l.94 2.06.94-2.06 2.06-.94-2.06-.94-.94-2.06-.94 2.06-2.06.94z\"/><path d=\"M17.41 7.96l-1.37-1.37c-.4-.4-.92-.59-1.43-.59-.52 0-1.04.2-1.43.59L10.3 9.45l-7.72 7.72c-.78.78-.78 2.05 0 2.83L4 21.41c.39.39.9.59 1.41.59.51 0 1.02-.2 1.41-.59l7.78-7.78 2.81-2.81c.8-.78.8-2.07 0-2.86zM5.41 20L4 18.59l7.72-7.72 1.47 1.35L5.41 20z\"/>\n",
              "  </svg>\n",
              "      </button>\n",
              "      \n",
              "  <style>\n",
              "    .colab-df-container {\n",
              "      display:flex;\n",
              "      flex-wrap:wrap;\n",
              "      gap: 12px;\n",
              "    }\n",
              "\n",
              "    .colab-df-convert {\n",
              "      background-color: #E8F0FE;\n",
              "      border: none;\n",
              "      border-radius: 50%;\n",
              "      cursor: pointer;\n",
              "      display: none;\n",
              "      fill: #1967D2;\n",
              "      height: 32px;\n",
              "      padding: 0 0 0 0;\n",
              "      width: 32px;\n",
              "    }\n",
              "\n",
              "    .colab-df-convert:hover {\n",
              "      background-color: #E2EBFA;\n",
              "      box-shadow: 0px 1px 2px rgba(60, 64, 67, 0.3), 0px 1px 3px 1px rgba(60, 64, 67, 0.15);\n",
              "      fill: #174EA6;\n",
              "    }\n",
              "\n",
              "    [theme=dark] .colab-df-convert {\n",
              "      background-color: #3B4455;\n",
              "      fill: #D2E3FC;\n",
              "    }\n",
              "\n",
              "    [theme=dark] .colab-df-convert:hover {\n",
              "      background-color: #434B5C;\n",
              "      box-shadow: 0px 1px 3px 1px rgba(0, 0, 0, 0.15);\n",
              "      filter: drop-shadow(0px 1px 2px rgba(0, 0, 0, 0.3));\n",
              "      fill: #FFFFFF;\n",
              "    }\n",
              "  </style>\n",
              "\n",
              "      <script>\n",
              "        const buttonEl =\n",
              "          document.querySelector('#df-cafdd0c9-a4d3-4f96-bfcb-d8500f26d136 button.colab-df-convert');\n",
              "        buttonEl.style.display =\n",
              "          google.colab.kernel.accessAllowed ? 'block' : 'none';\n",
              "\n",
              "        async function convertToInteractive(key) {\n",
              "          const element = document.querySelector('#df-cafdd0c9-a4d3-4f96-bfcb-d8500f26d136');\n",
              "          const dataTable =\n",
              "            await google.colab.kernel.invokeFunction('convertToInteractive',\n",
              "                                                     [key], {});\n",
              "          if (!dataTable) return;\n",
              "\n",
              "          const docLinkHtml = 'Like what you see? Visit the ' +\n",
              "            '<a target=\"_blank\" href=https://colab.research.google.com/notebooks/data_table.ipynb>data table notebook</a>'\n",
              "            + ' to learn more about interactive tables.';\n",
              "          element.innerHTML = '';\n",
              "          dataTable['output_type'] = 'display_data';\n",
              "          await google.colab.output.renderOutput(dataTable, element);\n",
              "          const docLink = document.createElement('div');\n",
              "          docLink.innerHTML = docLinkHtml;\n",
              "          element.appendChild(docLink);\n",
              "        }\n",
              "      </script>\n",
              "    </div>\n",
              "  </div>\n",
              "  "
            ],
            "application/vnd.google.colaboratory.module+javascript": "\n      import \"https://ssl.gstatic.com/colaboratory/data_table/fb998edc550c7947/data_table.js\";\n\n      window.createDataTable({\n        data: [[{\n            'v': 52,\n            'f': \"52\",\n        },\n\"Audi 5000\",\n{\n            'v': 9690,\n            'f': \"9690\",\n        },\n{\n            'v': 17,\n            'f': \"17\",\n        },\n{\n            'v': 5.0,\n            'f': \"5.0\",\n        },\n{\n            'v': 3.0,\n            'f': \"3.0\",\n        },\n{\n            'v': 15,\n            'f': \"15\",\n        },\n{\n            'v': 2830,\n            'f': \"2830\",\n        },\n{\n            'v': 189,\n            'f': \"189\",\n        },\n{\n            'v': 37,\n            'f': \"37\",\n        },\n{\n            'v': 131,\n            'f': \"131\",\n        },\n{\n            'v': 3.200000047683716,\n            'f': \"3.200000047683716\",\n        },\n\"Foreign\"],\n [{\n            'v': 53,\n            'f': \"53\",\n        },\n\"Audi Fox\",\n{\n            'v': 6295,\n            'f': \"6295\",\n        },\n{\n            'v': 23,\n            'f': \"23\",\n        },\n{\n            'v': 3.0,\n            'f': \"3.0\",\n        },\n{\n            'v': 2.5,\n            'f': \"2.5\",\n        },\n{\n            'v': 11,\n            'f': \"11\",\n        },\n{\n            'v': 2070,\n            'f': \"2070\",\n        },\n{\n            'v': 174,\n            'f': \"174\",\n        },\n{\n            'v': 36,\n            'f': \"36\",\n        },\n{\n            'v': 97,\n            'f': \"97\",\n        },\n{\n            'v': 3.700000047683716,\n            'f': \"3.700000047683716\",\n        },\n\"Foreign\"],\n [{\n            'v': 54,\n            'f': \"54\",\n        },\n\"BMW 320i\",\n{\n            'v': 9735,\n            'f': \"9735\",\n        },\n{\n            'v': 25,\n            'f': \"25\",\n        },\n{\n            'v': 4.0,\n            'f': \"4.0\",\n        },\n{\n            'v': 2.5,\n            'f': \"2.5\",\n        },\n{\n            'v': 12,\n            'f': \"12\",\n        },\n{\n            'v': 2650,\n            'f': \"2650\",\n        },\n{\n            'v': 177,\n            'f': \"177\",\n        },\n{\n            'v': 34,\n            'f': \"34\",\n        },\n{\n            'v': 121,\n            'f': \"121\",\n        },\n{\n            'v': 3.640000104904175,\n            'f': \"3.640000104904175\",\n        },\n\"Foreign\"],\n [{\n            'v': 55,\n            'f': \"55\",\n        },\n\"Datsun 200\",\n{\n            'v': 6229,\n            'f': \"6229\",\n        },\n{\n            'v': 23,\n            'f': \"23\",\n        },\n{\n            'v': 4.0,\n            'f': \"4.0\",\n        },\n{\n            'v': 1.5,\n            'f': \"1.5\",\n        },\n{\n            'v': 6,\n            'f': \"6\",\n        },\n{\n            'v': 2370,\n            'f': \"2370\",\n        },\n{\n            'v': 170,\n            'f': \"170\",\n        },\n{\n            'v': 35,\n            'f': \"35\",\n        },\n{\n            'v': 119,\n            'f': \"119\",\n        },\n{\n            'v': 3.890000104904175,\n            'f': \"3.890000104904175\",\n        },\n\"Foreign\"],\n [{\n            'v': 56,\n            'f': \"56\",\n        },\n\"Datsun 210\",\n{\n            'v': 4589,\n            'f': \"4589\",\n        },\n{\n            'v': 35,\n            'f': \"35\",\n        },\n{\n            'v': 5.0,\n            'f': \"5.0\",\n        },\n{\n            'v': 2.0,\n            'f': \"2.0\",\n        },\n{\n            'v': 8,\n            'f': \"8\",\n        },\n{\n            'v': 2020,\n            'f': \"2020\",\n        },\n{\n            'v': 165,\n            'f': \"165\",\n        },\n{\n            'v': 32,\n            'f': \"32\",\n        },\n{\n            'v': 85,\n            'f': \"85\",\n        },\n{\n            'v': 3.700000047683716,\n            'f': \"3.700000047683716\",\n        },\n\"Foreign\"],\n [{\n            'v': 57,\n            'f': \"57\",\n        },\n\"Datsun 510\",\n{\n            'v': 5079,\n            'f': \"5079\",\n        },\n{\n            'v': 24,\n            'f': \"24\",\n        },\n{\n            'v': 4.0,\n            'f': \"4.0\",\n        },\n{\n            'v': 2.5,\n            'f': \"2.5\",\n        },\n{\n            'v': 8,\n            'f': \"8\",\n        },\n{\n            'v': 2280,\n            'f': \"2280\",\n        },\n{\n            'v': 170,\n            'f': \"170\",\n        },\n{\n            'v': 34,\n            'f': \"34\",\n        },\n{\n            'v': 119,\n            'f': \"119\",\n        },\n{\n            'v': 3.5399999618530273,\n            'f': \"3.5399999618530273\",\n        },\n\"Foreign\"],\n [{\n            'v': 58,\n            'f': \"58\",\n        },\n\"Datsun 810\",\n{\n            'v': 8129,\n            'f': \"8129\",\n        },\n{\n            'v': 21,\n            'f': \"21\",\n        },\n{\n            'v': 4.0,\n            'f': \"4.0\",\n        },\n{\n            'v': 2.5,\n            'f': \"2.5\",\n        },\n{\n            'v': 8,\n            'f': \"8\",\n        },\n{\n            'v': 2750,\n            'f': \"2750\",\n        },\n{\n            'v': 184,\n            'f': \"184\",\n        },\n{\n            'v': 38,\n            'f': \"38\",\n        },\n{\n            'v': 146,\n            'f': \"146\",\n        },\n{\n            'v': 3.549999952316284,\n            'f': \"3.549999952316284\",\n        },\n\"Foreign\"],\n [{\n            'v': 59,\n            'f': \"59\",\n        },\n\"Fiat Strada\",\n{\n            'v': 4296,\n            'f': \"4296\",\n        },\n{\n            'v': 21,\n            'f': \"21\",\n        },\n{\n            'v': 3.0,\n            'f': \"3.0\",\n        },\n{\n            'v': 2.5,\n            'f': \"2.5\",\n        },\n{\n            'v': 16,\n            'f': \"16\",\n        },\n{\n            'v': 2130,\n            'f': \"2130\",\n        },\n{\n            'v': 161,\n            'f': \"161\",\n        },\n{\n            'v': 36,\n            'f': \"36\",\n        },\n{\n            'v': 105,\n            'f': \"105\",\n        },\n{\n            'v': 3.369999885559082,\n            'f': \"3.369999885559082\",\n        },\n\"Foreign\"],\n [{\n            'v': 60,\n            'f': \"60\",\n        },\n\"Honda Accord\",\n{\n            'v': 5799,\n            'f': \"5799\",\n        },\n{\n            'v': 25,\n            'f': \"25\",\n        },\n{\n            'v': 5.0,\n            'f': \"5.0\",\n        },\n{\n            'v': 3.0,\n            'f': \"3.0\",\n        },\n{\n            'v': 10,\n            'f': \"10\",\n        },\n{\n            'v': 2240,\n            'f': \"2240\",\n        },\n{\n            'v': 172,\n            'f': \"172\",\n        },\n{\n            'v': 36,\n            'f': \"36\",\n        },\n{\n            'v': 107,\n            'f': \"107\",\n        },\n{\n            'v': 3.049999952316284,\n            'f': \"3.049999952316284\",\n        },\n\"Foreign\"],\n [{\n            'v': 61,\n            'f': \"61\",\n        },\n\"Honda Civic\",\n{\n            'v': 4499,\n            'f': \"4499\",\n        },\n{\n            'v': 28,\n            'f': \"28\",\n        },\n{\n            'v': 4.0,\n            'f': \"4.0\",\n        },\n{\n            'v': 2.5,\n            'f': \"2.5\",\n        },\n{\n            'v': 5,\n            'f': \"5\",\n        },\n{\n            'v': 1760,\n            'f': \"1760\",\n        },\n{\n            'v': 149,\n            'f': \"149\",\n        },\n{\n            'v': 34,\n            'f': \"34\",\n        },\n{\n            'v': 91,\n            'f': \"91\",\n        },\n{\n            'v': 3.299999952316284,\n            'f': \"3.299999952316284\",\n        },\n\"Foreign\"],\n [{\n            'v': 62,\n            'f': \"62\",\n        },\n\"Mazda GLC\",\n{\n            'v': 3995,\n            'f': \"3995\",\n        },\n{\n            'v': 30,\n            'f': \"30\",\n        },\n{\n            'v': 4.0,\n            'f': \"4.0\",\n        },\n{\n            'v': 3.5,\n            'f': \"3.5\",\n        },\n{\n            'v': 11,\n            'f': \"11\",\n        },\n{\n            'v': 1980,\n            'f': \"1980\",\n        },\n{\n            'v': 154,\n            'f': \"154\",\n        },\n{\n            'v': 33,\n            'f': \"33\",\n        },\n{\n            'v': 86,\n            'f': \"86\",\n        },\n{\n            'v': 3.7300000190734863,\n            'f': \"3.7300000190734863\",\n        },\n\"Foreign\"],\n [{\n            'v': 63,\n            'f': \"63\",\n        },\n\"Peugeot 604\",\n{\n            'v': 12990,\n            'f': \"12990\",\n        },\n{\n            'v': 14,\n            'f': \"14\",\n        },\n{\n            'v': NaN,\n            'f': \"NaN\",\n        },\n{\n            'v': 3.5,\n            'f': \"3.5\",\n        },\n{\n            'v': 14,\n            'f': \"14\",\n        },\n{\n            'v': 3420,\n            'f': \"3420\",\n        },\n{\n            'v': 192,\n            'f': \"192\",\n        },\n{\n            'v': 38,\n            'f': \"38\",\n        },\n{\n            'v': 163,\n            'f': \"163\",\n        },\n{\n            'v': 3.5799999237060547,\n            'f': \"3.5799999237060547\",\n        },\n\"Foreign\"],\n [{\n            'v': 64,\n            'f': \"64\",\n        },\n\"Renault Le Car\",\n{\n            'v': 3895,\n            'f': \"3895\",\n        },\n{\n            'v': 26,\n            'f': \"26\",\n        },\n{\n            'v': 3.0,\n            'f': \"3.0\",\n        },\n{\n            'v': 3.0,\n            'f': \"3.0\",\n        },\n{\n            'v': 10,\n            'f': \"10\",\n        },\n{\n            'v': 1830,\n            'f': \"1830\",\n        },\n{\n            'v': 142,\n            'f': \"142\",\n        },\n{\n            'v': 34,\n            'f': \"34\",\n        },\n{\n            'v': 79,\n            'f': \"79\",\n        },\n{\n            'v': 3.7200000286102295,\n            'f': \"3.7200000286102295\",\n        },\n\"Foreign\"],\n [{\n            'v': 65,\n            'f': \"65\",\n        },\n\"Subaru\",\n{\n            'v': 3798,\n            'f': \"3798\",\n        },\n{\n            'v': 35,\n            'f': \"35\",\n        },\n{\n            'v': 5.0,\n            'f': \"5.0\",\n        },\n{\n            'v': 2.5,\n            'f': \"2.5\",\n        },\n{\n            'v': 11,\n            'f': \"11\",\n        },\n{\n            'v': 2050,\n            'f': \"2050\",\n        },\n{\n            'v': 164,\n            'f': \"164\",\n        },\n{\n            'v': 36,\n            'f': \"36\",\n        },\n{\n            'v': 97,\n            'f': \"97\",\n        },\n{\n            'v': 3.809999942779541,\n            'f': \"3.809999942779541\",\n        },\n\"Foreign\"],\n [{\n            'v': 66,\n            'f': \"66\",\n        },\n\"Toyota Celica\",\n{\n            'v': 5899,\n            'f': \"5899\",\n        },\n{\n            'v': 18,\n            'f': \"18\",\n        },\n{\n            'v': 5.0,\n            'f': \"5.0\",\n        },\n{\n            'v': 2.5,\n            'f': \"2.5\",\n        },\n{\n            'v': 14,\n            'f': \"14\",\n        },\n{\n            'v': 2410,\n            'f': \"2410\",\n        },\n{\n            'v': 174,\n            'f': \"174\",\n        },\n{\n            'v': 36,\n            'f': \"36\",\n        },\n{\n            'v': 134,\n            'f': \"134\",\n        },\n{\n            'v': 3.059999942779541,\n            'f': \"3.059999942779541\",\n        },\n\"Foreign\"],\n [{\n            'v': 67,\n            'f': \"67\",\n        },\n\"Toyota Corolla\",\n{\n            'v': 3748,\n            'f': \"3748\",\n        },\n{\n            'v': 31,\n            'f': \"31\",\n        },\n{\n            'v': 5.0,\n            'f': \"5.0\",\n        },\n{\n            'v': 3.0,\n            'f': \"3.0\",\n        },\n{\n            'v': 9,\n            'f': \"9\",\n        },\n{\n            'v': 2200,\n            'f': \"2200\",\n        },\n{\n            'v': 165,\n            'f': \"165\",\n        },\n{\n            'v': 35,\n            'f': \"35\",\n        },\n{\n            'v': 97,\n            'f': \"97\",\n        },\n{\n            'v': 3.2100000381469727,\n            'f': \"3.2100000381469727\",\n        },\n\"Foreign\"],\n [{\n            'v': 68,\n            'f': \"68\",\n        },\n\"Toyota Corona\",\n{\n            'v': 5719,\n            'f': \"5719\",\n        },\n{\n            'v': 18,\n            'f': \"18\",\n        },\n{\n            'v': 5.0,\n            'f': \"5.0\",\n        },\n{\n            'v': 2.0,\n            'f': \"2.0\",\n        },\n{\n            'v': 11,\n            'f': \"11\",\n        },\n{\n            'v': 2670,\n            'f': \"2670\",\n        },\n{\n            'v': 175,\n            'f': \"175\",\n        },\n{\n            'v': 36,\n            'f': \"36\",\n        },\n{\n            'v': 134,\n            'f': \"134\",\n        },\n{\n            'v': 3.049999952316284,\n            'f': \"3.049999952316284\",\n        },\n\"Foreign\"],\n [{\n            'v': 69,\n            'f': \"69\",\n        },\n\"VW Dasher\",\n{\n            'v': 7140,\n            'f': \"7140\",\n        },\n{\n            'v': 23,\n            'f': \"23\",\n        },\n{\n            'v': 4.0,\n            'f': \"4.0\",\n        },\n{\n            'v': 2.5,\n            'f': \"2.5\",\n        },\n{\n            'v': 12,\n            'f': \"12\",\n        },\n{\n            'v': 2160,\n            'f': \"2160\",\n        },\n{\n            'v': 172,\n            'f': \"172\",\n        },\n{\n            'v': 36,\n            'f': \"36\",\n        },\n{\n            'v': 97,\n            'f': \"97\",\n        },\n{\n            'v': 3.740000009536743,\n            'f': \"3.740000009536743\",\n        },\n\"Foreign\"],\n [{\n            'v': 70,\n            'f': \"70\",\n        },\n\"VW Diesel\",\n{\n            'v': 5397,\n            'f': \"5397\",\n        },\n{\n            'v': 41,\n            'f': \"41\",\n        },\n{\n            'v': 5.0,\n            'f': \"5.0\",\n        },\n{\n            'v': 3.0,\n            'f': \"3.0\",\n        },\n{\n            'v': 15,\n            'f': \"15\",\n        },\n{\n            'v': 2040,\n            'f': \"2040\",\n        },\n{\n            'v': 155,\n            'f': \"155\",\n        },\n{\n            'v': 35,\n            'f': \"35\",\n        },\n{\n            'v': 90,\n            'f': \"90\",\n        },\n{\n            'v': 3.7799999713897705,\n            'f': \"3.7799999713897705\",\n        },\n\"Foreign\"],\n [{\n            'v': 71,\n            'f': \"71\",\n        },\n\"VW Rabbit\",\n{\n            'v': 4697,\n            'f': \"4697\",\n        },\n{\n            'v': 25,\n            'f': \"25\",\n        },\n{\n            'v': 4.0,\n            'f': \"4.0\",\n        },\n{\n            'v': 3.0,\n            'f': \"3.0\",\n        },\n{\n            'v': 15,\n            'f': \"15\",\n        },\n{\n            'v': 1930,\n            'f': \"1930\",\n        },\n{\n            'v': 155,\n            'f': \"155\",\n        },\n{\n            'v': 35,\n            'f': \"35\",\n        },\n{\n            'v': 89,\n            'f': \"89\",\n        },\n{\n            'v': 3.7799999713897705,\n            'f': \"3.7799999713897705\",\n        },\n\"Foreign\"],\n [{\n            'v': 72,\n            'f': \"72\",\n        },\n\"VW Scirocco\",\n{\n            'v': 6850,\n            'f': \"6850\",\n        },\n{\n            'v': 25,\n            'f': \"25\",\n        },\n{\n            'v': 4.0,\n            'f': \"4.0\",\n        },\n{\n            'v': 2.0,\n            'f': \"2.0\",\n        },\n{\n            'v': 16,\n            'f': \"16\",\n        },\n{\n            'v': 1990,\n            'f': \"1990\",\n        },\n{\n            'v': 156,\n            'f': \"156\",\n        },\n{\n            'v': 36,\n            'f': \"36\",\n        },\n{\n            'v': 97,\n            'f': \"97\",\n        },\n{\n            'v': 3.7799999713897705,\n            'f': \"3.7799999713897705\",\n        },\n\"Foreign\"],\n [{\n            'v': 73,\n            'f': \"73\",\n        },\n\"Volvo 260\",\n{\n            'v': 11995,\n            'f': \"11995\",\n        },\n{\n            'v': 17,\n            'f': \"17\",\n        },\n{\n            'v': 5.0,\n            'f': \"5.0\",\n        },\n{\n            'v': 2.5,\n            'f': \"2.5\",\n        },\n{\n            'v': 14,\n            'f': \"14\",\n        },\n{\n            'v': 3170,\n            'f': \"3170\",\n        },\n{\n            'v': 193,\n            'f': \"193\",\n        },\n{\n            'v': 37,\n            'f': \"37\",\n        },\n{\n            'v': 163,\n            'f': \"163\",\n        },\n{\n            'v': 2.9800000190734863,\n            'f': \"2.9800000190734863\",\n        },\n\"Foreign\"]],\n        columns: [[\"number\", \"index\"], [\"string\", \"make\"], [\"number\", \"price\"], [\"number\", \"mpg\"], [\"number\", \"rep78\"], [\"number\", \"headroom\"], [\"number\", \"trunk\"], [\"number\", \"weight\"], [\"number\", \"length\"], [\"number\", \"turn\"], [\"number\", \"displacement\"], [\"number\", \"gear_ratio\"], [\"string\", \"foreign\"]],\n        columnOptions: [{\"width\": \"1px\", \"className\": \"index_column\"}],\n        rowsPerPage: 25,\n        helpUrl: \"https://colab.research.google.com/notebooks/data_table.ipynb\",\n        suppressOutputScrolling: true,\n        minimumWidth: undefined,\n      });\n    "
          },
          "metadata": {},
          "execution_count": 42
        }
      ]
    },
    {
      "cell_type": "code",
      "source": [
        "fig, axs = plt.subplots(1,g.ngroups, sharey=True, tight_layout=True, figsize=(4, 3))\n",
        "for i, (grp, d) in enumerate(g):\n",
        "  axs[i].boxplot(d['mpg'])\n",
        "  axs[i].set_title(grp)\n",
        "  axs[i].set_xticklabels('')\n",
        ";\n",
        "\n",
        "#    ax = d.plot.bar(x='resource', y='average', ax=axes[i], title=country)\n",
        "#    ax.legend().remove()\n",
        "#\n"
      ],
      "metadata": {
        "id": "gm4H78UqiB73",
        "outputId": "5d067d42-563d-4844-e6d2-e5c5b57a59d5",
        "colab": {
          "base_uri": "https://localhost:8080/",
          "height": 560
        }
      },
      "execution_count": 51,
      "outputs": [
        {
          "output_type": "execute_result",
          "data": {
            "text/plain": [
              "{'whiskers': [<matplotlib.lines.Line2D at 0x7efca6c3c040>,\n",
              "  <matplotlib.lines.Line2D at 0x7efca6c473d0>],\n",
              " 'caps': [<matplotlib.lines.Line2D at 0x7efca6c47760>,\n",
              "  <matplotlib.lines.Line2D at 0x7efca69dadf0>],\n",
              " 'boxes': [<matplotlib.lines.Line2D at 0x7efca6c3cb20>],\n",
              " 'medians': [<matplotlib.lines.Line2D at 0x7efca69da220>],\n",
              " 'fliers': [<matplotlib.lines.Line2D at 0x7efca69dae50>],\n",
              " 'means': []}"
            ]
          },
          "metadata": {},
          "execution_count": 51
        },
        {
          "output_type": "execute_result",
          "data": {
            "text/plain": [
              "Text(0.5, 1.0, 'Domestic')"
            ]
          },
          "metadata": {},
          "execution_count": 51
        },
        {
          "output_type": "execute_result",
          "data": {
            "text/plain": [
              "[]"
            ]
          },
          "metadata": {},
          "execution_count": 51
        },
        {
          "output_type": "execute_result",
          "data": {
            "text/plain": [
              "{'whiskers': [<matplotlib.lines.Line2D at 0x7efca69da700>,\n",
              "  <matplotlib.lines.Line2D at 0x7efca6c63520>],\n",
              " 'caps': [<matplotlib.lines.Line2D at 0x7efca6c63d00>,\n",
              "  <matplotlib.lines.Line2D at 0x7efca6c639a0>],\n",
              " 'boxes': [<matplotlib.lines.Line2D at 0x7efca69da6a0>],\n",
              " 'medians': [<matplotlib.lines.Line2D at 0x7efca6c37910>],\n",
              " 'fliers': [<matplotlib.lines.Line2D at 0x7efca6c37ca0>],\n",
              " 'means': []}"
            ]
          },
          "metadata": {},
          "execution_count": 51
        },
        {
          "output_type": "execute_result",
          "data": {
            "text/plain": [
              "Text(0.5, 1.0, 'Foreign')"
            ]
          },
          "metadata": {},
          "execution_count": 51
        },
        {
          "output_type": "execute_result",
          "data": {
            "text/plain": [
              "[]"
            ]
          },
          "metadata": {},
          "execution_count": 51
        },
        {
          "output_type": "execute_result",
          "data": {
            "text/plain": [
              "''"
            ],
            "application/vnd.google.colaboratory.intrinsic+json": {
              "type": "string"
            }
          },
          "metadata": {},
          "execution_count": 51
        },
        {
          "output_type": "display_data",
          "data": {
            "text/plain": [
              "<Figure size 288x288 with 2 Axes>"
            ],
            "image/png": "[encoded data removed]"
          },
          "metadata": {
            "needs_background": "light"
          }
        }
      ]
    },
    {
      "cell_type": "code",
      "source": [
        "g = auto.groupby('rep78') #subset data into n groups\n",
        "g.ngroups"
      ],
      "metadata": {
        "id": "3T8XPKnfmiQH",
        "outputId": "36ee33fc-8ecd-4ab5-ff20-2aec5b7fb3b8",
        "colab": {
          "base_uri": "https://localhost:8080/"
        }
      },
      "execution_count": 109,
      "outputs": [
        {
          "output_type": "execute_result",
          "data": {
            "text/plain": [
              "5"
            ]
          },
          "metadata": {},
          "execution_count": 109
        }
      ]
    },
    {
      "cell_type": "code",
      "source": [
        "fig, axs = plt.subplots(1,g.ngroups, sharey=True, tight_layout=True, figsize=(8, 3))\n",
        "for i, (grp, d) in enumerate(g):\n",
        "  axs[i].hist(d['mpg'])\n",
        "  axs[i].set_title(grp)\n",
        "  #axs[i].set_xticklabels('')\n",
        ";"
      ],
      "metadata": {
        "id": "9VDVpVwVmcUG",
        "outputId": "e867626e-ea68-488c-99db-da66c48abb0c",
        "colab": {
          "base_uri": "https://localhost:8080/",
          "height": 418
        }
      },
      "execution_count": 110,
      "outputs": [
        {
          "output_type": "execute_result",
          "data": {
            "text/plain": [
              "(array([1., 0., 0., 0., 0., 0., 0., 0., 0., 1.]),\n",
              " array([18. , 18.6, 19.2, 19.8, 20.4, 21. , 21.6, 22.2, 22.8, 23.4, 24. ]),\n",
              " <a list of 10 Patch objects>)"
            ]
          },
          "metadata": {},
          "execution_count": 110
        },
        {
          "output_type": "execute_result",
          "data": {
            "text/plain": [
              "Text(0.5, 1.0, '1.0')"
            ]
          },
          "metadata": {},
          "execution_count": 110
        },
        {
          "output_type": "execute_result",
          "data": {
            "text/plain": [
              "(array([1., 0., 1., 1., 2., 0., 0., 0., 1., 2.]),\n",
              " array([14., 15., 16., 17., 18., 19., 20., 21., 22., 23., 24.]),\n",
              " <a list of 10 Patch objects>)"
            ]
          },
          "metadata": {},
          "execution_count": 110
        },
        {
          "output_type": "execute_result",
          "data": {
            "text/plain": [
              "Text(0.5, 1.0, '2.0')"
            ]
          },
          "metadata": {},
          "execution_count": 110
        },
        {
          "output_type": "execute_result",
          "data": {
            "text/plain": [
              "(array([ 2.,  3.,  3.,  2., 10.,  5.,  1.,  1.,  1.,  2.]),\n",
              " array([12. , 13.7, 15.4, 17.1, 18.8, 20.5, 22.2, 23.9, 25.6, 27.3, 29. ]),\n",
              " <a list of 10 Patch objects>)"
            ]
          },
          "metadata": {},
          "execution_count": 110
        },
        {
          "output_type": "execute_result",
          "data": {
            "text/plain": [
              "Text(0.5, 1.0, '3.0')"
            ]
          },
          "metadata": {},
          "execution_count": 110
        },
        {
          "output_type": "execute_result",
          "data": {
            "text/plain": [
              "(array([3., 1., 2., 0., 2., 3., 4., 0., 2., 1.]),\n",
              " array([14. , 15.6, 17.2, 18.8, 20.4, 22. , 23.6, 25.2, 26.8, 28.4, 30. ]),\n",
              " <a list of 10 Patch objects>)"
            ]
          },
          "metadata": {},
          "execution_count": 110
        },
        {
          "output_type": "execute_result",
          "data": {
            "text/plain": [
              "Text(0.5, 1.0, '4.0')"
            ]
          },
          "metadata": {},
          "execution_count": 110
        },
        {
          "output_type": "execute_result",
          "data": {
            "text/plain": [
              "(array([4., 0., 0., 1., 0., 2., 0., 3., 0., 1.]),\n",
              " array([17. , 19.4, 21.8, 24.2, 26.6, 29. , 31.4, 33.8, 36.2, 38.6, 41. ]),\n",
              " <a list of 10 Patch objects>)"
            ]
          },
          "metadata": {},
          "execution_count": 110
        },
        {
          "output_type": "execute_result",
          "data": {
            "text/plain": [
              "Text(0.5, 1.0, '5.0')"
            ]
          },
          "metadata": {},
          "execution_count": 110
        },
        {
          "output_type": "execute_result",
          "data": {
            "text/plain": [
              "''"
            ],
            "application/vnd.google.colaboratory.intrinsic+json": {
              "type": "string"
            }
          },
          "metadata": {},
          "execution_count": 110
        },
        {
          "output_type": "display_data",
          "data": {
            "text/plain": [
              "<Figure size 576x216 with 5 Axes>"
            ],
            "image/png": "[encoded data removed]"
          },
          "metadata": {
            "needs_background": "light"
          }
        }
      ]
    },
    {
      "cell_type": "code",
      "source": [
        "auto['longHeavy'] = (auto.weight >= auto.weight.mean()) & (auto.length >= auto.length.mean())"
      ],
      "metadata": {
        "id": "BZOoMEwPnOH9"
      },
      "execution_count": 56,
      "outputs": []
    },
    {
      "cell_type": "code",
      "source": [
        "auto['longHeavy']"
      ],
      "metadata": {
        "id": "j_9R311GoFYe",
        "outputId": "b6034849-9c9a-45b1-dffe-0cadb2887b2f",
        "colab": {
          "base_uri": "https://localhost:8080/"
        }
      },
      "execution_count": 61,
      "outputs": [
        {
          "output_type": "execute_result",
          "data": {
            "text/plain": [
              "0     False\n",
              "1     False\n",
              "2     False\n",
              "3      True\n",
              "4      True\n",
              "      ...  \n",
              "69    False\n",
              "70    False\n",
              "71    False\n",
              "72    False\n",
              "73     True\n",
              "Name: longHeavy, Length: 74, dtype: bool"
            ]
          },
          "metadata": {},
          "execution_count": 61
        }
      ]
    },
    {
      "cell_type": "code",
      "source": [
        "g = auto.groupby(['foreign','rep78']) #subset data into n groups\n",
        "g.ngroups"
      ],
      "metadata": {
        "id": "VOoOyXpdnaRN",
        "outputId": "b5d1a989-00e5-4b76-d527-da9a64c2ff0b",
        "colab": {
          "base_uri": "https://localhost:8080/"
        }
      },
      "execution_count": 67,
      "outputs": [
        {
          "output_type": "execute_result",
          "data": {
            "text/plain": [
              "8"
            ]
          },
          "metadata": {},
          "execution_count": 67
        }
      ]
    },
    {
      "cell_type": "code",
      "source": [
        "for i, (grp, d) in enumerate(g):\n",
        "  print(i,grp)"
      ],
      "metadata": {
        "id": "9h0_A44Uny5w",
        "outputId": "85358960-0cea-4451-c22a-b59fdb22325a",
        "colab": {
          "base_uri": "https://localhost:8080/"
        }
      },
      "execution_count": 111,
      "outputs": [
        {
          "output_type": "stream",
          "name": "stdout",
          "text": [
            "0 1.0\n",
            "1 2.0\n",
            "2 3.0\n",
            "3 4.0\n",
            "4 5.0\n"
          ]
        }
      ]
    },
    {
      "cell_type": "code",
      "source": [
        "#make it cleaner\n",
        "auto.replace({'foreign' : { 'Domestic' : 'D', 'Foreign' : 'F' }},inplace=True)"
      ],
      "metadata": {
        "id": "wPriGWeNpUdG"
      },
      "execution_count": 66,
      "outputs": []
    },
    {
      "cell_type": "code",
      "source": [
        "fig, axs = plt.subplots(1,g.ngroups, sharey=True,sharex=True, tight_layout=True, figsize=(10, 2))\n",
        "for i, (grp, d) in enumerate(g):\n",
        "  axs[i].hist(d['mpg'])\n",
        "  axs[i].set_title(grp)\n",
        "  #axs[i].set_xticklabels('')\n",
        ";"
      ],
      "metadata": {
        "id": "cQZzePrroeYB",
        "outputId": "acd456e9-1343-47f1-ce06-33fedbd0ad04",
        "colab": {
          "base_uri": "https://localhost:8080/",
          "height": 450
        }
      },
      "execution_count": 71,
      "outputs": [
        {
          "output_type": "execute_result",
          "data": {
            "text/plain": [
              "(array([1., 0., 0., 0., 0., 0., 0., 0., 0., 1.]),\n",
              " array([18. , 18.6, 19.2, 19.8, 20.4, 21. , 21.6, 22.2, 22.8, 23.4, 24. ]),\n",
              " <a list of 10 Patch objects>)"
            ]
          },
          "metadata": {},
          "execution_count": 71
        },
        {
          "output_type": "execute_result",
          "data": {
            "text/plain": [
              "Text(0.5, 1.0, \"('D', 1.0)\")"
            ]
          },
          "metadata": {},
          "execution_count": 71
        },
        {
          "output_type": "execute_result",
          "data": {
            "text/plain": [
              "(array([1., 0., 1., 1., 2., 0., 0., 0., 1., 2.]),\n",
              " array([14., 15., 16., 17., 18., 19., 20., 21., 22., 23., 24.]),\n",
              " <a list of 10 Patch objects>)"
            ]
          },
          "metadata": {},
          "execution_count": 71
        },
        {
          "output_type": "execute_result",
          "data": {
            "text/plain": [
              "Text(0.5, 1.0, \"('D', 2.0)\")"
            ]
          },
          "metadata": {},
          "execution_count": 71
        },
        {
          "output_type": "execute_result",
          "data": {
            "text/plain": [
              "(array([ 2.,  3.,  3.,  2., 10.,  4.,  0.,  1.,  0.,  2.]),\n",
              " array([12. , 13.7, 15.4, 17.1, 18.8, 20.5, 22.2, 23.9, 25.6, 27.3, 29. ]),\n",
              " <a list of 10 Patch objects>)"
            ]
          },
          "metadata": {},
          "execution_count": 71
        },
        {
          "output_type": "execute_result",
          "data": {
            "text/plain": [
              "Text(0.5, 1.0, \"('D', 3.0)\")"
            ]
          },
          "metadata": {},
          "execution_count": 71
        },
        {
          "output_type": "execute_result",
          "data": {
            "text/plain": [
              "(array([3., 1., 2., 0., 0., 2., 0., 0., 0., 1.]),\n",
              " array([14. , 15.4, 16.8, 18.2, 19.6, 21. , 22.4, 23.8, 25.2, 26.6, 28. ]),\n",
              " <a list of 10 Patch objects>)"
            ]
          },
          "metadata": {},
          "execution_count": 71
        },
        {
          "output_type": "execute_result",
          "data": {
            "text/plain": [
              "Text(0.5, 1.0, \"('D', 4.0)\")"
            ]
          },
          "metadata": {},
          "execution_count": 71
        },
        {
          "output_type": "execute_result",
          "data": {
            "text/plain": [
              "(array([1., 0., 0., 0., 0., 0., 0., 0., 0., 1.]),\n",
              " array([30. , 30.4, 30.8, 31.2, 31.6, 32. , 32.4, 32.8, 33.2, 33.6, 34. ]),\n",
              " <a list of 10 Patch objects>)"
            ]
          },
          "metadata": {},
          "execution_count": 71
        },
        {
          "output_type": "execute_result",
          "data": {
            "text/plain": [
              "Text(0.5, 1.0, \"('D', 5.0)\")"
            ]
          },
          "metadata": {},
          "execution_count": 71
        },
        {
          "output_type": "execute_result",
          "data": {
            "text/plain": [
              "(array([1., 0., 0., 0., 1., 0., 0., 0., 0., 1.]),\n",
              " array([21. , 21.5, 22. , 22.5, 23. , 23.5, 24. , 24.5, 25. , 25.5, 26. ]),\n",
              " <a list of 10 Patch objects>)"
            ]
          },
          "metadata": {},
          "execution_count": 71
        },
        {
          "output_type": "execute_result",
          "data": {
            "text/plain": [
              "Text(0.5, 1.0, \"('F', 3.0)\")"
            ]
          },
          "metadata": {},
          "execution_count": 71
        },
        {
          "output_type": "execute_result",
          "data": {
            "text/plain": [
              "(array([1., 0., 2., 1., 3., 0., 0., 1., 0., 1.]),\n",
              " array([21. , 21.9, 22.8, 23.7, 24.6, 25.5, 26.4, 27.3, 28.2, 29.1, 30. ]),\n",
              " <a list of 10 Patch objects>)"
            ]
          },
          "metadata": {},
          "execution_count": 71
        },
        {
          "output_type": "execute_result",
          "data": {
            "text/plain": [
              "Text(0.5, 1.0, \"('F', 4.0)\")"
            ]
          },
          "metadata": {},
          "execution_count": 71
        },
        {
          "output_type": "execute_result",
          "data": {
            "text/plain": [
              "(array([4., 0., 0., 1., 0., 1., 0., 2., 0., 1.]),\n",
              " array([17. , 19.4, 21.8, 24.2, 26.6, 29. , 31.4, 33.8, 36.2, 38.6, 41. ]),\n",
              " <a list of 10 Patch objects>)"
            ]
          },
          "metadata": {},
          "execution_count": 71
        },
        {
          "output_type": "execute_result",
          "data": {
            "text/plain": [
              "Text(0.5, 1.0, \"('F', 5.0)\")"
            ]
          },
          "metadata": {},
          "execution_count": 71
        },
        {
          "output_type": "execute_result",
          "data": {
            "text/plain": [
              "''"
            ],
            "application/vnd.google.colaboratory.intrinsic+json": {
              "type": "string"
            }
          },
          "metadata": {},
          "execution_count": 71
        },
        {
          "output_type": "display_data",
          "data": {
            "text/plain": [
              "<Figure size 720x144 with 8 Axes>"
            ],
            "image/png": "[encoded data removed]"
          },
          "metadata": {
            "needs_background": "light"
          }
        }
      ]
    },
    {
      "cell_type": "code",
      "source": [
        "g = auto.groupby(['rep78']) #subset data into n groups\n",
        "g.ngroups"
      ],
      "metadata": {
        "id": "5nwIfafIrPdr",
        "outputId": "9cd3bf7c-0ed0-493c-fc64-e1861d316997",
        "colab": {
          "base_uri": "https://localhost:8080/"
        }
      },
      "execution_count": 72,
      "outputs": [
        {
          "output_type": "execute_result",
          "data": {
            "text/plain": [
              "5"
            ]
          },
          "metadata": {},
          "execution_count": 72
        }
      ]
    },
    {
      "cell_type": "code",
      "source": [
        "fig, axs = plt.subplots(1,g.ngroups, sharey=True, tight_layout=True, figsize=(8, 3))\n",
        "for i, (grp, d) in enumerate(g):\n",
        "  axs[i].hist(d.mpg[d.foreign==\"D\"])  \n",
        "  axs[i].hist(d.mpg[d.foreign==\"F\"],alpha=.5)\n",
        "  axs[i].set_title(grp)\n",
        "  #axs[i].set_xticklabels('')\n",
        ";"
      ],
      "metadata": {
        "id": "4dEtq3YtrZYQ",
        "outputId": "6f1d575b-9761-4bcb-8dfc-23e6ebab0e71",
        "colab": {
          "base_uri": "https://localhost:8080/",
          "height": 592
        }
      },
      "execution_count": 112,
      "outputs": [
        {
          "output_type": "execute_result",
          "data": {
            "text/plain": [
              "(array([1., 0., 0., 0., 0., 0., 0., 0., 0., 1.]),\n",
              " array([18. , 18.6, 19.2, 19.8, 20.4, 21. , 21.6, 22.2, 22.8, 23.4, 24. ]),\n",
              " <a list of 10 Patch objects>)"
            ]
          },
          "metadata": {},
          "execution_count": 112
        },
        {
          "output_type": "execute_result",
          "data": {
            "text/plain": [
              "(array([0., 0., 0., 0., 0., 0., 0., 0., 0., 0.]),\n",
              " array([0. , 0.1, 0.2, 0.3, 0.4, 0.5, 0.6, 0.7, 0.8, 0.9, 1. ]),\n",
              " <a list of 10 Patch objects>)"
            ]
          },
          "metadata": {},
          "execution_count": 112
        },
        {
          "output_type": "execute_result",
          "data": {
            "text/plain": [
              "Text(0.5, 1.0, '1.0')"
            ]
          },
          "metadata": {},
          "execution_count": 112
        },
        {
          "output_type": "execute_result",
          "data": {
            "text/plain": [
              "(array([1., 0., 1., 1., 2., 0., 0., 0., 1., 2.]),\n",
              " array([14., 15., 16., 17., 18., 19., 20., 21., 22., 23., 24.]),\n",
              " <a list of 10 Patch objects>)"
            ]
          },
          "metadata": {},
          "execution_count": 112
        },
        {
          "output_type": "execute_result",
          "data": {
            "text/plain": [
              "(array([0., 0., 0., 0., 0., 0., 0., 0., 0., 0.]),\n",
              " array([0. , 0.1, 0.2, 0.3, 0.4, 0.5, 0.6, 0.7, 0.8, 0.9, 1. ]),\n",
              " <a list of 10 Patch objects>)"
            ]
          },
          "metadata": {},
          "execution_count": 112
        },
        {
          "output_type": "execute_result",
          "data": {
            "text/plain": [
              "Text(0.5, 1.0, '2.0')"
            ]
          },
          "metadata": {},
          "execution_count": 112
        },
        {
          "output_type": "execute_result",
          "data": {
            "text/plain": [
              "(array([ 2.,  3.,  3.,  2., 10.,  4.,  0.,  1.,  0.,  2.]),\n",
              " array([12. , 13.7, 15.4, 17.1, 18.8, 20.5, 22.2, 23.9, 25.6, 27.3, 29. ]),\n",
              " <a list of 10 Patch objects>)"
            ]
          },
          "metadata": {},
          "execution_count": 112
        },
        {
          "output_type": "execute_result",
          "data": {
            "text/plain": [
              "(array([1., 0., 0., 0., 1., 0., 0., 0., 0., 1.]),\n",
              " array([21. , 21.5, 22. , 22.5, 23. , 23.5, 24. , 24.5, 25. , 25.5, 26. ]),\n",
              " <a list of 10 Patch objects>)"
            ]
          },
          "metadata": {},
          "execution_count": 112
        },
        {
          "output_type": "execute_result",
          "data": {
            "text/plain": [
              "Text(0.5, 1.0, '3.0')"
            ]
          },
          "metadata": {},
          "execution_count": 112
        },
        {
          "output_type": "execute_result",
          "data": {
            "text/plain": [
              "(array([3., 1., 2., 0., 0., 2., 0., 0., 0., 1.]),\n",
              " array([14. , 15.4, 16.8, 18.2, 19.6, 21. , 22.4, 23.8, 25.2, 26.6, 28. ]),\n",
              " <a list of 10 Patch objects>)"
            ]
          },
          "metadata": {},
          "execution_count": 112
        },
        {
          "output_type": "execute_result",
          "data": {
            "text/plain": [
              "(array([1., 0., 2., 1., 3., 0., 0., 1., 0., 1.]),\n",
              " array([21. , 21.9, 22.8, 23.7, 24.6, 25.5, 26.4, 27.3, 28.2, 29.1, 30. ]),\n",
              " <a list of 10 Patch objects>)"
            ]
          },
          "metadata": {},
          "execution_count": 112
        },
        {
          "output_type": "execute_result",
          "data": {
            "text/plain": [
              "Text(0.5, 1.0, '4.0')"
            ]
          },
          "metadata": {},
          "execution_count": 112
        },
        {
          "output_type": "execute_result",
          "data": {
            "text/plain": [
              "(array([1., 0., 0., 0., 0., 0., 0., 0., 0., 1.]),\n",
              " array([30. , 30.4, 30.8, 31.2, 31.6, 32. , 32.4, 32.8, 33.2, 33.6, 34. ]),\n",
              " <a list of 10 Patch objects>)"
            ]
          },
          "metadata": {},
          "execution_count": 112
        },
        {
          "output_type": "execute_result",
          "data": {
            "text/plain": [
              "(array([4., 0., 0., 1., 0., 1., 0., 2., 0., 1.]),\n",
              " array([17. , 19.4, 21.8, 24.2, 26.6, 29. , 31.4, 33.8, 36.2, 38.6, 41. ]),\n",
              " <a list of 10 Patch objects>)"
            ]
          },
          "metadata": {},
          "execution_count": 112
        },
        {
          "output_type": "execute_result",
          "data": {
            "text/plain": [
              "Text(0.5, 1.0, '5.0')"
            ]
          },
          "metadata": {},
          "execution_count": 112
        },
        {
          "output_type": "execute_result",
          "data": {
            "text/plain": [
              "''"
            ],
            "application/vnd.google.colaboratory.intrinsic+json": {
              "type": "string"
            }
          },
          "metadata": {},
          "execution_count": 112
        },
        {
          "output_type": "display_data",
          "data": {
            "text/plain": [
              "<Figure size 576x216 with 5 Axes>"
            ],
            "image/png": "[encoded data removed]"
          },
          "metadata": {
            "needs_background": "light"
          }
        }
      ]
    },
    {
      "cell_type": "code",
      "source": [
        "fig, axs = plt.subplots(1,g.ngroups, sharey=True, tight_layout=True, figsize=(8, 3))\n",
        "for i, (grp, d) in enumerate(g):\n",
        "  axs[i].hist(d.mpg[d.foreign==\"D\"])  \n",
        "  axs[i].hist(d.mpg[d.foreign==\"F\"],alpha=.5)\n",
        "  axs[i].set_title(grp)\n",
        "  #axs[i].set_xticklabels('')\n",
        ";"
      ],
      "metadata": {
        "id": "RmeFxBTIsWbl",
        "outputId": "ac94b2c0-a9f2-4f7a-9b6a-d27d1a763181",
        "colab": {
          "base_uri": "https://localhost:8080/",
          "height": 592
        }
      },
      "execution_count": 83,
      "outputs": [
        {
          "output_type": "execute_result",
          "data": {
            "text/plain": [
              "(array([1., 0., 0., 0., 0., 0., 0., 0., 0., 1.]),\n",
              " array([18. , 18.6, 19.2, 19.8, 20.4, 21. , 21.6, 22.2, 22.8, 23.4, 24. ]),\n",
              " <a list of 10 Patch objects>)"
            ]
          },
          "metadata": {},
          "execution_count": 83
        },
        {
          "output_type": "execute_result",
          "data": {
            "text/plain": [
              "(array([0., 0., 0., 0., 0., 0., 0., 0., 0., 0.]),\n",
              " array([0. , 0.1, 0.2, 0.3, 0.4, 0.5, 0.6, 0.7, 0.8, 0.9, 1. ]),\n",
              " <a list of 10 Patch objects>)"
            ]
          },
          "metadata": {},
          "execution_count": 83
        },
        {
          "output_type": "execute_result",
          "data": {
            "text/plain": [
              "Text(0.5, 1.0, '1.0')"
            ]
          },
          "metadata": {},
          "execution_count": 83
        },
        {
          "output_type": "execute_result",
          "data": {
            "text/plain": [
              "(array([1., 0., 1., 1., 2., 0., 0., 0., 1., 2.]),\n",
              " array([14., 15., 16., 17., 18., 19., 20., 21., 22., 23., 24.]),\n",
              " <a list of 10 Patch objects>)"
            ]
          },
          "metadata": {},
          "execution_count": 83
        },
        {
          "output_type": "execute_result",
          "data": {
            "text/plain": [
              "(array([0., 0., 0., 0., 0., 0., 0., 0., 0., 0.]),\n",
              " array([0. , 0.1, 0.2, 0.3, 0.4, 0.5, 0.6, 0.7, 0.8, 0.9, 1. ]),\n",
              " <a list of 10 Patch objects>)"
            ]
          },
          "metadata": {},
          "execution_count": 83
        },
        {
          "output_type": "execute_result",
          "data": {
            "text/plain": [
              "Text(0.5, 1.0, '2.0')"
            ]
          },
          "metadata": {},
          "execution_count": 83
        },
        {
          "output_type": "execute_result",
          "data": {
            "text/plain": [
              "(array([ 2.,  3.,  3.,  2., 10.,  4.,  0.,  1.,  0.,  2.]),\n",
              " array([12. , 13.7, 15.4, 17.1, 18.8, 20.5, 22.2, 23.9, 25.6, 27.3, 29. ]),\n",
              " <a list of 10 Patch objects>)"
            ]
          },
          "metadata": {},
          "execution_count": 83
        },
        {
          "output_type": "execute_result",
          "data": {
            "text/plain": [
              "(array([1., 0., 0., 0., 1., 0., 0., 0., 0., 1.]),\n",
              " array([21. , 21.5, 22. , 22.5, 23. , 23.5, 24. , 24.5, 25. , 25.5, 26. ]),\n",
              " <a list of 10 Patch objects>)"
            ]
          },
          "metadata": {},
          "execution_count": 83
        },
        {
          "output_type": "execute_result",
          "data": {
            "text/plain": [
              "Text(0.5, 1.0, '3.0')"
            ]
          },
          "metadata": {},
          "execution_count": 83
        },
        {
          "output_type": "execute_result",
          "data": {
            "text/plain": [
              "(array([3., 1., 2., 0., 0., 2., 0., 0., 0., 1.]),\n",
              " array([14. , 15.4, 16.8, 18.2, 19.6, 21. , 22.4, 23.8, 25.2, 26.6, 28. ]),\n",
              " <a list of 10 Patch objects>)"
            ]
          },
          "metadata": {},
          "execution_count": 83
        },
        {
          "output_type": "execute_result",
          "data": {
            "text/plain": [
              "(array([1., 0., 2., 1., 3., 0., 0., 1., 0., 1.]),\n",
              " array([21. , 21.9, 22.8, 23.7, 24.6, 25.5, 26.4, 27.3, 28.2, 29.1, 30. ]),\n",
              " <a list of 10 Patch objects>)"
            ]
          },
          "metadata": {},
          "execution_count": 83
        },
        {
          "output_type": "execute_result",
          "data": {
            "text/plain": [
              "Text(0.5, 1.0, '4.0')"
            ]
          },
          "metadata": {},
          "execution_count": 83
        },
        {
          "output_type": "execute_result",
          "data": {
            "text/plain": [
              "(array([1., 0., 0., 0., 0., 0., 0., 0., 0., 1.]),\n",
              " array([30. , 30.4, 30.8, 31.2, 31.6, 32. , 32.4, 32.8, 33.2, 33.6, 34. ]),\n",
              " <a list of 10 Patch objects>)"
            ]
          },
          "metadata": {},
          "execution_count": 83
        },
        {
          "output_type": "execute_result",
          "data": {
            "text/plain": [
              "(array([4., 0., 0., 1., 0., 1., 0., 2., 0., 1.]),\n",
              " array([17. , 19.4, 21.8, 24.2, 26.6, 29. , 31.4, 33.8, 36.2, 38.6, 41. ]),\n",
              " <a list of 10 Patch objects>)"
            ]
          },
          "metadata": {},
          "execution_count": 83
        },
        {
          "output_type": "execute_result",
          "data": {
            "text/plain": [
              "Text(0.5, 1.0, '5.0')"
            ]
          },
          "metadata": {},
          "execution_count": 83
        },
        {
          "output_type": "execute_result",
          "data": {
            "text/plain": [
              "''"
            ],
            "application/vnd.google.colaboratory.intrinsic+json": {
              "type": "string"
            }
          },
          "metadata": {},
          "execution_count": 83
        },
        {
          "output_type": "display_data",
          "data": {
            "text/plain": [
              "<Figure size 576x216 with 5 Axes>"
            ],
            "image/png": "[encoded data removed]"
          },
          "metadata": {
            "needs_background": "light"
          }
        }
      ]
    },
    {
      "cell_type": "code",
      "source": [
        "fig, axs = plt.subplots(1,g.ngroups, sharey=True, tight_layout=True, figsize=(8, 3))\n",
        "for i, (grp, d) in enumerate(g):\n",
        "  #d.mpg[d.foreign==\"D\"].plot.kde(ax=axs[i]);\n",
        "  d.mpg[d.foreign==\"D\"].plot(kind = 'density',ax=axs[i]) #pandas\n",
        "  try:\n",
        "    d.mpg[d.foreign==\"F\"].plot(kind = 'density',ax=axs[i]) #pandas #BUG brekas bc obs doesnt exist\n",
        "  except Exception: \n",
        "    pass\n",
        "  #axs[i].hist(d.mpg[d.foreign==\"D\"])  \n",
        "  #axs[i].hist(d.mpg[d.foreign==\"F\"],alpha=.5)\n",
        "  axs[i].set_title(grp)\n",
        "  #axs[i].set_xticklabels('')\n",
        "plt.legend([\"D\",\"F\"],loc='upper left');"
      ],
      "metadata": {
        "id": "BnH3hgs-t8Or",
        "outputId": "316c908c-fd7c-438e-ee97-40ac0dd3dbb5",
        "colab": {
          "base_uri": "https://localhost:8080/",
          "height": 225
        }
      },
      "execution_count": 133,
      "outputs": [
        {
          "output_type": "display_data",
          "data": {
            "text/plain": [
              "<Figure size 576x216 with 5 Axes>"
            ],
            "image/png": "[encoded data removed]"
          },
          "metadata": {
            "needs_background": "light"
          }
        }
      ]
    },
    {
      "cell_type": "markdown",
      "source": [
        "# single density withjou t looping"
      ],
      "metadata": {
        "id": "4ayRiMTfz3n6"
      }
    },
    {
      "cell_type": "code",
      "source": [
        "#auto.mpg.hist();\n",
        "#auto.mpg.plot(kind = 'hist')\n",
        "auto.mpg.plot(kind = 'density') #pandas\n",
        "sns.kdeplot(auto.mpg, bw_method = .2) #sns Lower values lead to a more “wiggly” plot"
      ],
      "metadata": {
        "id": "ipuOaq91z710",
        "outputId": "57ee49a6-e3e1-472a-b971-dd006c9ba42a",
        "colab": {
          "base_uri": "https://localhost:8080/",
          "height": 296
        }
      },
      "execution_count": 101,
      "outputs": [
        {
          "output_type": "execute_result",
          "data": {
            "text/plain": [
              "<matplotlib.axes._subplots.AxesSubplot at 0x7efca47c0250>"
            ]
          },
          "metadata": {},
          "execution_count": 101
        },
        {
          "output_type": "execute_result",
          "data": {
            "text/plain": [
              "<matplotlib.axes._subplots.AxesSubplot at 0x7efca47c0250>"
            ]
          },
          "metadata": {},
          "execution_count": 101
        },
        {
          "output_type": "display_data",
          "data": {
            "text/plain": [
              "<Figure size 432x288 with 1 Axes>"
            ],
            "image/png": "[encoded data removed]"
          },
          "metadata": {
            "needs_background": "light"
          }
        }
      ]
    },
    {
      "cell_type": "code",
      "source": [
        "auto.mpg.plot.kde();"
      ],
      "metadata": {
        "id": "ny5A16LU3d_O",
        "outputId": "d756c619-3ef8-429a-dd06-e9c0fd9d733f",
        "colab": {
          "base_uri": "https://localhost:8080/",
          "height": 265
        }
      },
      "execution_count": 117,
      "outputs": [
        {
          "output_type": "display_data",
          "data": {
            "text/plain": [
              "<Figure size 432x288 with 1 Axes>"
            ],
            "image/png": "[encoded data removed]"
          },
          "metadata": {
            "needs_background": "light"
          }
        }
      ]
    }
  ]
}